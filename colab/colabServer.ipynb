{
  "cells": [
    {
      "cell_type": "markdown",
      "metadata": {
        "colab_type": "text",
        "id": "view-in-github"
      },
      "source": [
        "<a href=\"https://colab.research.google.com/github/sergfer26/Proyectos-II/blob/main/colab/colabServer.ipynb\" target=\"_parent\"><img src=\"https://colab.research.google.com/assets/colab-badge.svg\" alt=\"Open In Colab\"/></a>"
      ]
    },
    {
      "cell_type": "markdown",
      "metadata": {
        "id": "Wr7R07n82reF"
      },
      "source": [
        "# Conectarse a Google Colab usando SSH "
      ]
    },
    {
      "cell_type": "markdown",
      "metadata": {},
      "source": [
        "## 1. Instalar SSH en Windows"
      ]
    },
    {
      "cell_type": "markdown",
      "metadata": {},
      "source": [
        "Para conectarnos desde Windows vía SSH necesitamos instalar un cliente de SSH. La forma más simple de instalar SSH se describe en [este artículo de Microsoft](https://docs.microsoft.com/en-us/windows-server/administration/openssh/openssh_install_firstuse)."
      ]
    },
    {
      "cell_type": "markdown",
      "metadata": {
        "id": "wiLGEKdzsTE0"
      },
      "source": [
        "## 2. Ngrok\n",
        "\n",
        "Para conectarnos al servidor de Colab con SSH necesitamos tunelizar la conexión del servidor de Colab con el cliente de _Ngrok_. Para ello, primero cree una cuenta en [el sitio de Ngrok](https://dashboard.ngrok.com/signup)."
      ]
    },
    {
      "cell_type": "markdown",
      "metadata": {},
      "source": [
        "## 3. Reenvío de puerto SSH desde Colab"
      ]
    },
    {
      "cell_type": "markdown",
      "metadata": {},
      "source": [
        "El siguiente código genera una contraseña aleatoria para el usuario `root` en el servidor de Colab. Utilizaremos esta información más adelante."
      ]
    },
    {
      "cell_type": "code",
      "execution_count": null,
      "metadata": {},
      "outputs": [],
      "source": [
        "#1 - Setup ssh/user \n",
        "\n",
        "#Generate a random root password\n",
        "import random, string\n",
        "password = ''.join(random.choice(string.ascii_letters + string.digits) for i in range(30))\n",
        "\n",
        "\n",
        "#Setup sshd\n",
        "! apt-get install -qq -o=Dpkg::Use-Pty=0 openssh-server pwgen > /dev/null\n",
        "\n",
        "#Set root password\n",
        "! echo root:$password | chpasswd\n",
        "! mkdir -p /var/run/sshd\n",
        "! echo \"PermitRootLogin yes\" >> /etc/ssh/sshd_config\n",
        "! echo \"PasswordAuthentication yes\" >> /etc/ssh/sshd_config\n",
        "\n",
        "print(\"username: root\")\n",
        "print(\"password: \", password)\n",
        "\n",
        "#Run sshd\n",
        "from IPython import get_ipython\n",
        "get_ipython().system_raw('/usr/sbin/sshd -D &')"
      ]
    },
    {
      "cell_type": "markdown",
      "metadata": {},
      "source": [
        "A continuación descargamos el cliente de _Ngrok_ al servidor de Colab."
      ]
    },
    {
      "cell_type": "code",
      "execution_count": null,
      "metadata": {},
      "outputs": [],
      "source": [
        "# 2 - Download Ngrok\n",
        "\n",
        "! wget -q -c -nc https://bin.equinox.io/c/4VmDzA7iaHb/ngrok-stable-linux-amd64.zip\n",
        "! unzip -qq -n ngrok-stable-linux-amd64.zip"
      ]
    },
    {
      "cell_type": "markdown",
      "metadata": {},
      "source": [
        "El siguiente paso es tunelizar el puerto 22 del servidor de Colab a través de _Ngrok_. Debemos ir a [https://dashboard.ngrok.com/auth](https://dashboard.ngrok.com/auth) para obtener nuestro `authtoken`. \n",
        "\n",
        "Cuando ejecutemos la siguiente casilla de código, debemos copiar el `authtoken` y pegarlo en el _prompt_ que aparecerá a continuación.\n",
        "\n",
        "_Nota_: El `authtoken` generado por _Ngrok_ nos permite autenticarnos, de tal modo que podamos ver los detalles de la conexión que está siendo tunelizada desde [el _dashboard_ de _Ngrok_](https://dashboard.ngrok.com/endpoints/status)."
      ]
    },
    {
      "cell_type": "code",
      "execution_count": null,
      "metadata": {},
      "outputs": [],
      "source": [
        "# 3 - Setup Ngrok - authtoken\n",
        "\n",
        "#Ask token\n",
        "print(\"Get your authtoken from https://dashboard.ngrok.com/auth\")\n",
        "import getpass\n",
        "authtoken = getpass.getpass()\n",
        "\n",
        "#Create tunnel\n",
        "get_ipython().system_raw('./ngrok authtoken $authtoken && ./ngrok tcp 22 &')"
      ]
    },
    {
      "cell_type": "markdown",
      "metadata": {},
      "source": [
        "## 4. Establecer conexión SSH"
      ]
    },
    {
      "cell_type": "markdown",
      "metadata": {},
      "source": [
        "Después del anterior paso, ve a [https://dashboard.ngrok.com/status](https://dashboard.ngrok.com/status) y deberíamos poder ver algo así:\n",
        "\n",
        ">URL: `tcp://0.tcp.ngrok.io:[ngrok_port]`\n",
        ">\n",
        ">Client IP: \\*\\*\\*.\\*\\*\\*.\\*\\*\\*.\\*\\*\\*\n",
        ">\n",
        ">Region: `us`\n",
        ">\n",
        ">Established: May 17th, 2019 08:44:18 UTC\n"
      ]
    },
    {
      "cell_type": "markdown",
      "metadata": {},
      "source": [
        "Finalmente, podemos establecer la conexión con SSH:\n",
        "\n",
        "```bash\n",
        "ssh root@0.tcp.ngrok.io -p [ngrok_port]\n",
        "\n",
        "> Igresa la contraseña creada anteriormente\n",
        "\n",
        "```"
      ]
    },
    {
      "cell_type": "markdown",
      "metadata": {},
      "source": [
        "## Desarrollo Remoto usando SSH\n",
        "\n",
        "Para conectarnos al servidor de Colab y hacer desarrollo desde ahí con nuestro cliente de Visual Studio Code localmente podemos seguir las instrucciones en [https://code.visualstudio.com/docs/remote/ssh](https://code.visualstudio.com/docs/remote/ssh)."
      ]
    },
    {
      "cell_type": "markdown",
      "metadata": {
        "id": "uE2LxBMHwiJj"
      },
      "source": [
        "## Transferir archivos al servidor Colab\n",
        "\n",
        "Instalen WinSCP [https://winscp.net/download/WinSCP-5.19.4-Setup.exe](https://winscp.net/download/WinSCP-5.19.4-Setup.exe) e inicien la conexión con las credenciales:\n",
        "\n",
        "> Host name: `0.tcp.ngrok.io`\n",
        "> \n",
        "> Port number: \\<Puerto establecido por Ngrok\\>\n",
        "> \n",
        "> User name: root\n",
        "> \n",
        "> Password: \\<Contraseña antes generada\\>\n"
      ]
    },
    {
      "cell_type": "markdown",
      "metadata": {
        "id": "qX-ld0VolJmu"
      },
      "source": [
        "Una vez conectados al servidor pueden abrir una sesion de screen y ahi correr su codigo."
      ]
    },
    {
      "cell_type": "markdown",
      "metadata": {
        "id": "gfTmPOxyyBGu"
      },
      "source": [
        "* Screen\n",
        "\n",
        "Les ha pasado una situación en la que tienen una tarea de larga duración en una máquina remota y, de repente, la conexión se interrumpe, la sesión SSH finaliza y el trabajo se pierde? \n",
        "\n",
        "Por suerte, existe un programa llamado screen que permite retomar las sesiones.\n",
        "\n",
        "Los procesos que se ejecutan con screen continuarán ejecutándose aun cuando ls ventana no sea visible o incluso si se desconecta."
      ]
    },
    {
      "cell_type": "markdown",
      "metadata": {
        "id": "nV_fV6qllXT5"
      },
      "source": [
        "* Uso básico de la pantalla de Linux\n",
        "\n",
        "Los pasos más básicos para comenzar con la pantalla:\n",
        "\n",
        "1. En el shell del sistema, escribir el comando screen.\n",
        "2. Ejecuten el programa deseado.\n",
        "3. Utiliza la secuencia de teclas Ctrl-a + Ctrl-d para desconectarse de la sesión de pantalla.\n",
        "4. Vuelvan a conectarse a la sesión de pantalla escribiendo screen -r.\n",
        "\n",
        "El comando screen abrirá una sesión de pantalla, creará una nueva ventana e iniciará un shell en esa ventana.\n",
        "\n",
        "Se puede obtener una lista de comandos escribiendo:\n",
        "\n",
        "Ctrl + a?\n",
        "\n",
        "Cuando inicia una nueva sesión de pantalla, crea una única ventana con un caparazón en ella.\n",
        "\n",
        "Algunos de los comandos más comunes para administrar Screen:\n",
        "\n",
        "Ctrl + a c Crea una nueva ventana (con shell).\n",
        "Ctrl + a \" Lista todas las ventanas.\n",
        "Ctrl + a 0 Cambiar a la ventana 0 (por número).\n",
        "Ctrl + a A Cambiar el nombre de la ventana actual.\n",
        "Ctrl + a S Divide la región actual horizontalmente en dos regiones.\n",
        "Ctrl + a | Divide la región actual verticalmente en dos regiones.\n",
        "Ctrl + una pestaña Cambia el foco de entrada a la siguiente región.\n",
        "Ctrl + a Ctrl + a Alternar entre la ventana actual y la anterior\n",
        "Ctrl + a Q Cerrar todas las regiones menos la actual.\n",
        "Ctrl + a X Cierra la región actual.\n",
        "\n",
        "* Desconectar de la sesión de pantalla de Linux\n",
        "Pueden desconectarse de la sesión de pantalla escribiendo:\n",
        "\n",
        "Ctrl + a d\n",
        "\n",
        "El programa que se ejecuta en la sesión de pantalla continuará ejecutándose después de que se desconecten de la sesión.\n",
        "\n",
        "* Volver a conectar a una screen de Linux\n",
        "Para reanudar su sesión de screen:\n",
        "\n",
        "screen -r\n",
        "\n",
        "En caso de que tener varias sesiones de pantalla ejecutándose, deberán agregar el ID de sesión de pantalla después del parametro r.\n",
        "\n",
        "Para encontrar el ID de sesión, enumera las sesiones de pantalla en ejecución actuales con:\n",
        "\n",
        "pantalla -ls\n",
        "\n",
        "Ejemplo de salida:\n",
        "Hay screen en:\n",
        "    10835.pts-0.linuxize-desktop (independiente)\n",
        "    10366.pts-0.linuxize-desktop (independiente)\n",
        "\n",
        "Para restaurar la pantalla 10835.pts-0:\n",
        "\n",
        "screen -r 10835"
      ]
    }
  ],
  "metadata": {
    "colab": {
      "collapsed_sections": [],
      "include_colab_link": true,
      "name": "colabServer.ipynb",
      "provenance": []
    },
    "kernelspec": {
      "display_name": "Python 3",
      "name": "python3"
    },
    "language_info": {
      "codemirror_mode": {
        "name": "ipython",
        "version": 3
      },
      "file_extension": ".py",
      "mimetype": "text/x-python",
      "name": "python",
      "nbconvert_exporter": "python",
      "pygments_lexer": "ipython3",
      "version": "3.9.5"
    }
  },
  "nbformat": 4,
  "nbformat_minor": 0
}
