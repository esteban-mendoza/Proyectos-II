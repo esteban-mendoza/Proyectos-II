{
  "nbformat": 4,
  "nbformat_minor": 0,
  "metadata": {
    "colab": {
      "name": "colabServer.ipynb",
      "provenance": [],
      "collapsed_sections": [],
      "include_colab_link": true
    },
    "kernelspec": {
      "name": "python3",
      "display_name": "Python 3"
    },
    "language_info": {
      "name": "python"
    }
  },
  "cells": [
    {
      "cell_type": "markdown",
      "metadata": {
        "id": "view-in-github",
        "colab_type": "text"
      },
      "source": [
        "<a href=\"https://colab.research.google.com/github/sergfer26/Proyectos-II/blob/main/colab/colabServer.ipynb\" target=\"_parent\"><img src=\"https://colab.research.google.com/assets/colab-badge.svg\" alt=\"Open In Colab\"/></a>"
      ]
    },
    {
      "cell_type": "markdown",
      "metadata": {
        "id": "Wr7R07n82reF"
      },
      "source": [
        "Conectarse a Google Colab usando SSH "
      ]
    },
    {
      "cell_type": "markdown",
      "metadata": {
        "id": "IIBFvMpKgZGv"
      },
      "source": [
        "1. Instalar SSH en Windows 10\n",
        "\n",
        "El cliente SSH es parte de Windows 10, pero es una \"función opcional\" que no está instalada de forma predeterminada.\n",
        "\n",
        "Para instalarlo, hay que ir a Configuración> Aplicaciones y hacer clic en \"Administrar funciones opcionales\" en Aplicaciones y funciones.\n",
        "\n",
        "Hacer clic en \"Agregar una función\" en la parte superior de la lista de funciones instaladas. Si ya tienen instalado el cliente SSH, aparecerá en la lista.\n",
        "\n",
        "Desplazar hacia abajo y hacer clic en la opción \"OpenSSH Client (Beta)\" y haga clic en \"Instalar\".\n",
        "\n",
        "Pueden usar el cliente SSH ejecutando el comando ssh. Esto desde una ventana del símbolo del sistema.\n",
        "\n",
        "2. Modificar permisos de SSH\n",
        "\n",
        "El archivo de configuración esta en C:\\ProgramData\\ssh\\sshd_config y deben otorgarse los permisos para modificarlo.\n",
        "\n",
        "Descomenten las lineas:\n",
        "\"PermitRootLogin yes\"\n",
        "\"PasswordAuthentication yes\""
      ]
    },
    {
      "cell_type": "markdown",
      "metadata": {
        "id": "wiLGEKdzsTE0"
      },
      "source": [
        "Ngrok\n",
        "\n",
        "1. Crear una cuenta en el sitio de Ngrok:\n",
        "https://dashboard.ngrok.com/signup\n",
        "\n",
        "2. Instalar la aplicación: \n",
        "https://ngrok.com/download\n",
        "\n",
        "2.1. Unzip el archivo\n",
        "2.2. Ejecutar en linea de comandos: \n",
        "\n",
        "./ngrok authtoken your_auth_token\n",
        "\n",
        " ./ngrok http 22 &\n",
        "\n",
        "\n",
        " Despues de esto, pueden ir a \n",
        "\n",
        " https://dashboard.ngrok.com/status \n",
        "\n",
        "\n",
        "Y encontraran una salida similar:\n",
        "\n",
        "URL: tcp://0.tcp.ngrok.io:16568\n",
        "\n",
        "Client IP: ***.***.***.***\n",
        "\n",
        "Region: us\n",
        "\n",
        "Established: May 17th, 2019 08:44:18 UTC\n",
        "\n"
      ]
    },
    {
      "cell_type": "code",
      "metadata": {
        "id": "QH-shB9M3yT0"
      },
      "source": [
        "# Los pasos anteriores se resumen en el siguiente script:\n",
        "import random, string, urllib.request, json, getpass\n",
        "\n",
        "#Ask token\n",
        "print(\"Copy authtoken from https://dashboard.ngrok.com/auth\")\n",
        "authtoken = getpass.getpass()\n",
        "\n",
        "#Create tunnel\n",
        "get_ipython().system_raw('./ngrok authtoken $authtoken && ./ngrok tcp 22 &')\n",
        "\n",
        "#Get public address and print connect command\n",
        "with urllib.request.urlopen('http://localhost:4040/api/tunnels') as response:\n",
        "  data = json.loads(response.read().decode())\n",
        "  (host, port) = data['tunnels'][0]['public_url'][6:].split(':')\n",
        "  print(f'SSH command: ssh -p{port} root@{host}')\n"
      ],
      "execution_count": null,
      "outputs": []
    },
    {
      "cell_type": "markdown",
      "metadata": {
        "id": "MJ1N3qjOwdVB"
      },
      "source": [
        "* Conectarse al servidor Colab"
      ]
    },
    {
      "cell_type": "code",
      "metadata": {
        "id": "NISqwz9svqkq"
      },
      "source": [
        "# Ya pueden conectarse al servidor de Colab\n",
        "# En una terminal ejecuten:\n",
        "# -p : es el puerto que aparece en el estatus de Ngrok\n",
        "ssh root@0.tcp.ngrok.io -p 16568\n",
        "\n",
        "# Ingresen su password de root\n"
      ],
      "execution_count": null,
      "outputs": []
    },
    {
      "cell_type": "markdown",
      "metadata": {
        "id": "uE2LxBMHwiJj"
      },
      "source": [
        "* Transferir archivos al servidor Colab\n",
        "\n",
        "Instalen WinSCP https://winscp.net/download/WinSCP-5.19.4-Setup.exe con las credenciales:\n",
        "\n",
        "Host name: 0.tcp.ngrok.io\n",
        "\n",
        "Port number: \\<Port number generated above\\>\n",
        "\n",
        "User name: root\n",
        "\n",
        "Password: \\<Generated above\\>\n"
      ]
    },
    {
      "cell_type": "markdown",
      "metadata": {
        "id": "qX-ld0VolJmu"
      },
      "source": [
        "Una vez conectados al servidor pueden abrir una sesion de screen y ahi correr su codigo."
      ]
    },
    {
      "cell_type": "markdown",
      "metadata": {
        "id": "gfTmPOxyyBGu"
      },
      "source": [
        "* Screen\n",
        "\n",
        "Les ha pasado una situación en la que tienen una tarea de larga duración en una máquina remota y, de repente, la conexión se interrumpe, la sesión SSH finaliza y el trabajo se pierde? \n",
        "\n",
        "Por suerte, existe un programa llamado screen que permite retomar las sesiones.\n",
        "\n",
        "Los procesos que se ejecutan con screen continuarán ejecutándose aun cuando ls ventana no sea visible o incluso si se desconecta."
      ]
    },
    {
      "cell_type": "markdown",
      "metadata": {
        "id": "nV_fV6qllXT5"
      },
      "source": [
        "* Uso básico de la pantalla de Linux\n",
        "\n",
        "Los pasos más básicos para comenzar con la pantalla:\n",
        "\n",
        "1. En el shell del sistema, escribir el comando screen.\n",
        "2. Ejecuten el programa deseado.\n",
        "3. Utiliza la secuencia de teclas Ctrl-a + Ctrl-d para desconectarse de la sesión de pantalla.\n",
        "4. Vuelvan a conectarse a la sesión de pantalla escribiendo screen -r.\n",
        "\n",
        "El comando screen abrirá una sesión de pantalla, creará una nueva ventana e iniciará un shell en esa ventana.\n",
        "\n",
        "Se puede obtener una lista de comandos escribiendo:\n",
        "\n",
        "Ctrl + a?\n",
        "\n",
        "Cuando inicia una nueva sesión de pantalla, crea una única ventana con un caparazón en ella.\n",
        "\n",
        "Algunos de los comandos más comunes para administrar Screen:\n",
        "\n",
        "Ctrl + a c Crea una nueva ventana (con shell).\n",
        "Ctrl + a \" Lista todas las ventanas.\n",
        "Ctrl + a 0 Cambiar a la ventana 0 (por número).\n",
        "Ctrl + a A Cambiar el nombre de la ventana actual.\n",
        "Ctrl + a S Divide la región actual horizontalmente en dos regiones.\n",
        "Ctrl + a | Divide la región actual verticalmente en dos regiones.\n",
        "Ctrl + una pestaña Cambia el foco de entrada a la siguiente región.\n",
        "Ctrl + a Ctrl + a Alternar entre la ventana actual y la anterior\n",
        "Ctrl + a Q Cerrar todas las regiones menos la actual.\n",
        "Ctrl + a X Cierra la región actual.\n",
        "\n",
        "* Desconectar de la sesión de pantalla de Linux\n",
        "Pueden desconectarse de la sesión de pantalla escribiendo:\n",
        "\n",
        "Ctrl + a d\n",
        "\n",
        "El programa que se ejecuta en la sesión de pantalla continuará ejecutándose después de que se desconecten de la sesión.\n",
        "\n",
        "* Volver a conectar a una screen de Linux\n",
        "Para reanudar su sesión de screen:\n",
        "\n",
        "screen -r\n",
        "\n",
        "En caso de que tener varias sesiones de pantalla ejecutándose, deberán agregar el ID de sesión de pantalla después del parametro r.\n",
        "\n",
        "Para encontrar el ID de sesión, enumera las sesiones de pantalla en ejecución actuales con:\n",
        "\n",
        "pantalla -ls\n",
        "\n",
        "Ejemplo de salida:\n",
        "Hay screen en:\n",
        "    10835.pts-0.linuxize-desktop (independiente)\n",
        "    10366.pts-0.linuxize-desktop (independiente)\n",
        "\n",
        "Para restaurar la pantalla 10835.pts-0:\n",
        "\n",
        "screen -r 10835"
      ]
    }
  ]
}