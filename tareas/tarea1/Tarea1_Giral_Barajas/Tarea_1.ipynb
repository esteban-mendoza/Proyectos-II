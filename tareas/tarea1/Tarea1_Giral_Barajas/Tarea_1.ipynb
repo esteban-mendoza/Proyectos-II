{
 "cells": [
  {
   "cell_type": "markdown",
   "metadata": {},
   "source": [
    "# Tarea 1: Redes neuronales para tareas de aprendizaje supervisado\n",
    "**José Giral Barajas**\n",
    "\n",
    "En este *notebook* incursionaremos en la implementación de redes neuronales para las tareas de clasificación. En este trabajo, implementaremos una neurona con capa de salida lineal y función de activación sigmoide para encontrar la relación entre cinco medidas morfológicas de los cangrejos Leptograpsus variegatus (tamaño del lóbulo frontal, ancho trasero, longitud del caparazón, ancho del caparazón y Profundidad del cuerpo) con el color de los mismos (azul o naranja)."
   ]
  },
  {
   "cell_type": "markdown",
   "metadata": {},
   "source": [
    "## 1. Importamos algunas librerías"
   ]
  },
  {
   "cell_type": "code",
   "execution_count": 1,
   "metadata": {},
   "outputs": [],
   "source": [
    "import torch\n",
    "import pandas as pd\n",
    "import numpy as np\n",
    "import torch.nn as nn\n",
    "import torch.nn.functional as F\n",
    "from torch.utils.data import Dataset, DataLoader\n",
    "from matplotlib import pyplot as plt"
   ]
  },
  {
   "cell_type": "markdown",
   "metadata": {},
   "source": [
    "## 2. Análisis y preparación de los datos\n",
    "\n",
    "Estaremos trabajando con la base de datos [Crab body metrics](https://www.kaggle.com/inputblackboxoutput/crab-body-metrics) la cual fue obtenida de Kaggle y recuperada de Campbell, N.A. and Mahon, R.J. (1974) A multivariate study of variation in two species of rock crab of genus Leptograpsus. Australian Journal of Zoology 22, 417–425.\n",
    "\n",
    "Esta base de datos contiene 200 filas y ocho columnas, las cuales describen cinco mediciones morfológicas en 200 cangrejos, cada uno de algun color (azul o naranja) y de algún sexo, de la especie Leptograpsus variegatus recolectada en Fremantle, Australia Occidental. Las columnas están dispuestas de la siguiente manera:\n",
    "\n",
    "1. **Especie (sp)**: \"B\" u \"O\" para azul (blue) o naranja (orange).\n",
    "2. **Sexo (sex)**: \"M\" o \"F\" para hombre (male) o mujer (female).\n",
    "3. **Indice (index)**: identificador único para cada cangreo según su color y sexo.\n",
    "4. **Tamaño del lóbulo frontal (FL)**: medido en milimetros.\n",
    "5. **Ancho trasero (RW)**: medido en milimetros.\n",
    "6. **Longitud del caparazón (CL)**: medido en milimetros.\n",
    "7. **Ancho del caparazón (CW)**: medido en milimetros.\n",
    "8. **Profundidad del cuerpo (BD)**: medido en milimetros.\n",
    "\n",
    "### 2.1. Carga y visualización de la base\n",
    "Esta base de datos se encuentra en el archivo data.csv incluido en la carpeta del proyecto"
   ]
  },
  {
   "cell_type": "code",
   "execution_count": 2,
   "metadata": {},
   "outputs": [],
   "source": [
    "data = pd.read_csv(\"data.csv\", sep=',')"
   ]
  },
  {
   "cell_type": "markdown",
   "metadata": {},
   "source": [
    "Veamos los primeros datos de la base de datos:"
   ]
  },
  {
   "cell_type": "code",
   "execution_count": 3,
   "metadata": {},
   "outputs": [
    {
     "data": {
      "text/html": [
       "<div>\n",
       "<style scoped>\n",
       "    .dataframe tbody tr th:only-of-type {\n",
       "        vertical-align: middle;\n",
       "    }\n",
       "\n",
       "    .dataframe tbody tr th {\n",
       "        vertical-align: top;\n",
       "    }\n",
       "\n",
       "    .dataframe thead th {\n",
       "        text-align: right;\n",
       "    }\n",
       "</style>\n",
       "<table border=\"1\" class=\"dataframe\">\n",
       "  <thead>\n",
       "    <tr style=\"text-align: right;\">\n",
       "      <th></th>\n",
       "      <th>sp</th>\n",
       "      <th>sex</th>\n",
       "      <th>index</th>\n",
       "      <th>FL</th>\n",
       "      <th>RW</th>\n",
       "      <th>CL</th>\n",
       "      <th>CW</th>\n",
       "      <th>BD</th>\n",
       "    </tr>\n",
       "  </thead>\n",
       "  <tbody>\n",
       "    <tr>\n",
       "      <th>0</th>\n",
       "      <td>B</td>\n",
       "      <td>M</td>\n",
       "      <td>1</td>\n",
       "      <td>8.1</td>\n",
       "      <td>6.7</td>\n",
       "      <td>16.1</td>\n",
       "      <td>19.0</td>\n",
       "      <td>7.0</td>\n",
       "    </tr>\n",
       "    <tr>\n",
       "      <th>1</th>\n",
       "      <td>B</td>\n",
       "      <td>M</td>\n",
       "      <td>2</td>\n",
       "      <td>8.8</td>\n",
       "      <td>7.7</td>\n",
       "      <td>18.1</td>\n",
       "      <td>20.8</td>\n",
       "      <td>7.4</td>\n",
       "    </tr>\n",
       "    <tr>\n",
       "      <th>2</th>\n",
       "      <td>B</td>\n",
       "      <td>M</td>\n",
       "      <td>3</td>\n",
       "      <td>9.2</td>\n",
       "      <td>7.8</td>\n",
       "      <td>19.0</td>\n",
       "      <td>22.4</td>\n",
       "      <td>7.7</td>\n",
       "    </tr>\n",
       "    <tr>\n",
       "      <th>3</th>\n",
       "      <td>B</td>\n",
       "      <td>M</td>\n",
       "      <td>4</td>\n",
       "      <td>9.6</td>\n",
       "      <td>7.9</td>\n",
       "      <td>20.1</td>\n",
       "      <td>23.1</td>\n",
       "      <td>8.2</td>\n",
       "    </tr>\n",
       "    <tr>\n",
       "      <th>4</th>\n",
       "      <td>B</td>\n",
       "      <td>M</td>\n",
       "      <td>5</td>\n",
       "      <td>9.8</td>\n",
       "      <td>8.0</td>\n",
       "      <td>20.3</td>\n",
       "      <td>23.0</td>\n",
       "      <td>8.2</td>\n",
       "    </tr>\n",
       "  </tbody>\n",
       "</table>\n",
       "</div>"
      ],
      "text/plain": [
       "  sp sex  index   FL   RW    CL    CW   BD\n",
       "0  B   M      1  8.1  6.7  16.1  19.0  7.0\n",
       "1  B   M      2  8.8  7.7  18.1  20.8  7.4\n",
       "2  B   M      3  9.2  7.8  19.0  22.4  7.7\n",
       "3  B   M      4  9.6  7.9  20.1  23.1  8.2\n",
       "4  B   M      5  9.8  8.0  20.3  23.0  8.2"
      ]
     },
     "execution_count": 3,
     "metadata": {},
     "output_type": "execute_result"
    }
   ],
   "source": [
    "data.head()"
   ]
  },
  {
   "cell_type": "markdown",
   "metadata": {},
   "source": [
    "Ahora, veamos los últimos datos de la base:"
   ]
  },
  {
   "cell_type": "code",
   "execution_count": 4,
   "metadata": {},
   "outputs": [
    {
     "data": {
      "text/html": [
       "<div>\n",
       "<style scoped>\n",
       "    .dataframe tbody tr th:only-of-type {\n",
       "        vertical-align: middle;\n",
       "    }\n",
       "\n",
       "    .dataframe tbody tr th {\n",
       "        vertical-align: top;\n",
       "    }\n",
       "\n",
       "    .dataframe thead th {\n",
       "        text-align: right;\n",
       "    }\n",
       "</style>\n",
       "<table border=\"1\" class=\"dataframe\">\n",
       "  <thead>\n",
       "    <tr style=\"text-align: right;\">\n",
       "      <th></th>\n",
       "      <th>sp</th>\n",
       "      <th>sex</th>\n",
       "      <th>index</th>\n",
       "      <th>FL</th>\n",
       "      <th>RW</th>\n",
       "      <th>CL</th>\n",
       "      <th>CW</th>\n",
       "      <th>BD</th>\n",
       "    </tr>\n",
       "  </thead>\n",
       "  <tbody>\n",
       "    <tr>\n",
       "      <th>195</th>\n",
       "      <td>O</td>\n",
       "      <td>F</td>\n",
       "      <td>46</td>\n",
       "      <td>21.4</td>\n",
       "      <td>18.0</td>\n",
       "      <td>41.2</td>\n",
       "      <td>46.2</td>\n",
       "      <td>18.7</td>\n",
       "    </tr>\n",
       "    <tr>\n",
       "      <th>196</th>\n",
       "      <td>O</td>\n",
       "      <td>F</td>\n",
       "      <td>47</td>\n",
       "      <td>21.7</td>\n",
       "      <td>17.1</td>\n",
       "      <td>41.7</td>\n",
       "      <td>47.2</td>\n",
       "      <td>19.6</td>\n",
       "    </tr>\n",
       "    <tr>\n",
       "      <th>197</th>\n",
       "      <td>O</td>\n",
       "      <td>F</td>\n",
       "      <td>48</td>\n",
       "      <td>21.9</td>\n",
       "      <td>17.2</td>\n",
       "      <td>42.6</td>\n",
       "      <td>47.4</td>\n",
       "      <td>19.5</td>\n",
       "    </tr>\n",
       "    <tr>\n",
       "      <th>198</th>\n",
       "      <td>O</td>\n",
       "      <td>F</td>\n",
       "      <td>49</td>\n",
       "      <td>22.5</td>\n",
       "      <td>17.2</td>\n",
       "      <td>43.0</td>\n",
       "      <td>48.7</td>\n",
       "      <td>19.8</td>\n",
       "    </tr>\n",
       "    <tr>\n",
       "      <th>199</th>\n",
       "      <td>O</td>\n",
       "      <td>F</td>\n",
       "      <td>50</td>\n",
       "      <td>23.1</td>\n",
       "      <td>20.2</td>\n",
       "      <td>46.2</td>\n",
       "      <td>52.5</td>\n",
       "      <td>21.1</td>\n",
       "    </tr>\n",
       "  </tbody>\n",
       "</table>\n",
       "</div>"
      ],
      "text/plain": [
       "    sp sex  index    FL    RW    CL    CW    BD\n",
       "195  O   F     46  21.4  18.0  41.2  46.2  18.7\n",
       "196  O   F     47  21.7  17.1  41.7  47.2  19.6\n",
       "197  O   F     48  21.9  17.2  42.6  47.4  19.5\n",
       "198  O   F     49  22.5  17.2  43.0  48.7  19.8\n",
       "199  O   F     50  23.1  20.2  46.2  52.5  21.1"
      ]
     },
     "execution_count": 4,
     "metadata": {},
     "output_type": "execute_result"
    }
   ],
   "source": [
    "data.tail()"
   ]
  },
  {
   "cell_type": "markdown",
   "metadata": {},
   "source": [
    "### 2.2. Análisis exploratorio de los datos"
   ]
  },
  {
   "cell_type": "markdown",
   "metadata": {},
   "source": [
    "Analizaremos los datos para cada uno de los colores de la especie. Así, comenzamos por describir los datos para los cangrejos de color naranja"
   ]
  },
  {
   "cell_type": "code",
   "execution_count": 5,
   "metadata": {},
   "outputs": [],
   "source": [
    "data_O = data[data[\"sp\"] == \"O\"][[\"FL\",\"RW\",\"CL\",\"CW\",\"BD\"]]"
   ]
  },
  {
   "cell_type": "markdown",
   "metadata": {},
   "source": [
    "Vemos las distribuciones de cada una de las variables explicativas"
   ]
  },
  {
   "cell_type": "code",
   "execution_count": 6,
   "metadata": {
    "scrolled": true
   },
   "outputs": [
    {
     "data": {
      "image/png": "[encoded data removed]",
      "text/plain": [
       "<Figure size 1440x288 with 5 Axes>"
      ]
     },
     "metadata": {
      "needs_background": "light"
     },
     "output_type": "display_data"
    }
   ],
   "source": [
    "%matplotlib inline\n",
    "data_O.hist(figsize=[20,4], layout=(1, 5), color=\"orange\", density=True)\n",
    "plt.show()"
   ]
  },
  {
   "cell_type": "markdown",
   "metadata": {},
   "source": [
    "Vemos un resumen general de las medidas de disperciónd de los datos"
   ]
  },
  {
   "cell_type": "code",
   "execution_count": 7,
   "metadata": {
    "scrolled": true
   },
   "outputs": [
    {
     "data": {
      "text/html": [
       "<div>\n",
       "<style scoped>\n",
       "    .dataframe tbody tr th:only-of-type {\n",
       "        vertical-align: middle;\n",
       "    }\n",
       "\n",
       "    .dataframe tbody tr th {\n",
       "        vertical-align: top;\n",
       "    }\n",
       "\n",
       "    .dataframe thead th {\n",
       "        text-align: right;\n",
       "    }\n",
       "</style>\n",
       "<table border=\"1\" class=\"dataframe\">\n",
       "  <thead>\n",
       "    <tr style=\"text-align: right;\">\n",
       "      <th></th>\n",
       "      <th>FL</th>\n",
       "      <th>RW</th>\n",
       "      <th>CL</th>\n",
       "      <th>CW</th>\n",
       "      <th>BD</th>\n",
       "    </tr>\n",
       "  </thead>\n",
       "  <tbody>\n",
       "    <tr>\n",
       "      <th>count</th>\n",
       "      <td>100.000000</td>\n",
       "      <td>100.00000</td>\n",
       "      <td>100.000000</td>\n",
       "      <td>100.000000</td>\n",
       "      <td>100.000000</td>\n",
       "    </tr>\n",
       "    <tr>\n",
       "      <th>mean</th>\n",
       "      <td>17.110000</td>\n",
       "      <td>13.54900</td>\n",
       "      <td>34.153000</td>\n",
       "      <td>38.112000</td>\n",
       "      <td>15.478000</td>\n",
       "    </tr>\n",
       "    <tr>\n",
       "      <th>std</th>\n",
       "      <td>3.275575</td>\n",
       "      <td>2.60553</td>\n",
       "      <td>6.764262</td>\n",
       "      <td>7.540922</td>\n",
       "      <td>3.151481</td>\n",
       "    </tr>\n",
       "    <tr>\n",
       "      <th>min</th>\n",
       "      <td>9.100000</td>\n",
       "      <td>6.90000</td>\n",
       "      <td>16.700000</td>\n",
       "      <td>18.600000</td>\n",
       "      <td>7.400000</td>\n",
       "    </tr>\n",
       "    <tr>\n",
       "      <th>25%</th>\n",
       "      <td>14.525000</td>\n",
       "      <td>11.50000</td>\n",
       "      <td>29.200000</td>\n",
       "      <td>32.350000</td>\n",
       "      <td>13.250000</td>\n",
       "    </tr>\n",
       "    <tr>\n",
       "      <th>50%</th>\n",
       "      <td>17.500000</td>\n",
       "      <td>13.65000</td>\n",
       "      <td>34.550000</td>\n",
       "      <td>38.950000</td>\n",
       "      <td>15.550000</td>\n",
       "    </tr>\n",
       "    <tr>\n",
       "      <th>75%</th>\n",
       "      <td>19.475000</td>\n",
       "      <td>15.55000</td>\n",
       "      <td>39.400000</td>\n",
       "      <td>43.675000</td>\n",
       "      <td>17.825000</td>\n",
       "    </tr>\n",
       "    <tr>\n",
       "      <th>max</th>\n",
       "      <td>23.100000</td>\n",
       "      <td>20.20000</td>\n",
       "      <td>47.600000</td>\n",
       "      <td>52.800000</td>\n",
       "      <td>21.600000</td>\n",
       "    </tr>\n",
       "  </tbody>\n",
       "</table>\n",
       "</div>"
      ],
      "text/plain": [
       "               FL         RW          CL          CW          BD\n",
       "count  100.000000  100.00000  100.000000  100.000000  100.000000\n",
       "mean    17.110000   13.54900   34.153000   38.112000   15.478000\n",
       "std      3.275575    2.60553    6.764262    7.540922    3.151481\n",
       "min      9.100000    6.90000   16.700000   18.600000    7.400000\n",
       "25%     14.525000   11.50000   29.200000   32.350000   13.250000\n",
       "50%     17.500000   13.65000   34.550000   38.950000   15.550000\n",
       "75%     19.475000   15.55000   39.400000   43.675000   17.825000\n",
       "max     23.100000   20.20000   47.600000   52.800000   21.600000"
      ]
     },
     "execution_count": 7,
     "metadata": {},
     "output_type": "execute_result"
    }
   ],
   "source": [
    "data_O.describe()"
   ]
  },
  {
   "cell_type": "markdown",
   "metadata": {},
   "source": [
    "Ahora, haremos el mismo análiziz para los datos de los cangrejos de color azul"
   ]
  },
  {
   "cell_type": "code",
   "execution_count": 8,
   "metadata": {},
   "outputs": [],
   "source": [
    "data_B = data[data[\"sp\"] == \"B\"][[\"FL\",\"RW\",\"CL\",\"CW\",\"BD\"]]"
   ]
  },
  {
   "cell_type": "markdown",
   "metadata": {},
   "source": [
    "Vemos las distribuciones de cada una de las variables explicativas"
   ]
  },
  {
   "cell_type": "code",
   "execution_count": 9,
   "metadata": {},
   "outputs": [
    {
     "data": {
      "image/png": "[encoded data removed]",
      "text/plain": [
       "<Figure size 1440x288 with 5 Axes>"
      ]
     },
     "metadata": {
      "needs_background": "light"
     },
     "output_type": "display_data"
    }
   ],
   "source": [
    "%matplotlib inline\n",
    "data_B.hist(figsize=[20,4], layout=(1, 5), color=\"blue\", density=True)\n",
    "plt.show()"
   ]
  },
  {
   "cell_type": "markdown",
   "metadata": {},
   "source": [
    "Vemos un resumen general de las medidas de disperciónd de los datos"
   ]
  },
  {
   "cell_type": "code",
   "execution_count": 10,
   "metadata": {},
   "outputs": [
    {
     "data": {
      "text/html": [
       "<div>\n",
       "<style scoped>\n",
       "    .dataframe tbody tr th:only-of-type {\n",
       "        vertical-align: middle;\n",
       "    }\n",
       "\n",
       "    .dataframe tbody tr th {\n",
       "        vertical-align: top;\n",
       "    }\n",
       "\n",
       "    .dataframe thead th {\n",
       "        text-align: right;\n",
       "    }\n",
       "</style>\n",
       "<table border=\"1\" class=\"dataframe\">\n",
       "  <thead>\n",
       "    <tr style=\"text-align: right;\">\n",
       "      <th></th>\n",
       "      <th>FL</th>\n",
       "      <th>RW</th>\n",
       "      <th>CL</th>\n",
       "      <th>CW</th>\n",
       "      <th>BD</th>\n",
       "    </tr>\n",
       "  </thead>\n",
       "  <tbody>\n",
       "    <tr>\n",
       "      <th>count</th>\n",
       "      <td>100.00000</td>\n",
       "      <td>100.000000</td>\n",
       "      <td>100.000000</td>\n",
       "      <td>100.000000</td>\n",
       "      <td>100.000000</td>\n",
       "    </tr>\n",
       "    <tr>\n",
       "      <th>mean</th>\n",
       "      <td>14.05600</td>\n",
       "      <td>11.928000</td>\n",
       "      <td>30.058000</td>\n",
       "      <td>34.717000</td>\n",
       "      <td>12.583000</td>\n",
       "    </tr>\n",
       "    <tr>\n",
       "      <th>std</th>\n",
       "      <td>3.01961</td>\n",
       "      <td>2.279291</td>\n",
       "      <td>6.902703</td>\n",
       "      <td>7.866038</td>\n",
       "      <td>3.067887</td>\n",
       "    </tr>\n",
       "    <tr>\n",
       "      <th>min</th>\n",
       "      <td>7.20000</td>\n",
       "      <td>6.500000</td>\n",
       "      <td>14.700000</td>\n",
       "      <td>17.100000</td>\n",
       "      <td>6.100000</td>\n",
       "    </tr>\n",
       "    <tr>\n",
       "      <th>25%</th>\n",
       "      <td>11.80000</td>\n",
       "      <td>10.600000</td>\n",
       "      <td>24.850000</td>\n",
       "      <td>29.125000</td>\n",
       "      <td>10.400000</td>\n",
       "    </tr>\n",
       "    <tr>\n",
       "      <th>50%</th>\n",
       "      <td>14.45000</td>\n",
       "      <td>12.000000</td>\n",
       "      <td>30.100000</td>\n",
       "      <td>35.200000</td>\n",
       "      <td>12.600000</td>\n",
       "    </tr>\n",
       "    <tr>\n",
       "      <th>75%</th>\n",
       "      <td>16.12500</td>\n",
       "      <td>13.525000</td>\n",
       "      <td>34.600000</td>\n",
       "      <td>40.300000</td>\n",
       "      <td>14.900000</td>\n",
       "    </tr>\n",
       "    <tr>\n",
       "      <th>max</th>\n",
       "      <td>21.30000</td>\n",
       "      <td>16.900000</td>\n",
       "      <td>47.100000</td>\n",
       "      <td>54.600000</td>\n",
       "      <td>20.000000</td>\n",
       "    </tr>\n",
       "  </tbody>\n",
       "</table>\n",
       "</div>"
      ],
      "text/plain": [
       "              FL          RW          CL          CW          BD\n",
       "count  100.00000  100.000000  100.000000  100.000000  100.000000\n",
       "mean    14.05600   11.928000   30.058000   34.717000   12.583000\n",
       "std      3.01961    2.279291    6.902703    7.866038    3.067887\n",
       "min      7.20000    6.500000   14.700000   17.100000    6.100000\n",
       "25%     11.80000   10.600000   24.850000   29.125000   10.400000\n",
       "50%     14.45000   12.000000   30.100000   35.200000   12.600000\n",
       "75%     16.12500   13.525000   34.600000   40.300000   14.900000\n",
       "max     21.30000   16.900000   47.100000   54.600000   20.000000"
      ]
     },
     "execution_count": 10,
     "metadata": {},
     "output_type": "execute_result"
    }
   ],
   "source": [
    "data_B.describe()"
   ]
  },
  {
   "cell_type": "markdown",
   "metadata": {},
   "source": [
    "### 2.3. Estandarización de los datos\n",
    "\n",
    "Usamos la transformación\n",
    "$$z_i \\longrightarrow \\frac{x_i-\\bar{X}}{sd(X)}$$"
   ]
  },
  {
   "cell_type": "markdown",
   "metadata": {},
   "source": [
    "Estandarizamos la variable FL:"
   ]
  },
  {
   "cell_type": "code",
   "execution_count": 11,
   "metadata": {},
   "outputs": [],
   "source": [
    "mean_FL = data['FL'].mean()\n",
    "std_FL = data['FL'].std()\n",
    "data['Normalized_FL'] = data['FL'].apply(lambda x: (x - mean_FL)/std_FL)"
   ]
  },
  {
   "cell_type": "markdown",
   "metadata": {},
   "source": [
    "Estandarizamos la variable RW:"
   ]
  },
  {
   "cell_type": "code",
   "execution_count": 12,
   "metadata": {},
   "outputs": [],
   "source": [
    "mean_RW = data['RW'].mean()\n",
    "std_RW = data['RW'].std()\n",
    "data['Normalized_RW'] = data['RW'].apply(lambda x: (x - mean_RW)/std_RW)"
   ]
  },
  {
   "cell_type": "markdown",
   "metadata": {},
   "source": [
    "Estandarizamos la variable CL:"
   ]
  },
  {
   "cell_type": "code",
   "execution_count": 13,
   "metadata": {},
   "outputs": [],
   "source": [
    "mean_CL = data['CL'].mean()\n",
    "std_CL = data['CL'].std()\n",
    "data['Normalized_CL'] = data['CL'].apply(lambda x: (x - mean_CL)/std_CL)"
   ]
  },
  {
   "cell_type": "markdown",
   "metadata": {},
   "source": [
    "Estandarizamos la variable CW:"
   ]
  },
  {
   "cell_type": "code",
   "execution_count": 14,
   "metadata": {},
   "outputs": [],
   "source": [
    "mean_CW = data['CW'].mean()\n",
    "std_CW = data['CW'].std()\n",
    "data['Normalized_CW'] = data['CW'].apply(lambda x: (x - mean_CW)/std_CW)"
   ]
  },
  {
   "cell_type": "markdown",
   "metadata": {},
   "source": [
    "Estandarizamos la variable BD:"
   ]
  },
  {
   "cell_type": "code",
   "execution_count": 15,
   "metadata": {},
   "outputs": [],
   "source": [
    "mean_BD = data['BD'].mean()\n",
    "std_BD = data['BD'].std()\n",
    "data['Normalized_BD'] = data['BD'].apply(lambda x: (x - mean_BD)/std_BD)"
   ]
  },
  {
   "cell_type": "markdown",
   "metadata": {},
   "source": [
    "### 2.4. Definición de nuestra variable Respuesta\n",
    "\n",
    "En esta parte simplemente identificamos a los cangrejos de color azul con el número 1 y a los congrejos de color naranja con el número 0 para más adelante, a la hora de hacer la clasificación, trabajar con números. "
   ]
  },
  {
   "cell_type": "code",
   "execution_count": 16,
   "metadata": {},
   "outputs": [],
   "source": [
    "def identificador(x):\n",
    "    if x == \"B\":\n",
    "        return 1\n",
    "    else:\n",
    "        return 0\n",
    "    \n",
    "data['SP'] = data['sp'].apply(identificador)"
   ]
  },
  {
   "cell_type": "markdown",
   "metadata": {},
   "source": [
    "### 2.5. Visualización de la base de datos aumentada"
   ]
  },
  {
   "cell_type": "code",
   "execution_count": 17,
   "metadata": {},
   "outputs": [
    {
     "data": {
      "text/html": [
       "<div>\n",
       "<style scoped>\n",
       "    .dataframe tbody tr th:only-of-type {\n",
       "        vertical-align: middle;\n",
       "    }\n",
       "\n",
       "    .dataframe tbody tr th {\n",
       "        vertical-align: top;\n",
       "    }\n",
       "\n",
       "    .dataframe thead th {\n",
       "        text-align: right;\n",
       "    }\n",
       "</style>\n",
       "<table border=\"1\" class=\"dataframe\">\n",
       "  <thead>\n",
       "    <tr style=\"text-align: right;\">\n",
       "      <th></th>\n",
       "      <th>sp</th>\n",
       "      <th>sex</th>\n",
       "      <th>index</th>\n",
       "      <th>FL</th>\n",
       "      <th>RW</th>\n",
       "      <th>CL</th>\n",
       "      <th>CW</th>\n",
       "      <th>BD</th>\n",
       "      <th>Normalized_FL</th>\n",
       "      <th>Normalized_RW</th>\n",
       "      <th>Normalized_CL</th>\n",
       "      <th>Normalized_CW</th>\n",
       "      <th>Normalized_BD</th>\n",
       "      <th>SP</th>\n",
       "    </tr>\n",
       "  </thead>\n",
       "  <tbody>\n",
       "    <tr>\n",
       "      <th>0</th>\n",
       "      <td>B</td>\n",
       "      <td>M</td>\n",
       "      <td>1</td>\n",
       "      <td>8.1</td>\n",
       "      <td>6.7</td>\n",
       "      <td>16.1</td>\n",
       "      <td>19.0</td>\n",
       "      <td>7.0</td>\n",
       "      <td>-2.140860</td>\n",
       "      <td>-2.346561</td>\n",
       "      <td>-2.248285</td>\n",
       "      <td>-2.212220</td>\n",
       "      <td>-2.052837</td>\n",
       "      <td>1</td>\n",
       "    </tr>\n",
       "    <tr>\n",
       "      <th>1</th>\n",
       "      <td>B</td>\n",
       "      <td>M</td>\n",
       "      <td>2</td>\n",
       "      <td>8.8</td>\n",
       "      <td>7.7</td>\n",
       "      <td>18.1</td>\n",
       "      <td>20.8</td>\n",
       "      <td>7.4</td>\n",
       "      <td>-1.940592</td>\n",
       "      <td>-1.957961</td>\n",
       "      <td>-1.967346</td>\n",
       "      <td>-1.983561</td>\n",
       "      <td>-1.936041</td>\n",
       "      <td>1</td>\n",
       "    </tr>\n",
       "    <tr>\n",
       "      <th>2</th>\n",
       "      <td>B</td>\n",
       "      <td>M</td>\n",
       "      <td>3</td>\n",
       "      <td>9.2</td>\n",
       "      <td>7.8</td>\n",
       "      <td>19.0</td>\n",
       "      <td>22.4</td>\n",
       "      <td>7.7</td>\n",
       "      <td>-1.826153</td>\n",
       "      <td>-1.919101</td>\n",
       "      <td>-1.840923</td>\n",
       "      <td>-1.780307</td>\n",
       "      <td>-1.848444</td>\n",
       "      <td>1</td>\n",
       "    </tr>\n",
       "    <tr>\n",
       "      <th>3</th>\n",
       "      <td>B</td>\n",
       "      <td>M</td>\n",
       "      <td>4</td>\n",
       "      <td>9.6</td>\n",
       "      <td>7.9</td>\n",
       "      <td>20.1</td>\n",
       "      <td>23.1</td>\n",
       "      <td>8.2</td>\n",
       "      <td>-1.711715</td>\n",
       "      <td>-1.880241</td>\n",
       "      <td>-1.686407</td>\n",
       "      <td>-1.691384</td>\n",
       "      <td>-1.702449</td>\n",
       "      <td>1</td>\n",
       "    </tr>\n",
       "    <tr>\n",
       "      <th>4</th>\n",
       "      <td>B</td>\n",
       "      <td>M</td>\n",
       "      <td>5</td>\n",
       "      <td>9.8</td>\n",
       "      <td>8.0</td>\n",
       "      <td>20.3</td>\n",
       "      <td>23.0</td>\n",
       "      <td>8.2</td>\n",
       "      <td>-1.654496</td>\n",
       "      <td>-1.841381</td>\n",
       "      <td>-1.658313</td>\n",
       "      <td>-1.704087</td>\n",
       "      <td>-1.702449</td>\n",
       "      <td>1</td>\n",
       "    </tr>\n",
       "  </tbody>\n",
       "</table>\n",
       "</div>"
      ],
      "text/plain": [
       "  sp sex  index   FL   RW    CL    CW   BD  Normalized_FL  Normalized_RW  \\\n",
       "0  B   M      1  8.1  6.7  16.1  19.0  7.0      -2.140860      -2.346561   \n",
       "1  B   M      2  8.8  7.7  18.1  20.8  7.4      -1.940592      -1.957961   \n",
       "2  B   M      3  9.2  7.8  19.0  22.4  7.7      -1.826153      -1.919101   \n",
       "3  B   M      4  9.6  7.9  20.1  23.1  8.2      -1.711715      -1.880241   \n",
       "4  B   M      5  9.8  8.0  20.3  23.0  8.2      -1.654496      -1.841381   \n",
       "\n",
       "   Normalized_CL  Normalized_CW  Normalized_BD  SP  \n",
       "0      -2.248285      -2.212220      -2.052837   1  \n",
       "1      -1.967346      -1.983561      -1.936041   1  \n",
       "2      -1.840923      -1.780307      -1.848444   1  \n",
       "3      -1.686407      -1.691384      -1.702449   1  \n",
       "4      -1.658313      -1.704087      -1.702449   1  "
      ]
     },
     "execution_count": 17,
     "metadata": {},
     "output_type": "execute_result"
    }
   ],
   "source": [
    "data.head()"
   ]
  },
  {
   "cell_type": "code",
   "execution_count": 18,
   "metadata": {},
   "outputs": [
    {
     "data": {
      "text/html": [
       "<div>\n",
       "<style scoped>\n",
       "    .dataframe tbody tr th:only-of-type {\n",
       "        vertical-align: middle;\n",
       "    }\n",
       "\n",
       "    .dataframe tbody tr th {\n",
       "        vertical-align: top;\n",
       "    }\n",
       "\n",
       "    .dataframe thead th {\n",
       "        text-align: right;\n",
       "    }\n",
       "</style>\n",
       "<table border=\"1\" class=\"dataframe\">\n",
       "  <thead>\n",
       "    <tr style=\"text-align: right;\">\n",
       "      <th></th>\n",
       "      <th>sp</th>\n",
       "      <th>sex</th>\n",
       "      <th>index</th>\n",
       "      <th>FL</th>\n",
       "      <th>RW</th>\n",
       "      <th>CL</th>\n",
       "      <th>CW</th>\n",
       "      <th>BD</th>\n",
       "      <th>Normalized_FL</th>\n",
       "      <th>Normalized_RW</th>\n",
       "      <th>Normalized_CL</th>\n",
       "      <th>Normalized_CW</th>\n",
       "      <th>Normalized_BD</th>\n",
       "      <th>SP</th>\n",
       "    </tr>\n",
       "  </thead>\n",
       "  <tbody>\n",
       "    <tr>\n",
       "      <th>195</th>\n",
       "      <td>O</td>\n",
       "      <td>F</td>\n",
       "      <td>46</td>\n",
       "      <td>21.4</td>\n",
       "      <td>18.0</td>\n",
       "      <td>41.2</td>\n",
       "      <td>46.2</td>\n",
       "      <td>18.7</td>\n",
       "      <td>1.664223</td>\n",
       "      <td>2.044619</td>\n",
       "      <td>1.277500</td>\n",
       "      <td>1.243084</td>\n",
       "      <td>1.363448</td>\n",
       "      <td>0</td>\n",
       "    </tr>\n",
       "    <tr>\n",
       "      <th>196</th>\n",
       "      <td>O</td>\n",
       "      <td>F</td>\n",
       "      <td>47</td>\n",
       "      <td>21.7</td>\n",
       "      <td>17.1</td>\n",
       "      <td>41.7</td>\n",
       "      <td>47.2</td>\n",
       "      <td>19.6</td>\n",
       "      <td>1.750052</td>\n",
       "      <td>1.694879</td>\n",
       "      <td>1.347735</td>\n",
       "      <td>1.370117</td>\n",
       "      <td>1.626240</td>\n",
       "      <td>0</td>\n",
       "    </tr>\n",
       "    <tr>\n",
       "      <th>197</th>\n",
       "      <td>O</td>\n",
       "      <td>F</td>\n",
       "      <td>48</td>\n",
       "      <td>21.9</td>\n",
       "      <td>17.2</td>\n",
       "      <td>42.6</td>\n",
       "      <td>47.4</td>\n",
       "      <td>19.5</td>\n",
       "      <td>1.807271</td>\n",
       "      <td>1.733739</td>\n",
       "      <td>1.474157</td>\n",
       "      <td>1.395524</td>\n",
       "      <td>1.597040</td>\n",
       "      <td>0</td>\n",
       "    </tr>\n",
       "    <tr>\n",
       "      <th>198</th>\n",
       "      <td>O</td>\n",
       "      <td>F</td>\n",
       "      <td>49</td>\n",
       "      <td>22.5</td>\n",
       "      <td>17.2</td>\n",
       "      <td>43.0</td>\n",
       "      <td>48.7</td>\n",
       "      <td>19.8</td>\n",
       "      <td>1.978929</td>\n",
       "      <td>1.733739</td>\n",
       "      <td>1.530345</td>\n",
       "      <td>1.560667</td>\n",
       "      <td>1.684638</td>\n",
       "      <td>0</td>\n",
       "    </tr>\n",
       "    <tr>\n",
       "      <th>199</th>\n",
       "      <td>O</td>\n",
       "      <td>F</td>\n",
       "      <td>50</td>\n",
       "      <td>23.1</td>\n",
       "      <td>20.2</td>\n",
       "      <td>46.2</td>\n",
       "      <td>52.5</td>\n",
       "      <td>21.1</td>\n",
       "      <td>2.150587</td>\n",
       "      <td>2.899539</td>\n",
       "      <td>1.979847</td>\n",
       "      <td>2.043393</td>\n",
       "      <td>2.064225</td>\n",
       "      <td>0</td>\n",
       "    </tr>\n",
       "  </tbody>\n",
       "</table>\n",
       "</div>"
      ],
      "text/plain": [
       "    sp sex  index    FL    RW    CL    CW    BD  Normalized_FL  Normalized_RW  \\\n",
       "195  O   F     46  21.4  18.0  41.2  46.2  18.7       1.664223       2.044619   \n",
       "196  O   F     47  21.7  17.1  41.7  47.2  19.6       1.750052       1.694879   \n",
       "197  O   F     48  21.9  17.2  42.6  47.4  19.5       1.807271       1.733739   \n",
       "198  O   F     49  22.5  17.2  43.0  48.7  19.8       1.978929       1.733739   \n",
       "199  O   F     50  23.1  20.2  46.2  52.5  21.1       2.150587       2.899539   \n",
       "\n",
       "     Normalized_CL  Normalized_CW  Normalized_BD  SP  \n",
       "195       1.277500       1.243084       1.363448   0  \n",
       "196       1.347735       1.370117       1.626240   0  \n",
       "197       1.474157       1.395524       1.597040   0  \n",
       "198       1.530345       1.560667       1.684638   0  \n",
       "199       1.979847       2.043393       2.064225   0  "
      ]
     },
     "execution_count": 18,
     "metadata": {},
     "output_type": "execute_result"
    }
   ],
   "source": [
    "data.tail()"
   ]
  },
  {
   "cell_type": "markdown",
   "metadata": {},
   "source": [
    "### 2.6. Diseño de la base de datos\n",
    "\n",
    "Comenzamos por separar la base de datos en un grupo de entrenamiento y uno de prueba de forma que el 90% de los datos sea de entrenamiento y el 10% de los datos sea de prueba."
   ]
  },
  {
   "cell_type": "code",
   "execution_count": 19,
   "metadata": {},
   "outputs": [],
   "source": [
    "msk = np.random.rand(len(data)) < 0.9\n",
    "training_data = data[msk]\n",
    "test_data = data[~msk]"
   ]
  },
  {
   "cell_type": "markdown",
   "metadata": {},
   "source": [
    "Creamos la instancia de Dataset que usaremos para manejar la información "
   ]
  },
  {
   "cell_type": "code",
   "execution_count": 20,
   "metadata": {},
   "outputs": [],
   "source": [
    "class DataFrameDataset(Dataset):\n",
    "    def __init__(self, data, x_names:list, y_name):\n",
    "        X = data[x_names] # Estas columnas corresponden a las variables explicativas\n",
    "        Y = data[y_name] # Esta columna corresponde a la variable de clasificacion\n",
    "        self.X = torch.from_numpy(X.to_numpy()).to(dtype=torch.float32)\n",
    "        self.Y = torch.from_numpy(Y.to_numpy()).to(dtype=torch.float32)\n",
    "\n",
    "    def __len__(self):\n",
    "        return self.Y.size()[0]\n",
    "\n",
    "    def __getitem__(self, idx):\n",
    "        x = self.X[idx, :]\n",
    "        y = self.Y[idx]\n",
    "        return x, y"
   ]
  },
  {
   "cell_type": "markdown",
   "metadata": {},
   "source": [
    "Definimos los conjuntos de datos con las variables epxlicativas estandarizadas y la nueva variable respuesta numérica."
   ]
  },
  {
   "cell_type": "code",
   "execution_count": 21,
   "metadata": {},
   "outputs": [],
   "source": [
    "x_names = ['Normalized_FL', 'Normalized_RW', 'Normalized_CL', 'Normalized_CW', 'Normalized_BD']\n",
    "train_set = DataFrameDataset(training_data, x_names, 'SP')\n",
    "test_dataset = DataFrameDataset(test_data, x_names, 'SP')"
   ]
  },
  {
   "cell_type": "markdown",
   "metadata": {},
   "source": [
    "Partimos a la mitad el `test_dataset` de tal forma que tengamos el 5% de los datos para la validación y el 5% de los datos para prueba."
   ]
  },
  {
   "cell_type": "code",
   "execution_count": 22,
   "metadata": {},
   "outputs": [],
   "source": [
    "msk = np.random.rand(len(test_dataset)) < 0.5\n",
    "val_set = torch.utils.data.Subset(test_dataset, np.where(msk)[0])\n",
    "test_set = torch.utils.data.Subset(test_dataset, np.where(~msk)[0])"
   ]
  },
  {
   "cell_type": "markdown",
   "metadata": {},
   "source": [
    "Observamos el tamaño de los conjuntos de datos."
   ]
  },
  {
   "cell_type": "code",
   "execution_count": 23,
   "metadata": {},
   "outputs": [
    {
     "name": "stdout",
     "output_type": "stream",
     "text": [
      "# train: 176\n",
      "# val: 10\n",
      "# test: 14\n"
     ]
    }
   ],
   "source": [
    "n_train = len(train_set)\n",
    "n_val = len(val_set)\n",
    "n_test = len(test_set)\n",
    "\n",
    "for n, name in zip([n_train, n_val, n_test], ['train', 'val', 'test']):\n",
    "  print('# '+name+': {}'.format(n))"
   ]
  },
  {
   "cell_type": "markdown",
   "metadata": {},
   "source": [
    "### 2.7. DataLoader\n",
    "\n",
    "Recordemos que esta clase en empaqueta a las particiones del conjunto de datos llamados *batches* o *mini-batches*.\n",
    "\n",
    "$$\\mathcal{D}_{train} = \\mathcal{D}_{(1)} \\cup \\mathcal{D}_{(2)} \\cup \\cdots \\cup \\mathcal{D}_{(n_{batch})}$$\n",
    "\n",
    "$$\\mathcal{D}_{(j)} = X_{(j)} \\times Y_{(j)} $$\n",
    "\n",
    "Donde $n_{batch}$ es el número de particiones que se hizo sobre el conjunto de datos de entrenamiento original. Dependiendo del numero de bathces, el resultado que obtenemos esto es un tensor de la forma \n",
    "\n",
    "$$(n_{batch},batch_{size},tamaño_{vector})$$"
   ]
  },
  {
   "cell_type": "code",
   "execution_count": 24,
   "metadata": {},
   "outputs": [],
   "source": [
    "batch_size = 4\n",
    "train_dataloader = DataLoader(train_set, batch_size=batch_size, shuffle=True)\n",
    "val_dataloader = DataLoader(val_set, batch_size=batch_size, shuffle=True)\n",
    "test_dataloader = DataLoader(test_set, batch_size=n_test)"
   ]
  },
  {
   "cell_type": "markdown",
   "metadata": {},
   "source": [
    "## 3. Definición y entrenamiento de la red neuronal\n",
    "\n",
    "Comencemos por observar que el tamaño de nuestros mini-batches, $k$, es 4 en casi todas partes.\n",
    "Entonces la red neuronal que declararemos para la tarea de clasificación es\n",
    "$$f_a'(\\cdot|\\theta):\\mathbb{R}^{k\\times5}\\rightarrow\\mathbb{R}^{k\\times c}\\text{ con }a'=\\langle [5, 1], \\{\\text{Linear}\\}\\rangle$$\n",
    "y así\n",
    "$$f_a(\\cdot|\\theta)=Sigmoid\\circ f_a'(\\cdot|\\theta)$$\n",
    "\n",
    "**Sobre la función de activación sigmoide:**\n",
    "\n",
    "Sea $\\sigma : \\mathbb{R} \\rightarrow [0, 1]$ una función dada por\n",
    "$$\\sigma(x) = \\frac{1}{1+ e^{-x}}\\quad \\forall x \\in \\mathbb{R}.$$"
   ]
  },
  {
   "cell_type": "code",
   "execution_count": 25,
   "metadata": {},
   "outputs": [
    {
     "data": {
      "image/png": "[encoded data removed]",
      "text/plain": [
       "<Figure size 432x288 with 1 Axes>"
      ]
     },
     "metadata": {
      "needs_background": "light"
     },
     "output_type": "display_data"
    }
   ],
   "source": [
    "x = torch.arange(-5., 5., 0.1)\n",
    "y = torch.sigmoid(x)\n",
    "plt.plot(x.numpy(), y.numpy())\n",
    "plt.show()"
   ]
  },
  {
   "cell_type": "markdown",
   "metadata": {},
   "source": [
    "### 3.1. Implementación de la primera red"
   ]
  },
  {
   "cell_type": "code",
   "execution_count": 26,
   "metadata": {},
   "outputs": [],
   "source": [
    "class ClassificationNet1(nn.Module):\n",
    "\n",
    "    def __init__(self, n_in, n_out):\n",
    "        super(ClassificationNet1, self).__init__()\n",
    "        self.in_features = n_in\n",
    "        self.layer = nn.Linear(in_features=n_in, out_features=n_out)\n",
    "\n",
    "        \n",
    "    def forward(self,x):\n",
    "        out = torch.sigmoid(self.layer(x))\n",
    "        return out\n",
    "        \n",
    "model = ClassificationNet1(5,1)"
   ]
  },
  {
   "cell_type": "markdown",
   "metadata": {},
   "source": [
    "### 3.2. Optimizador y función de costo"
   ]
  },
  {
   "cell_type": "markdown",
   "metadata": {},
   "source": [
    "La idea subyacente es hacer una regresión lineal con función de enlace logit dado que solo tenemos dos clases. Entonces usaremos la función de error cuadrático medio (*MSE*) para entrenar a la red neuronal.\n",
    "\n",
    "$$MSE(w, b; Y, X) = \\frac{1}{k}\\sum_{x, y \\in X, Y}(y -(wx+b))^2$$\n",
    "\n",
    "Utilizaremos como optimizador `Adam` del módulo `torch.optim` que es la implementación del algoritmo de Adam visto en las clases pasadas."
   ]
  },
  {
   "cell_type": "code",
   "execution_count": 27,
   "metadata": {},
   "outputs": [],
   "source": [
    "from torch.optim import Adam\n",
    "\n",
    "cost = nn.MSELoss()\n",
    "optimizer = Adam(model.parameters(), lr = 0.001)"
   ]
  },
  {
   "cell_type": "markdown",
   "metadata": {},
   "source": [
    "### 3.3. Función para la actualización de los parámetros"
   ]
  },
  {
   "cell_type": "code",
   "execution_count": 28,
   "metadata": {},
   "outputs": [],
   "source": [
    "def update_parameters(model, dataloader, optimizer, criterion, train=True):\n",
    "    running_loss = 0.0\n",
    "    for i, data in enumerate(dataloader, 0):\n",
    "        X, Y = data\n",
    "        n = len(X)\n",
    "        X = X.reshape((n, model.in_features)) # Corregimos el tamaño (necesario en dimension 1)\n",
    "        m = len(Y)\n",
    "        Y = Y.reshape((m, 1)) # Corregimos el tamaño\n",
    "        if train:\n",
    "            optimizer.zero_grad() # Reiniciamos el gradiente\n",
    "        pred = model(X) # forward pass \n",
    "        loss = criterion(pred, Y) # evaluación de predicción\n",
    "        if train:\n",
    "            loss.backward() # cálcula las derivadas \n",
    "            optimizer.step() # paso de optimización \n",
    "\n",
    "        running_loss += loss.item()\n",
    "        avg_loss = running_loss/(i + 1)\n",
    "    return avg_loss"
   ]
  },
  {
   "cell_type": "markdown",
   "metadata": {},
   "source": [
    "### 3.4. Entrenamiento de la red"
   ]
  },
  {
   "cell_type": "code",
   "execution_count": 29,
   "metadata": {},
   "outputs": [
    {
     "name": "stdout",
     "output_type": "stream",
     "text": [
      "epoch 0, train loss 0.24013040553439746, val loss 0.23239673674106598\n",
      "epoch 5, train loss 0.2157072854990309, val loss 0.19246936837832132\n",
      "epoch 10, train loss 0.2087787643752315, val loss 0.1939868281284968\n",
      "epoch 15, train loss 0.20413103013892064, val loss 0.16086718440055847\n",
      "epoch 20, train loss 0.19975417920134284, val loss 0.16172321140766144\n",
      "epoch 25, train loss 0.19568072513423182, val loss 0.1697338024775187\n",
      "epoch 30, train loss 0.19140813939950682, val loss 0.1726190149784088\n",
      "epoch 35, train loss 0.18757108328017322, val loss 0.16682213296492895\n",
      "epoch 40, train loss 0.18364411795681174, val loss 0.16042077541351318\n",
      "epoch 45, train loss 0.17983675934374332, val loss 0.14177289605140686\n",
      "epoch 50, train loss 0.17602132413197646, val loss 0.1455029994249344\n",
      "epoch 55, train loss 0.17224092341282152, val loss 0.153185173869133\n",
      "epoch 60, train loss 0.1685499120503664, val loss 0.14120525121688843\n",
      "epoch 65, train loss 0.16504796966910362, val loss 0.17296692232290903\n",
      "epoch 70, train loss 0.16157864220440388, val loss 0.1443787564833959\n",
      "epoch 75, train loss 0.15827076374129814, val loss 0.16015688826640448\n",
      "epoch 80, train loss 0.1549877172166651, val loss 0.12512823939323425\n",
      "epoch 85, train loss 0.1517427997155623, val loss 0.15294200678666434\n",
      "epoch 90, train loss 0.14859537373889575, val loss 0.12050628165404002\n",
      "epoch 95, train loss 0.1454424069009044, val loss 0.12181701262791951\n",
      "epoch 100, train loss 0.14251709678633648, val loss 0.14506545662879944\n",
      "epoch 105, train loss 0.13960793817585165, val loss 0.11840412517388661\n",
      "epoch 110, train loss 0.13680185242132706, val loss 0.11708220839500427\n",
      "epoch 115, train loss 0.13406322286887604, val loss 0.11692381153504054\n",
      "epoch 120, train loss 0.13129454927349632, val loss 0.10940010100603104\n",
      "epoch 125, train loss 0.12865411761132153, val loss 0.11587715645631154\n",
      "epoch 130, train loss 0.12601296375082296, val loss 0.1055477112531662\n",
      "epoch 135, train loss 0.1234758465804837, val loss 0.10617237289746602\n",
      "epoch 140, train loss 0.12099755335260522, val loss 0.10173255205154419\n",
      "epoch 145, train loss 0.11861868532882495, val loss 0.10013150175412495\n",
      "epoch 150, train loss 0.11635951765558937, val loss 0.12195769945780437\n",
      "epoch 155, train loss 0.11398634458468719, val loss 0.0939050242304802\n",
      "epoch 160, train loss 0.11170090040700002, val loss 0.09762474646170934\n",
      "epoch 165, train loss 0.10951562158086083, val loss 0.09725585828224818\n",
      "epoch 170, train loss 0.10751817341555249, val loss 0.09496602416038513\n",
      "epoch 175, train loss 0.10535443176261404, val loss 0.08709891140460968\n",
      "epoch 180, train loss 0.10327263151041487, val loss 0.1100347563624382\n",
      "epoch 185, train loss 0.10125806292688305, val loss 0.08845426514744759\n",
      "epoch 190, train loss 0.09929311546412381, val loss 0.08470480144023895\n",
      "epoch 195, train loss 0.09749843137846752, val loss 0.10316440090537071\n"
     ]
    }
   ],
   "source": [
    "epoch_loss = list()\n",
    "val_loss = list()\n",
    "epochs = 200\n",
    "\n",
    "for epoch in range(epochs):\n",
    "    loss_train = update_parameters(model, train_dataloader, optimizer, cost)\n",
    "    loss_val = update_parameters(model, val_dataloader, None, cost, train=False)\n",
    "    epoch_loss.append(loss_train)\n",
    "    val_loss.append(loss_val)\n",
    "    if epoch % 5 == 0:\n",
    "        print('epoch {}, train loss {}, val loss {}'.format(epoch, loss_train, loss_val))"
   ]
  },
  {
   "cell_type": "markdown",
   "metadata": {},
   "source": [
    "Hacemos una gráfica de la evolución de la función de perdida en el tiempo"
   ]
  },
  {
   "cell_type": "code",
   "execution_count": 30,
   "metadata": {},
   "outputs": [
    {
     "data": {
      "image/png": "[encoded data removed]",
      "text/plain": [
       "<Figure size 432x288 with 1 Axes>"
      ]
     },
     "metadata": {
      "needs_background": "light"
     },
     "output_type": "display_data"
    }
   ],
   "source": [
    "plt.plot(epoch_loss)\n",
    "plt.plot(val_loss)\n",
    "plt.title('Training and Validation Loss per epoch')\n",
    "plt.ylabel('MSE loss')\n",
    "plt.xlabel('epoch')\n",
    "plt.legend(['train', 'val'], loc='upper left')\n",
    "plt.show()"
   ]
  },
  {
   "cell_type": "markdown",
   "metadata": {},
   "source": [
    "Probamos el modelo con los datos de prueba"
   ]
  },
  {
   "cell_type": "code",
   "execution_count": 31,
   "metadata": {},
   "outputs": [
    {
     "name": "stdout",
     "output_type": "stream",
     "text": [
      "error de prueba :0.08981017023324966\n"
     ]
    }
   ],
   "source": [
    "data = next(iter(test_dataloader))\n",
    "X, Y = data\n",
    "n = len(X)\n",
    "X = X.reshape((n, model.in_features)) # -> Corrección de tamaño\n",
    "Y = Y.reshape((n, 1)) # -> Corrección de tamaño\n",
    "pred = model(X)\n",
    "error = cost(Y, pred)\n",
    "print('error de prueba :{}'.format(error.item()))"
   ]
  }
 ],
 "metadata": {
  "kernelspec": {
   "display_name": "Python 3",
   "language": "python",
   "name": "python3"
  },
  "language_info": {
   "codemirror_mode": {
    "name": "ipython",
    "version": 3
   },
   "file_extension": ".py",
   "mimetype": "text/x-python",
   "name": "python",
   "nbconvert_exporter": "python",
   "pygments_lexer": "ipython3",
   "version": "3.8.5"
  }
 },
 "nbformat": 4,
 "nbformat_minor": 4
}
