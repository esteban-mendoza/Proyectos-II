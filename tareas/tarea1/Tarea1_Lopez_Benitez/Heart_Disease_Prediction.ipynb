{
  "nbformat": 4,
  "nbformat_minor": 0,
  "metadata": {
    "colab": {
      "name": "Heart Disease Prediction.ipynb",
      "provenance": [],
      "collapsed_sections": [],
      "toc_visible": true
    },
    "kernelspec": {
      "display_name": "Python 3",
      "name": "python3"
    },
    "language_info": {
      "name": "python"
    }
  },
  "cells": [
    {
      "cell_type": "markdown",
      "metadata": {
        "id": "bfGY1EDbG_WC"
      },
      "source": [
        "# Introducción\n",
        "El conjunto de datos a utilizar es \"Heart Disease UCI\". Este conjunto de datos contiene la información de 303 pacientes, de los cuales se registraron las siguientes variables:\n",
        "1.  Edad del paciente en años.\n",
        "2.  Sexo del paciente (0 si es mujer, 1 si es hombre).\n",
        "3.  Tipo de dolor de pecho (valores 0, 1, 2, 3).\n",
        "4.  Presión arterial sistólica en reposo (en mmHg al ingreso en el hospital).\n",
        "5.  Colesterol sérico en mg/dL.\n",
        "6.  Glucemia mayor a 120mg/dL (1 si ocurre, 0 si no).\n",
        "7.  Resultados electrocardiográficos en reposo (valores 0, 1, 2).\n",
        "8.  Frecuencia cardíaca máxima alcanzada (medida en latidos por minuto).\n",
        "9.  Angina inducida por ejercicio (1 si ocurre, 0 si no).\n",
        "10. \"oldpeak\": Depresión del segmento ST inducida por el ejercicio en relación con el reposo.\n",
        "11.  Pendiente del segmento ST pico del ejercicio (valores 0, 1, 2).\n",
        "12.  Número de vasos principales (0-3) coloreados por la floración.\n",
        "13.  Talasemia: 3 = normal, 6 = defecto fijo, 7 = defecto reversible.\n",
        "\n",
        "**Objetivo:** Analizar los datos y determinar la presencia de enfermedades cardíacas en los pacientes. La variable objetivo está codificada como 1 si el paciente presenta enfermedades cardíacas y 0 en caso contrario.\n"
      ]
    },
    {
      "cell_type": "markdown",
      "metadata": {
        "id": "XipDWwD6QZDd"
      },
      "source": [
        ""
      ]
    },
    {
      "cell_type": "code",
      "metadata": {
        "id": "XpE7Hn6LD1Mc"
      },
      "source": [
        "## Importamos las bibliotecas necesarias\n",
        "import torch\n",
        "import torch.nn as nn\n",
        "import torchvision\n",
        "import torch.utils.data\n",
        "import pandas as pd\n",
        "import numpy as np\n",
        "from matplotlib import pyplot as plt\n",
        "import seaborn as sns"
      ],
      "execution_count": 2,
      "outputs": []
    },
    {
      "cell_type": "code",
      "metadata": {
        "colab": {
          "base_uri": "https://localhost:8080/",
          "height": 221
        },
        "id": "VVHdl2sr1J4u",
        "outputId": "1650f951-6790-4128-d49a-04f867a9142d"
      },
      "source": [
        "filename = 'heart.csv'\n",
        "dataheart = pd.read_csv(filename, header = 0)\n",
        "print(dataheart.shape)  ## 303 observaciones, 14 variables\n",
        "dataheart.head()"
      ],
      "execution_count": 5,
      "outputs": [
        {
          "output_type": "stream",
          "name": "stdout",
          "text": [
            "(303, 14)\n"
          ]
        },
        {
          "output_type": "execute_result",
          "data": {
            "text/html": [
              "<div>\n",
              "<style scoped>\n",
              "    .dataframe tbody tr th:only-of-type {\n",
              "        vertical-align: middle;\n",
              "    }\n",
              "\n",
              "    .dataframe tbody tr th {\n",
              "        vertical-align: top;\n",
              "    }\n",
              "\n",
              "    .dataframe thead th {\n",
              "        text-align: right;\n",
              "    }\n",
              "</style>\n",
              "<table border=\"1\" class=\"dataframe\">\n",
              "  <thead>\n",
              "    <tr style=\"text-align: right;\">\n",
              "      <th></th>\n",
              "      <th>age</th>\n",
              "      <th>sex</th>\n",
              "      <th>cp</th>\n",
              "      <th>trestbps</th>\n",
              "      <th>chol</th>\n",
              "      <th>fbs</th>\n",
              "      <th>restecg</th>\n",
              "      <th>thalach</th>\n",
              "      <th>exang</th>\n",
              "      <th>oldpeak</th>\n",
              "      <th>slope</th>\n",
              "      <th>ca</th>\n",
              "      <th>thal</th>\n",
              "      <th>target</th>\n",
              "    </tr>\n",
              "  </thead>\n",
              "  <tbody>\n",
              "    <tr>\n",
              "      <th>0</th>\n",
              "      <td>63</td>\n",
              "      <td>1</td>\n",
              "      <td>3</td>\n",
              "      <td>145</td>\n",
              "      <td>233</td>\n",
              "      <td>1</td>\n",
              "      <td>0</td>\n",
              "      <td>150</td>\n",
              "      <td>0</td>\n",
              "      <td>2.3</td>\n",
              "      <td>0</td>\n",
              "      <td>0</td>\n",
              "      <td>1</td>\n",
              "      <td>1</td>\n",
              "    </tr>\n",
              "    <tr>\n",
              "      <th>1</th>\n",
              "      <td>37</td>\n",
              "      <td>1</td>\n",
              "      <td>2</td>\n",
              "      <td>130</td>\n",
              "      <td>250</td>\n",
              "      <td>0</td>\n",
              "      <td>1</td>\n",
              "      <td>187</td>\n",
              "      <td>0</td>\n",
              "      <td>3.5</td>\n",
              "      <td>0</td>\n",
              "      <td>0</td>\n",
              "      <td>2</td>\n",
              "      <td>1</td>\n",
              "    </tr>\n",
              "    <tr>\n",
              "      <th>2</th>\n",
              "      <td>41</td>\n",
              "      <td>0</td>\n",
              "      <td>1</td>\n",
              "      <td>130</td>\n",
              "      <td>204</td>\n",
              "      <td>0</td>\n",
              "      <td>0</td>\n",
              "      <td>172</td>\n",
              "      <td>0</td>\n",
              "      <td>1.4</td>\n",
              "      <td>2</td>\n",
              "      <td>0</td>\n",
              "      <td>2</td>\n",
              "      <td>1</td>\n",
              "    </tr>\n",
              "    <tr>\n",
              "      <th>3</th>\n",
              "      <td>56</td>\n",
              "      <td>1</td>\n",
              "      <td>1</td>\n",
              "      <td>120</td>\n",
              "      <td>236</td>\n",
              "      <td>0</td>\n",
              "      <td>1</td>\n",
              "      <td>178</td>\n",
              "      <td>0</td>\n",
              "      <td>0.8</td>\n",
              "      <td>2</td>\n",
              "      <td>0</td>\n",
              "      <td>2</td>\n",
              "      <td>1</td>\n",
              "    </tr>\n",
              "    <tr>\n",
              "      <th>4</th>\n",
              "      <td>57</td>\n",
              "      <td>0</td>\n",
              "      <td>0</td>\n",
              "      <td>120</td>\n",
              "      <td>354</td>\n",
              "      <td>0</td>\n",
              "      <td>1</td>\n",
              "      <td>163</td>\n",
              "      <td>1</td>\n",
              "      <td>0.6</td>\n",
              "      <td>2</td>\n",
              "      <td>0</td>\n",
              "      <td>2</td>\n",
              "      <td>1</td>\n",
              "    </tr>\n",
              "  </tbody>\n",
              "</table>\n",
              "</div>"
            ],
            "text/plain": [
              "   age  sex  cp  trestbps  chol  fbs  ...  exang  oldpeak  slope  ca  thal  target\n",
              "0   63    1   3       145   233    1  ...      0      2.3      0   0     1       1\n",
              "1   37    1   2       130   250    0  ...      0      3.5      0   0     2       1\n",
              "2   41    0   1       130   204    0  ...      0      1.4      2   0     2       1\n",
              "3   56    1   1       120   236    0  ...      0      0.8      2   0     2       1\n",
              "4   57    0   0       120   354    0  ...      1      0.6      2   0     2       1\n",
              "\n",
              "[5 rows x 14 columns]"
            ]
          },
          "metadata": {},
          "execution_count": 5
        }
      ]
    },
    {
      "cell_type": "code",
      "metadata": {
        "colab": {
          "base_uri": "https://localhost:8080/"
        },
        "id": "-aFGlYiXMycx",
        "outputId": "cbae969a-6615-4a40-c519-38d82c21303e"
      },
      "source": [
        "## Vemos la dimension del dataset y el tamaño de la muestra\n",
        "samples, n_features = dataheart.to_numpy().shape\n",
        "print(samples, n_features)  ## 303 datos, 14 variables \n",
        "\n",
        "## Extraemos el numero de clases de la variable objetivo\n",
        "clases = np.sort(dataheart['target'].unique())\n",
        "print(clases)   ## Existen dos clases como ya se habia establecido"
      ],
      "execution_count": 82,
      "outputs": [
        {
          "output_type": "stream",
          "name": "stdout",
          "text": [
            "303 14\n",
            "[0 1]\n"
          ]
        }
      ]
    },
    {
      "cell_type": "markdown",
      "metadata": {
        "id": "Zum_-PjJS1iM"
      },
      "source": [
        "#Análisis estadístico de los datos\n",
        "Antes de comenzar con el ajuste de la red neuronal, es importante hacer un análisis exploratorio de los datos para tener una idea de la distribución, medidas de tendencia central y dispersión y correlación con el fin de tener información del comportamiento de las variables."
      ]
    },
    {
      "cell_type": "code",
      "metadata": {
        "colab": {
          "base_uri": "https://localhost:8080/",
          "height": 607
        },
        "id": "uwq8M-C1SZ28",
        "outputId": "ab8c3686-664e-404a-d0ae-c3cab66e34be"
      },
      "source": [
        "##Histogramas y gráficos de barras\n",
        "\n",
        "%matplotlib inline\n",
        "dataheart.hist(figsize=[12,10])\n",
        "plt.show() "
      ],
      "execution_count": 7,
      "outputs": [
        {
          "output_type": "display_data",
          "data": {
            "image/png": "[encoded data removed]",
            "text/plain": [
              "<Figure size 864x720 with 16 Axes>"
            ]
          },
          "metadata": {
            "needs_background": "light"
          }
        }
      ]
    },
    {
      "cell_type": "code",
      "metadata": {
        "colab": {
          "base_uri": "https://localhost:8080/",
          "height": 282
        },
        "id": "BUXgnybTUO87",
        "outputId": "7445769e-7316-4fb3-9bcc-45d70f271884"
      },
      "source": [
        "## Boxplot de las variables continuas\n",
        "\n",
        "dataheart.boxplot(column=['age','trestbps','chol','thalach','oldpeak'])"
      ],
      "execution_count": 8,
      "outputs": [
        {
          "output_type": "execute_result",
          "data": {
            "text/plain": [
              "<matplotlib.axes._subplots.AxesSubplot at 0x7fdaf2d8ca50>"
            ]
          },
          "metadata": {},
          "execution_count": 8
        },
        {
          "output_type": "display_data",
          "data": {
            "image/png": "[encoded data removed]",
            "text/plain": [
              "<Figure size 432x288 with 1 Axes>"
            ]
          },
          "metadata": {
            "needs_background": "light"
          }
        }
      ]
    },
    {
      "cell_type": "markdown",
      "metadata": {
        "id": "5tXaV9LAyKcA"
      },
      "source": [
        "Podemos ver que existen valores atípicos extremos en la variable de colesterol. Sin embargo, al ser una cantidad pequeña podría ser que no representen riesgos al momento del ajuste de la red."
      ]
    },
    {
      "cell_type": "code",
      "metadata": {
        "colab": {
          "base_uri": "https://localhost:8080/",
          "height": 409
        },
        "id": "nsTMFpx3WiQh",
        "outputId": "ad1e3ccf-864c-4779-b7eb-2023776e1ff9"
      },
      "source": [
        "## Matriz de correlacion\n",
        "matrix_corr = dataheart.corr(method='pearson')\n",
        "plt.figure(figsize=(8, 6))\n",
        "sns.heatmap(matrix_corr, annot=True)\n",
        "plt.show()"
      ],
      "execution_count": 9,
      "outputs": [
        {
          "output_type": "display_data",
          "data": {
            "image/png": "[encoded data removed]",
            "text/plain": [
              "<Figure size 576x432 with 2 Axes>"
            ]
          },
          "metadata": {
            "needs_background": "light"
          }
        }
      ]
    },
    {
      "cell_type": "markdown",
      "metadata": {
        "id": "sbxsPoy2ywg4"
      },
      "source": [
        "Para comenzar a trabajar con la implementación de la red, es necesario partir a todo el conjunto de datos en dos partes: el conjunto de prueba y el conjunto de entrenamiento. Tomaremos 75% para prueba y 25% de entrenamiento."
      ]
    },
    {
      "cell_type": "code",
      "metadata": {
        "id": "GpfFxZJfcief",
        "colab": {
          "base_uri": "https://localhost:8080/"
        },
        "outputId": "945ffbd6-edec-4df0-b3ab-499f307594ad"
      },
      "source": [
        "miau = np.random.rand(len(dataheart)) < 0.75\n",
        "training_data = dataheart[miau]\n",
        "test_data = dataheart[~miau]\n",
        "print(training_data.shape)  ##Nos quedamos 233 de entrenamiento\n",
        "print(test_data.shape)      ## 70 de prueba"
      ],
      "execution_count": 83,
      "outputs": [
        {
          "output_type": "stream",
          "name": "stdout",
          "text": [
            "(233, 14)\n",
            "(70, 14)\n"
          ]
        }
      ]
    },
    {
      "cell_type": "markdown",
      "metadata": {
        "id": "tHftCigazmJZ"
      },
      "source": [
        "Ya que tenemos muy pocos datos y la mayoría de las covariables explicativas son categóricas, no haremos transformaciones a los datos, como lo sería escalarlos. "
      ]
    },
    {
      "cell_type": "markdown",
      "metadata": {
        "id": "yZGKGtBG2T3D"
      },
      "source": [
        "#Clase Dataset\n"
      ]
    },
    {
      "cell_type": "code",
      "metadata": {
        "id": "-gFiSBzV2nU8"
      },
      "source": [
        "from torch.utils.data import Dataset\n",
        "\n",
        "class DataframeDataset(Dataset):\n",
        "\n",
        "  def __init__(self, data, y_name, transform=None, target_transform=None):\n",
        "    '''\n",
        "      data: pandas.DataFrame\n",
        "    '''\n",
        "    self.Y = torch.tensor(data[y_name].to_numpy(), dtype=torch.long)\n",
        "    aux = data.drop(y_name, axis=1).to_numpy()\n",
        "    self.X = torch.from_numpy(aux).to(dtype=torch.float32)\n",
        "    self.transform = transform\n",
        "    self.target_transform = target_transform \n",
        "\n",
        "  def __len__(self):\n",
        "    return self.Y.size()[0]\n",
        "\n",
        "  def __getitem__(self, idx):\n",
        "    x = self.X[idx, :]\n",
        "    y = self.Y[idx]\n",
        "    if self.transform:\n",
        "      x = self.transform(x)\n",
        "    if self.target_transform:\n",
        "      y = self.target_transform(y)\n",
        "    return x, y"
      ],
      "execution_count": 84,
      "outputs": []
    },
    {
      "cell_type": "code",
      "metadata": {
        "id": "CEMaGCiUz2b-"
      },
      "source": [
        "## Transformamos los datos a objetos de la clase dataset\n",
        "train_dataset = DataframeDataset(training_data, y_name='target')\n",
        "test_dataset = DataframeDataset(test_data, y_name='target')"
      ],
      "execution_count": 85,
      "outputs": []
    },
    {
      "cell_type": "markdown",
      "metadata": {
        "id": "YLOI2ORjyj3M"
      },
      "source": [
        "#Validación \n",
        "Para la validación utilizaremos la siguiente partición\n"
      ]
    },
    {
      "cell_type": "code",
      "metadata": {
        "id": "_0yCb5VvyjEc"
      },
      "source": [
        "evens = list(range(0, len(test_dataset), 2))\n",
        "odds = list(range(1, len(test_dataset), 2))\n",
        "val_dataset = torch.utils.data.Subset(test_dataset, evens)\n",
        "test_dataset = torch.utils.data.Subset(test_dataset, odds)"
      ],
      "execution_count": 86,
      "outputs": []
    },
    {
      "cell_type": "code",
      "metadata": {
        "colab": {
          "base_uri": "https://localhost:8080/"
        },
        "id": "N_6RT2r_0QGe",
        "outputId": "ada46487-b83f-4ff5-8b6f-2c12fb64ee18"
      },
      "source": [
        "## Las cardinalidades de los conjuntos de prueba, validacion y entrenamiento son\n",
        "n_train = len(train_dataset)\n",
        "n_val = len(val_dataset)\n",
        "n_test = len(test_dataset)\n",
        "\n",
        "print(\"Entrenamiento: \", n_train, \"Prueba \", n_test, \"Validacion \", n_val)\n"
      ],
      "execution_count": 87,
      "outputs": [
        {
          "output_type": "stream",
          "name": "stdout",
          "text": [
            "Entrenamiento:  233 Prueba  35 Validacion  35\n"
          ]
        }
      ]
    },
    {
      "cell_type": "markdown",
      "metadata": {
        "id": "SIKxaaKX08D7"
      },
      "source": [
        "#Dataloader\n",
        "Utilizaremos un tamaño de batch de 64."
      ]
    },
    {
      "cell_type": "code",
      "metadata": {
        "id": "ki1o5qHW1EH-"
      },
      "source": [
        "from torch.utils.data import DataLoader\n",
        "\n",
        "batch_size = 64\n",
        "train_dataloader = DataLoader(train_dataset, batch_size=batch_size, shuffle=True)  #Shuffle para tomar los batches\n",
        "val_dataloader = DataLoader(val_dataset, batch_size=batch_size, shuffle=True)      # de forma aleatoria\n",
        "test_dataloader = DataLoader(test_dataset, batch_size=1)"
      ],
      "execution_count": 91,
      "outputs": []
    },
    {
      "cell_type": "code",
      "metadata": {
        "colab": {
          "base_uri": "https://localhost:8080/"
        },
        "id": "tYfFYEJr1YwM",
        "outputId": "99fbd932-a7b0-4664-c150-1a529ae584e6"
      },
      "source": [
        "train_features, train_labels = next(iter(train_dataloader))\n",
        "print(f\"Feature batch shape: {train_features.size()}\")\n",
        "print(f\"Labels batch shape: {train_labels.size()}\")"
      ],
      "execution_count": 92,
      "outputs": [
        {
          "output_type": "stream",
          "name": "stdout",
          "text": [
            "Feature batch shape: torch.Size([64, 13])\n",
            "Labels batch shape: torch.Size([64])\n"
          ]
        }
      ]
    },
    {
      "cell_type": "markdown",
      "metadata": {
        "id": "vekcBbCm1rEX"
      },
      "source": [
        "#Declaración de la red neuronal\n",
        "Utilizaremos una red neuronal con\n",
        "1. $k$ Tamaño de los mini-batches = 64\n",
        "2. $p$ número de covariables = 13\n",
        "3. $c$ número de clases = 2\n",
        "\n",
        "Para declarar la red usaremos dos capas ocultas con funciones _relu_ y ya que es clasificación, utilizaremos la función _softmax_ (esta se encontrará de manera tácita en el criterio de _Cross Entropy Loss_)."
      ]
    },
    {
      "cell_type": "code",
      "metadata": {
        "colab": {
          "base_uri": "https://localhost:8080/"
        },
        "id": "a5xbGO8x3PeM",
        "outputId": "df954726-baba-4072-f109-879fd03d8ebc"
      },
      "source": [
        "n_features = n_features -1  ##Restamos 1 porque esa es la variable respuesta\n",
        "n_clases = len(clases)   ## 2 clases\n",
        "N = [64, 64]\n",
        "\n",
        "print(n_clases, n_features)"
      ],
      "execution_count": 93,
      "outputs": [
        {
          "output_type": "stream",
          "name": "stdout",
          "text": [
            "2 13\n"
          ]
        }
      ]
    },
    {
      "cell_type": "markdown",
      "metadata": {
        "id": "K40oXGOBFZOL"
      },
      "source": [
        ""
      ]
    },
    {
      "cell_type": "code",
      "metadata": {
        "id": "_7freQyw3lEz"
      },
      "source": [
        "from collections import OrderedDict\n",
        "from torch import nn\n",
        "\n",
        "relu = nn.ReLU()\n",
        "\n",
        "# Definimos la arquitectura del modelo de la red\n",
        "modelo = nn.Sequential(OrderedDict([\n",
        "    ('z1', nn.Linear(n_features, 64)),\n",
        "    ('h1', relu),\n",
        "    ('z2', nn.Linear(64, 64)),\n",
        "    ('h2', relu),\n",
        "    ('z3', nn.Linear(64, n_clases)),\n",
        "]))"
      ],
      "execution_count": 94,
      "outputs": []
    },
    {
      "cell_type": "code",
      "metadata": {
        "colab": {
          "base_uri": "https://localhost:8080/"
        },
        "id": "xhoUrW056CkH",
        "outputId": "61d562cf-a741-4f01-ccb5-55c26a10bc41"
      },
      "source": [
        "## Hacemos una instancia rapida del modelo\n",
        "x = torch.randn(1, n_features)\n",
        "modelo(x)"
      ],
      "execution_count": 95,
      "outputs": [
        {
          "output_type": "execute_result",
          "data": {
            "text/plain": [
              "tensor([[0.0098, 0.1479]], grad_fn=<AddmmBackward>)"
            ]
          },
          "metadata": {},
          "execution_count": 95
        }
      ]
    },
    {
      "cell_type": "code",
      "metadata": {
        "colab": {
          "base_uri": "https://localhost:8080/"
        },
        "id": "OVLXknUL87-z",
        "outputId": "2cf91b2e-cc55-4f80-dcd2-7093884f71bc"
      },
      "source": [
        "## Imprimimos el modelo para ver su forma\n",
        "print(modelo)  #Dos capas internas con funciones ReLU y una capa de salida con dos clases\n",
        "                #En todas vemos el sesgo activado"
      ],
      "execution_count": 96,
      "outputs": [
        {
          "output_type": "stream",
          "name": "stdout",
          "text": [
            "Sequential(\n",
            "  (z1): Linear(in_features=13, out_features=64, bias=True)\n",
            "  (h1): ReLU()\n",
            "  (z2): Linear(in_features=64, out_features=64, bias=True)\n",
            "  (h2): ReLU()\n",
            "  (z3): Linear(in_features=64, out_features=2, bias=True)\n",
            ")\n"
          ]
        }
      ]
    },
    {
      "cell_type": "code",
      "metadata": {
        "colab": {
          "base_uri": "https://localhost:8080/"
        },
        "id": "qDtHzl_D9ZWv",
        "outputId": "ead8fb06-3b69-4894-b626-e0ece6ee808d"
      },
      "source": [
        "## Instanciamos la Cross Entropy Loss\n",
        "CEL = nn.CrossEntropyLoss()\n",
        "yhat = torch.rand(3, 5, requires_grad = True)  ##activamos requieres_grad para los gradientes\n",
        "y = torch.tensor([1, 0, 3], dtype=torch.int64)\n",
        "loss = CEL(yhat, y)\n",
        "print(loss)"
      ],
      "execution_count": 97,
      "outputs": [
        {
          "output_type": "stream",
          "name": "stdout",
          "text": [
            "tensor(1.6140, grad_fn=<NllLossBackward>)\n"
          ]
        }
      ]
    },
    {
      "cell_type": "code",
      "metadata": {
        "id": "5-iTOpcA-l2u"
      },
      "source": [
        "##Fijamos el criterio de minimizacion y el optimizador\n",
        "from torch import optim\n",
        "\n",
        "criterion = nn.CrossEntropyLoss()\n",
        "optimizer = optim.Adam(modelo.parameters(), lr=3e-3, weight_decay=0.0001)"
      ],
      "execution_count": 98,
      "outputs": []
    },
    {
      "cell_type": "markdown",
      "metadata": {
        "id": "oeUJfqMt_U7I"
      },
      "source": [
        "#Entrenamiento\n",
        "Dado que ya construimos la red con la arquitectura mencionada, fijamos los criterios de optimización, la función de pérdida, el modelo y el dataloader, podemos entrenarla con el conjunto de datos de entrenamiento previamente definido."
      ]
    },
    {
      "cell_type": "code",
      "metadata": {
        "colab": {
          "base_uri": "https://localhost:8080/"
        },
        "id": "gIw4WuRQADuM",
        "outputId": "cf4adc22-e09b-431a-d742-8733b1d61dbe"
      },
      "source": [
        "## Barra de progreso\n",
        "from tqdm import tqdm\n",
        "\n",
        "outer = tqdm(total=3, desc='Epoch', position=0)\n",
        "for ii in range(3):\n",
        "    inner = tqdm(total=5, desc='Batch', position=1)\n",
        "    for jj in range(2):\n",
        "        #do your training\n",
        "        inner.update(1)\n",
        "    outer.update(1)"
      ],
      "execution_count": 99,
      "outputs": [
        {
          "output_type": "stream",
          "name": "stderr",
          "text": [
            "Epoch: 100%|██████████| 3/3 [07:20<00:00, 146.80s/it]\n",
            "\n",
            "Batch:  40%|████      | 2/5 [07:20<11:00, 220.19s/it]\n",
            "\n",
            "Batch:  40%|████      | 2/5 [00:00<00:00, 88.64it/s]\n",
            "\n",
            "Batch:  40%|████      | 2/5 [00:00<00:00, 83.81it/s]\n"
          ]
        }
      ]
    },
    {
      "cell_type": "code",
      "metadata": {
        "id": "re2La9UkAWwu"
      },
      "source": [
        "##definimos el ajuste del modelo para los pasos que se haran por epoca\n",
        "\n",
        "import torch.nn.functional as F\n",
        "\n",
        "def modelfit(modelo, dataloader, optimizer, criterion, pbar, train=True):\n",
        "  running_loss = 0.0  ##Iniciamos la perdida en cero\n",
        "  correct = 0\n",
        "  total = 0\n",
        "  for i, data in enumerate(dataloader, 0):\n",
        "    X, Y = data\n",
        "    if train:\n",
        "      optimizer.zero_grad() # Para no guardar el gradiente pasado\n",
        "    pred = modelo(X) # forward pass \n",
        "    loss = criterion(pred, Y) # evaluacion para la prediccion respecto a la CEL\n",
        "    if train:\n",
        "      loss.backward() # calculo de derivadas\n",
        "      optimizer.step() # pasos de optimizacion\n",
        "\n",
        "    running_loss += loss.item()\n",
        "    avg_loss = running_loss/(i + 1)\n",
        "    probs = F.softmax(pred, 1)   ##Utilizamos la softmax para la prediccion \n",
        "    label = torch.argmax(probs, dim=1)\n",
        "    correct += torch.sum(label == Y).item()\n",
        "    total += Y.shape[0]\n",
        "    accuracy = correct/total\n",
        "        \n",
        "    pbar.set_postfix(avg_loss='{:.4f}'.format(avg_loss), accuracy='{:.4f}'.format(accuracy))\n",
        "    pbar.update(Y.shape[0])\n",
        "  return avg_loss, accuracy"
      ],
      "execution_count": 100,
      "outputs": []
    },
    {
      "cell_type": "code",
      "metadata": {
        "id": "5dhsrX9MBk7F"
      },
      "source": [
        "## Definimos el numero de epocas para la red\n",
        "import time\n",
        "\n",
        "EPOCAS = 500   ## 500 epocas\n",
        "train_time = 0\n",
        "\n",
        "epoch_loss = []  #Inicializamos todo como listas vacias donde iremos \n",
        "epoch_acc = []   #Guardando los datos\n",
        "\n",
        "val_loss = []\n",
        "val_acc = []"
      ],
      "execution_count": 108,
      "outputs": []
    },
    {
      "cell_type": "code",
      "metadata": {
        "colab": {
          "base_uri": "https://localhost:8080/"
        },
        "id": "J2wKW0SuB4pE",
        "outputId": "6f508d73-b85c-423e-9b8f-d7b32b483676"
      },
      "source": [
        "for epoca in range(EPOCAS):\n",
        "  start_time = time.time()\n",
        "  with tqdm(total=n_train, position=0) as pbar_train:\n",
        "    pbar_train.set_description(f'Epoch {epoca + 1}/'+str(EPOCAS)+' - train')\n",
        "    pbar_train.set_postfix(avg_loss='0.0', accuracy='0.0')\n",
        "    loss_train, accuracy_train = modelfit(modelo, train_dataloader, optimizer, criterion, pbar_train)\n",
        "    train_time +=  time.time() - start_time\n",
        "  with tqdm(total=n_val, position=0) as pbar_val:\n",
        "    pbar_val.set_description(f'Epoch {epoca + 1}/'+str(EPOCAS)+' - val')\n",
        "    pbar_val.set_postfix(avg_loss='0.0', accuracy='0.0')\n",
        "    loss_val, accuracy_val = modelfit(modelo, val_dataloader, optimizer, criterion, pbar_val, train=False)\n",
        "\n",
        "  epoch_loss.append(loss_train)\n",
        "  epoch_acc.append(accuracy_train)\n",
        "\n",
        "  val_loss.append(loss_val)\n",
        "  val_acc.append(accuracy_val)\n",
        "\n",
        "print(\"\\n --- %s seconds ---\", train_time)"
      ],
      "execution_count": 109,
      "outputs": [
        {
          "output_type": "stream",
          "name": "stderr",
          "text": [
            "Epoch 1/500 - train: 100%|██████████| 233/233 [00:00<00:00, 6363.24it/s, accuracy=0.9356, avg_loss=0.1417]\n",
            "Epoch 1/500 - val: 100%|██████████| 35/35 [00:00<00:00, 4013.58it/s, accuracy=0.6857, avg_loss=1.6975]\n",
            "Epoch 2/500 - train: 100%|██████████| 233/233 [00:00<00:00, 4561.39it/s, accuracy=0.9099, avg_loss=0.1725]\n",
            "Epoch 2/500 - val: 100%|██████████| 35/35 [00:00<00:00, 4393.12it/s, accuracy=0.7143, avg_loss=1.6910]\n",
            "Epoch 3/500 - train: 100%|██████████| 233/233 [00:00<00:00, 4883.60it/s, accuracy=0.9485, avg_loss=0.1397]\n",
            "Epoch 3/500 - val: 100%|██████████| 35/35 [00:00<00:00, 2988.79it/s, accuracy=0.6857, avg_loss=1.7595]\n",
            "Epoch 4/500 - train: 100%|██████████| 233/233 [00:00<00:00, 5805.87it/s, accuracy=0.9442, avg_loss=0.1333]\n",
            "Epoch 4/500 - val: 100%|██████████| 35/35 [00:00<00:00, 2845.36it/s, accuracy=0.6857, avg_loss=2.0272]\n",
            "Epoch 5/500 - train: 100%|██████████| 233/233 [00:00<00:00, 5039.62it/s, accuracy=0.9442, avg_loss=0.1322]\n",
            "Epoch 5/500 - val: 100%|██████████| 35/35 [00:00<00:00, 2347.16it/s, accuracy=0.6857, avg_loss=1.8460]\n",
            "Epoch 6/500 - train: 100%|██████████| 233/233 [00:00<00:00, 4367.86it/s, accuracy=0.9528, avg_loss=0.1093]\n",
            "Epoch 6/500 - val: 100%|██████████| 35/35 [00:00<00:00, 2499.03it/s, accuracy=0.6857, avg_loss=1.4820]\n",
            "Epoch 7/500 - train: 100%|██████████| 233/233 [00:00<00:00, 4706.35it/s, accuracy=0.9485, avg_loss=0.1087]\n",
            "Epoch 7/500 - val: 100%|██████████| 35/35 [00:00<00:00, 3332.06it/s, accuracy=0.7143, avg_loss=1.6066]\n",
            "Epoch 8/500 - train: 100%|██████████| 233/233 [00:00<00:00, 3595.93it/s, accuracy=0.9528, avg_loss=0.1039]\n",
            "Epoch 8/500 - val: 100%|██████████| 35/35 [00:00<00:00, 3883.61it/s, accuracy=0.6857, avg_loss=1.7314]\n",
            "Epoch 9/500 - train: 100%|██████████| 233/233 [00:00<00:00, 4275.37it/s, accuracy=0.9485, avg_loss=0.1145]\n",
            "Epoch 9/500 - val: 100%|██████████| 35/35 [00:00<00:00, 4793.02it/s, accuracy=0.7143, avg_loss=1.7156]\n",
            "Epoch 10/500 - train: 100%|██████████| 233/233 [00:00<00:00, 5295.84it/s, accuracy=0.9485, avg_loss=0.1078]\n",
            "Epoch 10/500 - val: 100%|██████████| 35/35 [00:00<00:00, 3190.49it/s, accuracy=0.6857, avg_loss=1.8556]\n",
            "Epoch 11/500 - train: 100%|██████████| 233/233 [00:00<00:00, 3382.77it/s, accuracy=0.9571, avg_loss=0.1051]\n",
            "Epoch 11/500 - val: 100%|██████████| 35/35 [00:00<00:00, 5071.36it/s, accuracy=0.7143, avg_loss=1.6736]\n",
            "Epoch 12/500 - train: 100%|██████████| 233/233 [00:00<00:00, 4919.94it/s, accuracy=0.9528, avg_loss=0.0998]\n",
            "Epoch 12/500 - val: 100%|██████████| 35/35 [00:00<00:00, 4172.49it/s, accuracy=0.6857, avg_loss=1.9049]\n",
            "Epoch 13/500 - train: 100%|██████████| 233/233 [00:00<00:00, 5094.61it/s, accuracy=0.9614, avg_loss=0.0987]\n",
            "Epoch 13/500 - val: 100%|██████████| 35/35 [00:00<00:00, 3896.50it/s, accuracy=0.6857, avg_loss=1.8882]\n",
            "Epoch 14/500 - train: 100%|██████████| 233/233 [00:00<00:00, 5520.16it/s, accuracy=0.9614, avg_loss=0.0937]\n",
            "Epoch 14/500 - val: 100%|██████████| 35/35 [00:00<00:00, 4200.79it/s, accuracy=0.6571, avg_loss=1.7851]\n",
            "Epoch 15/500 - train: 100%|██████████| 233/233 [00:00<00:00, 4142.92it/s, accuracy=0.9571, avg_loss=0.1060]\n",
            "Epoch 15/500 - val: 100%|██████████| 35/35 [00:00<00:00, 4586.23it/s, accuracy=0.6857, avg_loss=1.6324]\n",
            "Epoch 16/500 - train: 100%|██████████| 233/233 [00:00<00:00, 5416.59it/s, accuracy=0.9485, avg_loss=0.1088]\n",
            "Epoch 16/500 - val: 100%|██████████| 35/35 [00:00<00:00, 3079.71it/s, accuracy=0.6857, avg_loss=1.6166]\n",
            "Epoch 17/500 - train: 100%|██████████| 233/233 [00:00<00:00, 5016.18it/s, accuracy=0.9485, avg_loss=0.1086]\n",
            "Epoch 17/500 - val: 100%|██████████| 35/35 [00:00<00:00, 4444.06it/s, accuracy=0.6857, avg_loss=1.7643]\n",
            "Epoch 18/500 - train: 100%|██████████| 233/233 [00:00<00:00, 5071.84it/s, accuracy=0.9571, avg_loss=0.1032]\n",
            "Epoch 18/500 - val: 100%|██████████| 35/35 [00:00<00:00, 4512.92it/s, accuracy=0.6857, avg_loss=1.8042]\n",
            "Epoch 19/500 - train: 100%|██████████| 233/233 [00:00<00:00, 5961.13it/s, accuracy=0.9528, avg_loss=0.1009]\n",
            "Epoch 19/500 - val: 100%|██████████| 35/35 [00:00<00:00, 5662.73it/s, accuracy=0.6571, avg_loss=1.6941]\n",
            "Epoch 20/500 - train: 100%|██████████| 233/233 [00:00<00:00, 5041.88it/s, accuracy=0.9485, avg_loss=0.1066]\n",
            "Epoch 20/500 - val: 100%|██████████| 35/35 [00:00<00:00, 4007.99it/s, accuracy=0.6857, avg_loss=1.6956]\n",
            "Epoch 21/500 - train: 100%|██████████| 233/233 [00:00<00:00, 4208.52it/s, accuracy=0.9485, avg_loss=0.1052]\n",
            "Epoch 21/500 - val: 100%|██████████| 35/35 [00:00<00:00, 3824.73it/s, accuracy=0.6857, avg_loss=1.7963]\n",
            "Epoch 22/500 - train: 100%|██████████| 233/233 [00:00<00:00, 2493.87it/s, accuracy=0.9485, avg_loss=0.1094]\n",
            "Epoch 22/500 - val: 100%|██████████| 35/35 [00:00<00:00, 4494.40it/s, accuracy=0.6857, avg_loss=1.7357]\n",
            "Epoch 23/500 - train: 100%|██████████| 233/233 [00:00<00:00, 5055.39it/s, accuracy=0.9485, avg_loss=0.1279]\n",
            "Epoch 23/500 - val: 100%|██████████| 35/35 [00:00<00:00, 4480.82it/s, accuracy=0.6857, avg_loss=1.8852]\n",
            "Epoch 24/500 - train: 100%|██████████| 233/233 [00:00<00:00, 5395.01it/s, accuracy=0.9485, avg_loss=0.1274]\n",
            "Epoch 24/500 - val: 100%|██████████| 35/35 [00:00<00:00, 4701.53it/s, accuracy=0.6857, avg_loss=1.8806]\n",
            "Epoch 25/500 - train: 100%|██████████| 233/233 [00:00<00:00, 4269.80it/s, accuracy=0.9571, avg_loss=0.1085]\n",
            "Epoch 25/500 - val: 100%|██████████| 35/35 [00:00<00:00, 1400.74it/s, accuracy=0.7143, avg_loss=1.5629]\n",
            "Epoch 26/500 - train: 100%|██████████| 233/233 [00:00<00:00, 2335.14it/s, accuracy=0.9528, avg_loss=0.1107]\n",
            "Epoch 26/500 - val: 100%|██████████| 35/35 [00:00<00:00, 1959.90it/s, accuracy=0.6857, avg_loss=1.8064]\n",
            "Epoch 27/500 - train: 100%|██████████| 233/233 [00:00<00:00, 4951.48it/s, accuracy=0.9614, avg_loss=0.1126]\n",
            "Epoch 27/500 - val: 100%|██████████| 35/35 [00:00<00:00, 4329.25it/s, accuracy=0.6571, avg_loss=1.7270]\n",
            "Epoch 28/500 - train: 100%|██████████| 233/233 [00:00<00:00, 5756.79it/s, accuracy=0.9442, avg_loss=0.1353]\n",
            "Epoch 28/500 - val: 100%|██████████| 35/35 [00:00<00:00, 2147.50it/s, accuracy=0.6857, avg_loss=1.6923]\n",
            "Epoch 29/500 - train: 100%|██████████| 233/233 [00:00<00:00, 4689.27it/s, accuracy=0.9227, avg_loss=0.1268]\n",
            "Epoch 29/500 - val: 100%|██████████| 35/35 [00:00<00:00, 4762.39it/s, accuracy=0.6857, avg_loss=1.7706]\n",
            "Epoch 30/500 - train: 100%|██████████| 233/233 [00:00<00:00, 5062.23it/s, accuracy=0.9528, avg_loss=0.1344]\n",
            "Epoch 30/500 - val: 100%|██████████| 35/35 [00:00<00:00, 2760.97it/s, accuracy=0.6571, avg_loss=1.7906]\n",
            "Epoch 31/500 - train: 100%|██████████| 233/233 [00:00<00:00, 4719.16it/s, accuracy=0.9399, avg_loss=0.1391]\n",
            "Epoch 31/500 - val: 100%|██████████| 35/35 [00:00<00:00, 4458.64it/s, accuracy=0.6857, avg_loss=1.8735]\n",
            "Epoch 32/500 - train: 100%|██████████| 233/233 [00:00<00:00, 5862.96it/s, accuracy=0.9399, avg_loss=0.1243]\n",
            "Epoch 32/500 - val: 100%|██████████| 35/35 [00:00<00:00, 4160.43it/s, accuracy=0.6857, avg_loss=1.5661]\n",
            "Epoch 33/500 - train: 100%|██████████| 233/233 [00:00<00:00, 4912.33it/s, accuracy=0.9356, avg_loss=0.1362]\n",
            "Epoch 33/500 - val: 100%|██████████| 35/35 [00:00<00:00, 5669.51it/s, accuracy=0.6857, avg_loss=2.0168]\n",
            "Epoch 34/500 - train: 100%|██████████| 233/233 [00:00<00:00, 5905.76it/s, accuracy=0.9528, avg_loss=0.1371]\n",
            "Epoch 34/500 - val: 100%|██████████| 35/35 [00:00<00:00, 4868.20it/s, accuracy=0.6857, avg_loss=1.7278]\n",
            "Epoch 35/500 - train: 100%|██████████| 233/233 [00:00<00:00, 2520.19it/s, accuracy=0.9399, avg_loss=0.1411]\n",
            "Epoch 35/500 - val: 100%|██████████| 35/35 [00:00<00:00, 1706.29it/s, accuracy=0.6571, avg_loss=1.6990]\n",
            "Epoch 36/500 - train: 100%|██████████| 233/233 [00:00<00:00, 2849.69it/s, accuracy=0.9356, avg_loss=0.1322]\n",
            "Epoch 36/500 - val: 100%|██████████| 35/35 [00:00<00:00, 1574.51it/s, accuracy=0.6857, avg_loss=2.0308]\n",
            "Epoch 37/500 - train: 100%|██████████| 233/233 [00:00<00:00, 4246.98it/s, accuracy=0.9399, avg_loss=0.1164]\n",
            "Epoch 37/500 - val: 100%|██████████| 35/35 [00:00<00:00, 2939.19it/s, accuracy=0.6857, avg_loss=1.7156]\n",
            "Epoch 38/500 - train: 100%|██████████| 233/233 [00:00<00:00, 4729.37it/s, accuracy=0.9528, avg_loss=0.1220]\n",
            "Epoch 38/500 - val: 100%|██████████| 35/35 [00:00<00:00, 2061.72it/s, accuracy=0.6857, avg_loss=1.8661]\n",
            "Epoch 39/500 - train: 100%|██████████| 233/233 [00:00<00:00, 3462.30it/s, accuracy=0.9571, avg_loss=0.1081]\n",
            "Epoch 39/500 - val: 100%|██████████| 35/35 [00:00<00:00, 2089.12it/s, accuracy=0.6857, avg_loss=2.1328]\n",
            "Epoch 40/500 - train: 100%|██████████| 233/233 [00:00<00:00, 5344.55it/s, accuracy=0.9528, avg_loss=0.1158]\n",
            "Epoch 40/500 - val: 100%|██████████| 35/35 [00:00<00:00, 2287.40it/s, accuracy=0.6857, avg_loss=1.8677]\n",
            "Epoch 41/500 - train: 100%|██████████| 233/233 [00:00<00:00, 4697.21it/s, accuracy=0.9657, avg_loss=0.1023]\n",
            "Epoch 41/500 - val: 100%|██████████| 35/35 [00:00<00:00, 1990.52it/s, accuracy=0.6857, avg_loss=1.7942]\n",
            "Epoch 42/500 - train: 100%|██████████| 233/233 [00:00<00:00, 4322.99it/s, accuracy=0.9185, avg_loss=0.1761]\n",
            "Epoch 42/500 - val: 100%|██████████| 35/35 [00:00<00:00, 4746.22it/s, accuracy=0.6857, avg_loss=1.5011]\n",
            "Epoch 43/500 - train: 100%|██████████| 233/233 [00:00<00:00, 5380.24it/s, accuracy=0.9399, avg_loss=0.1520]\n",
            "Epoch 43/500 - val: 100%|██████████| 35/35 [00:00<00:00, 4978.15it/s, accuracy=0.6857, avg_loss=1.9341]\n",
            "Epoch 44/500 - train: 100%|██████████| 233/233 [00:00<00:00, 6215.88it/s, accuracy=0.9356, avg_loss=0.1254]\n",
            "Epoch 44/500 - val: 100%|██████████| 35/35 [00:00<00:00, 4972.58it/s, accuracy=0.6857, avg_loss=2.0544]\n",
            "Epoch 45/500 - train: 100%|██████████| 233/233 [00:00<00:00, 5671.17it/s, accuracy=0.9442, avg_loss=0.1222]\n",
            "Epoch 45/500 - val: 100%|██████████| 35/35 [00:00<00:00, 4818.35it/s, accuracy=0.6857, avg_loss=1.6505]\n",
            "Epoch 46/500 - train: 100%|██████████| 233/233 [00:00<00:00, 6197.86it/s, accuracy=0.9356, avg_loss=0.1290]\n",
            "Epoch 46/500 - val: 100%|██████████| 35/35 [00:00<00:00, 3226.74it/s, accuracy=0.6286, avg_loss=2.0022]\n",
            "Epoch 47/500 - train: 100%|██████████| 233/233 [00:00<00:00, 5505.51it/s, accuracy=0.9013, avg_loss=0.2381]\n",
            "Epoch 47/500 - val: 100%|██████████| 35/35 [00:00<00:00, 5818.73it/s, accuracy=0.6571, avg_loss=1.6799]\n",
            "Epoch 48/500 - train: 100%|██████████| 233/233 [00:00<00:00, 5400.10it/s, accuracy=0.9185, avg_loss=0.1787]\n",
            "Epoch 48/500 - val: 100%|██████████| 35/35 [00:00<00:00, 5118.75it/s, accuracy=0.6571, avg_loss=1.7806]\n",
            "Epoch 49/500 - train: 100%|██████████| 233/233 [00:00<00:00, 5461.88it/s, accuracy=0.9142, avg_loss=0.2180]\n",
            "Epoch 49/500 - val: 100%|██████████| 35/35 [00:00<00:00, 2415.84it/s, accuracy=0.6857, avg_loss=2.1861]\n",
            "Epoch 50/500 - train: 100%|██████████| 233/233 [00:00<00:00, 2654.41it/s, accuracy=0.9056, avg_loss=0.2137]\n",
            "Epoch 50/500 - val: 100%|██████████| 35/35 [00:00<00:00, 2272.42it/s, accuracy=0.7429, avg_loss=2.0022]\n",
            "Epoch 51/500 - train: 100%|██████████| 233/233 [00:00<00:00, 2477.99it/s, accuracy=0.8841, avg_loss=0.2926]\n",
            "Epoch 51/500 - val: 100%|██████████| 35/35 [00:00<00:00, 5024.32it/s, accuracy=0.6857, avg_loss=1.8796]\n",
            "Epoch 52/500 - train: 100%|██████████| 233/233 [00:00<00:00, 5243.98it/s, accuracy=0.9185, avg_loss=0.2277]\n",
            "Epoch 52/500 - val: 100%|██████████| 35/35 [00:00<00:00, 4310.06it/s, accuracy=0.6857, avg_loss=1.4803]\n",
            "Epoch 53/500 - train: 100%|██████████| 233/233 [00:00<00:00, 5168.40it/s, accuracy=0.9142, avg_loss=0.2009]\n",
            "Epoch 53/500 - val: 100%|██████████| 35/35 [00:00<00:00, 4495.64it/s, accuracy=0.6571, avg_loss=1.6291]\n",
            "Epoch 54/500 - train: 100%|██████████| 233/233 [00:00<00:00, 3930.99it/s, accuracy=0.9185, avg_loss=0.1649]\n",
            "Epoch 54/500 - val: 100%|██████████| 35/35 [00:00<00:00, 4891.40it/s, accuracy=0.6857, avg_loss=1.6970]\n",
            "Epoch 55/500 - train: 100%|██████████| 233/233 [00:00<00:00, 4776.32it/s, accuracy=0.9227, avg_loss=0.1567]\n",
            "Epoch 55/500 - val: 100%|██████████| 35/35 [00:00<00:00, 2872.25it/s, accuracy=0.7143, avg_loss=1.7271]\n",
            "Epoch 56/500 - train: 100%|██████████| 233/233 [00:00<00:00, 2396.96it/s, accuracy=0.9442, avg_loss=0.1299]\n",
            "Epoch 56/500 - val: 100%|██████████| 35/35 [00:00<00:00, 1988.74it/s, accuracy=0.7143, avg_loss=1.7914]\n",
            "Epoch 57/500 - train: 100%|██████████| 233/233 [00:00<00:00, 5030.33it/s, accuracy=0.9442, avg_loss=0.1570]\n",
            "Epoch 57/500 - val: 100%|██████████| 35/35 [00:00<00:00, 2934.96it/s, accuracy=0.6857, avg_loss=1.6525]\n",
            "Epoch 58/500 - train: 100%|██████████| 233/233 [00:00<00:00, 4262.97it/s, accuracy=0.9442, avg_loss=0.1415]\n",
            "Epoch 58/500 - val: 100%|██████████| 35/35 [00:00<00:00, 1456.76it/s, accuracy=0.6857, avg_loss=1.7549]\n",
            "Epoch 59/500 - train: 100%|██████████| 233/233 [00:00<00:00, 4617.62it/s, accuracy=0.9270, avg_loss=0.1665]\n",
            "Epoch 59/500 - val: 100%|██████████| 35/35 [00:00<00:00, 3101.57it/s, accuracy=0.6857, avg_loss=1.9784]\n",
            "Epoch 60/500 - train: 100%|██████████| 233/233 [00:00<00:00, 5277.65it/s, accuracy=0.9142, avg_loss=0.1921]\n",
            "Epoch 60/500 - val: 100%|██████████| 35/35 [00:00<00:00, 3587.42it/s, accuracy=0.6857, avg_loss=1.5147]\n",
            "Epoch 61/500 - train: 100%|██████████| 233/233 [00:00<00:00, 5232.49it/s, accuracy=0.9614, avg_loss=0.1118]\n",
            "Epoch 61/500 - val: 100%|██████████| 35/35 [00:00<00:00, 3997.29it/s, accuracy=0.7143, avg_loss=1.7021]\n",
            "Epoch 62/500 - train: 100%|██████████| 233/233 [00:00<00:00, 2693.51it/s, accuracy=0.9485, avg_loss=0.1015]\n",
            "Epoch 62/500 - val: 100%|██████████| 35/35 [00:00<00:00, 1501.40it/s, accuracy=0.7143, avg_loss=1.6442]\n",
            "Epoch 63/500 - train: 100%|██████████| 233/233 [00:00<00:00, 3507.50it/s, accuracy=0.9614, avg_loss=0.0940]\n",
            "Epoch 63/500 - val: 100%|██████████| 35/35 [00:00<00:00, 4479.86it/s, accuracy=0.6857, avg_loss=1.5852]\n",
            "Epoch 64/500 - train: 100%|██████████| 233/233 [00:00<00:00, 6137.88it/s, accuracy=0.9742, avg_loss=0.1022]\n",
            "Epoch 64/500 - val: 100%|██████████| 35/35 [00:00<00:00, 3714.40it/s, accuracy=0.6857, avg_loss=1.6411]\n",
            "Epoch 65/500 - train: 100%|██████████| 233/233 [00:00<00:00, 3410.02it/s, accuracy=0.9785, avg_loss=0.0793]\n",
            "Epoch 65/500 - val: 100%|██████████| 35/35 [00:00<00:00, 2532.05it/s, accuracy=0.7143, avg_loss=1.6442]\n",
            "Epoch 66/500 - train: 100%|██████████| 233/233 [00:00<00:00, 5281.30it/s, accuracy=0.9614, avg_loss=0.0920]\n",
            "Epoch 66/500 - val: 100%|██████████| 35/35 [00:00<00:00, 2304.45it/s, accuracy=0.7143, avg_loss=1.6317]\n",
            "Epoch 67/500 - train: 100%|██████████| 233/233 [00:00<00:00, 4194.97it/s, accuracy=0.9485, avg_loss=0.1173]\n",
            "Epoch 67/500 - val: 100%|██████████| 35/35 [00:00<00:00, 1988.82it/s, accuracy=0.6857, avg_loss=1.7959]\n",
            "Epoch 68/500 - train: 100%|██████████| 233/233 [00:00<00:00, 4276.53it/s, accuracy=0.9313, avg_loss=0.1365]\n",
            "Epoch 68/500 - val: 100%|██████████| 35/35 [00:00<00:00, 2102.56it/s, accuracy=0.6857, avg_loss=1.6085]\n",
            "Epoch 69/500 - train: 100%|██████████| 233/233 [00:00<00:00, 4363.45it/s, accuracy=0.9185, avg_loss=0.1542]\n",
            "Epoch 69/500 - val: 100%|██████████| 35/35 [00:00<00:00, 3866.94it/s, accuracy=0.6857, avg_loss=1.8410]\n",
            "Epoch 70/500 - train: 100%|██████████| 233/233 [00:00<00:00, 4795.94it/s, accuracy=0.9313, avg_loss=0.1443]\n",
            "Epoch 70/500 - val: 100%|██████████| 35/35 [00:00<00:00, 4384.99it/s, accuracy=0.6857, avg_loss=1.4557]\n",
            "Epoch 71/500 - train: 100%|██████████| 233/233 [00:00<00:00, 2773.77it/s, accuracy=0.9099, avg_loss=0.2546]\n",
            "Epoch 71/500 - val: 100%|██████████| 35/35 [00:00<00:00, 2885.57it/s, accuracy=0.6857, avg_loss=2.2945]\n",
            "Epoch 72/500 - train: 100%|██████████| 233/233 [00:00<00:00, 5346.39it/s, accuracy=0.8970, avg_loss=0.2704]\n",
            "Epoch 72/500 - val: 100%|██████████| 35/35 [00:00<00:00, 4968.71it/s, accuracy=0.7143, avg_loss=1.4480]\n",
            "Epoch 73/500 - train: 100%|██████████| 233/233 [00:00<00:00, 3989.62it/s, accuracy=0.8755, avg_loss=0.2549]\n",
            "Epoch 73/500 - val: 100%|██████████| 35/35 [00:00<00:00, 3569.97it/s, accuracy=0.7143, avg_loss=1.6931]\n",
            "Epoch 74/500 - train: 100%|██████████| 233/233 [00:00<00:00, 3508.88it/s, accuracy=0.9056, avg_loss=0.1783]\n",
            "Epoch 74/500 - val: 100%|██████████| 35/35 [00:00<00:00, 4541.40it/s, accuracy=0.6571, avg_loss=2.0407]\n",
            "Epoch 75/500 - train: 100%|██████████| 233/233 [00:00<00:00, 5328.21it/s, accuracy=0.9099, avg_loss=0.1859]\n",
            "Epoch 75/500 - val: 100%|██████████| 35/35 [00:00<00:00, 4977.14it/s, accuracy=0.6571, avg_loss=2.1184]\n",
            "Epoch 76/500 - train: 100%|██████████| 233/233 [00:00<00:00, 5857.40it/s, accuracy=0.9099, avg_loss=0.1985]\n",
            "Epoch 76/500 - val: 100%|██████████| 35/35 [00:00<00:00, 3472.93it/s, accuracy=0.7143, avg_loss=1.5323]\n",
            "Epoch 77/500 - train: 100%|██████████| 233/233 [00:00<00:00, 4072.09it/s, accuracy=0.9313, avg_loss=0.1606]\n",
            "Epoch 77/500 - val: 100%|██████████| 35/35 [00:00<00:00, 5200.53it/s, accuracy=0.6571, avg_loss=1.4818]\n",
            "Epoch 78/500 - train: 100%|██████████| 233/233 [00:00<00:00, 4507.80it/s, accuracy=0.9485, avg_loss=0.1494]\n",
            "Epoch 78/500 - val: 100%|██████████| 35/35 [00:00<00:00, 1364.28it/s, accuracy=0.6571, avg_loss=1.8149]\n",
            "Epoch 79/500 - train: 100%|██████████| 233/233 [00:00<00:00, 3371.05it/s, accuracy=0.9270, avg_loss=0.1374]\n",
            "Epoch 79/500 - val: 100%|██████████| 35/35 [00:00<00:00, 4962.33it/s, accuracy=0.7143, avg_loss=1.6756]\n",
            "Epoch 80/500 - train: 100%|██████████| 233/233 [00:00<00:00, 5889.92it/s, accuracy=0.9185, avg_loss=0.1453]\n",
            "Epoch 80/500 - val: 100%|██████████| 35/35 [00:00<00:00, 4864.98it/s, accuracy=0.6857, avg_loss=1.8321]\n",
            "Epoch 81/500 - train: 100%|██████████| 233/233 [00:00<00:00, 5837.92it/s, accuracy=0.9442, avg_loss=0.1297]\n",
            "Epoch 81/500 - val: 100%|██████████| 35/35 [00:00<00:00, 5272.25it/s, accuracy=0.6571, avg_loss=1.6124]\n",
            "Epoch 82/500 - train: 100%|██████████| 233/233 [00:00<00:00, 3875.38it/s, accuracy=0.9313, avg_loss=0.1315]\n",
            "Epoch 82/500 - val: 100%|██████████| 35/35 [00:00<00:00, 2004.60it/s, accuracy=0.6857, avg_loss=1.7316]\n",
            "Epoch 83/500 - train: 100%|██████████| 233/233 [00:00<00:00, 4430.57it/s, accuracy=0.9614, avg_loss=0.1050]\n",
            "Epoch 83/500 - val: 100%|██████████| 35/35 [00:00<00:00, 5742.03it/s, accuracy=0.6857, avg_loss=1.6185]\n",
            "Epoch 84/500 - train: 100%|██████████| 233/233 [00:00<00:00, 6490.57it/s, accuracy=0.9270, avg_loss=0.1446]\n",
            "Epoch 84/500 - val: 100%|██████████| 35/35 [00:00<00:00, 5567.17it/s, accuracy=0.6857, avg_loss=1.6581]\n",
            "Epoch 85/500 - train: 100%|██████████| 233/233 [00:00<00:00, 6134.22it/s, accuracy=0.9700, avg_loss=0.1094]\n",
            "Epoch 85/500 - val: 100%|██████████| 35/35 [00:00<00:00, 5112.33it/s, accuracy=0.6857, avg_loss=1.5399]\n",
            "Epoch 86/500 - train: 100%|██████████| 233/233 [00:00<00:00, 6280.19it/s, accuracy=0.9657, avg_loss=0.0947]\n",
            "Epoch 86/500 - val: 100%|██████████| 35/35 [00:00<00:00, 4647.06it/s, accuracy=0.6857, avg_loss=1.7698]\n",
            "Epoch 87/500 - train: 100%|██████████| 233/233 [00:00<00:00, 5918.70it/s, accuracy=0.9528, avg_loss=0.1069]\n",
            "Epoch 87/500 - val: 100%|██████████| 35/35 [00:00<00:00, 5788.67it/s, accuracy=0.6571, avg_loss=1.6832]\n",
            "Epoch 88/500 - train: 100%|██████████| 233/233 [00:00<00:00, 4506.16it/s, accuracy=0.9742, avg_loss=0.0844]\n",
            "Epoch 88/500 - val: 100%|██████████| 35/35 [00:00<00:00, 4809.19it/s, accuracy=0.6857, avg_loss=1.6971]\n",
            "Epoch 89/500 - train: 100%|██████████| 233/233 [00:00<00:00, 4356.41it/s, accuracy=0.9657, avg_loss=0.0877]\n",
            "Epoch 89/500 - val: 100%|██████████| 35/35 [00:00<00:00, 1930.14it/s, accuracy=0.6857, avg_loss=1.7050]\n",
            "Epoch 90/500 - train: 100%|██████████| 233/233 [00:00<00:00, 5666.24it/s, accuracy=0.9742, avg_loss=0.0787]\n",
            "Epoch 90/500 - val: 100%|██████████| 35/35 [00:00<00:00, 3572.83it/s, accuracy=0.6857, avg_loss=1.7732]\n",
            "Epoch 91/500 - train: 100%|██████████| 233/233 [00:00<00:00, 5341.40it/s, accuracy=0.9657, avg_loss=0.0855]\n",
            "Epoch 91/500 - val: 100%|██████████| 35/35 [00:00<00:00, 2857.32it/s, accuracy=0.6857, avg_loss=1.8365]\n",
            "Epoch 92/500 - train: 100%|██████████| 233/233 [00:00<00:00, 4640.60it/s, accuracy=0.9657, avg_loss=0.0801]\n",
            "Epoch 92/500 - val: 100%|██████████| 35/35 [00:00<00:00, 5114.83it/s, accuracy=0.6857, avg_loss=1.9201]\n",
            "Epoch 93/500 - train: 100%|██████████| 233/233 [00:00<00:00, 6523.24it/s, accuracy=0.9614, avg_loss=0.0903]\n",
            "Epoch 93/500 - val: 100%|██████████| 35/35 [00:00<00:00, 5085.77it/s, accuracy=0.6857, avg_loss=1.9735]\n",
            "Epoch 94/500 - train: 100%|██████████| 233/233 [00:00<00:00, 6018.62it/s, accuracy=0.9742, avg_loss=0.0792]\n",
            "Epoch 94/500 - val: 100%|██████████| 35/35 [00:00<00:00, 5155.60it/s, accuracy=0.6857, avg_loss=1.8987]\n",
            "Epoch 95/500 - train: 100%|██████████| 233/233 [00:00<00:00, 6466.52it/s, accuracy=0.9700, avg_loss=0.0781]\n",
            "Epoch 95/500 - val: 100%|██████████| 35/35 [00:00<00:00, 2849.28it/s, accuracy=0.6857, avg_loss=1.8773]\n",
            "Epoch 96/500 - train: 100%|██████████| 233/233 [00:00<00:00, 7081.94it/s, accuracy=0.9785, avg_loss=0.0719]\n",
            "Epoch 96/500 - val: 100%|██████████| 35/35 [00:00<00:00, 5660.77it/s, accuracy=0.6857, avg_loss=1.8473]\n",
            "Epoch 97/500 - train: 100%|██████████| 233/233 [00:00<00:00, 5867.15it/s, accuracy=0.9828, avg_loss=0.0729]\n",
            "Epoch 97/500 - val: 100%|██████████| 35/35 [00:00<00:00, 5656.40it/s, accuracy=0.6857, avg_loss=1.8877]\n",
            "Epoch 98/500 - train: 100%|██████████| 233/233 [00:00<00:00, 6068.51it/s, accuracy=0.9785, avg_loss=0.0748]\n",
            "Epoch 98/500 - val: 100%|██████████| 35/35 [00:00<00:00, 5147.47it/s, accuracy=0.6857, avg_loss=1.9543]\n",
            "Epoch 99/500 - train: 100%|██████████| 233/233 [00:00<00:00, 7024.32it/s, accuracy=0.9657, avg_loss=0.0814]\n",
            "Epoch 99/500 - val: 100%|██████████| 35/35 [00:00<00:00, 5169.04it/s, accuracy=0.6571, avg_loss=1.8705]\n",
            "Epoch 100/500 - train: 100%|██████████| 233/233 [00:00<00:00, 6458.36it/s, accuracy=0.9657, avg_loss=0.0775]\n",
            "Epoch 100/500 - val: 100%|██████████| 35/35 [00:00<00:00, 3890.10it/s, accuracy=0.6857, avg_loss=1.9734]\n",
            "Epoch 101/500 - train: 100%|██████████| 233/233 [00:00<00:00, 2675.43it/s, accuracy=0.9785, avg_loss=0.0814]\n",
            "Epoch 101/500 - val: 100%|██████████| 35/35 [00:00<00:00, 2068.87it/s, accuracy=0.6857, avg_loss=1.8439]\n",
            "Epoch 102/500 - train: 100%|██████████| 233/233 [00:00<00:00, 2832.08it/s, accuracy=0.9700, avg_loss=0.0868]\n",
            "Epoch 102/500 - val: 100%|██████████| 35/35 [00:00<00:00, 1943.53it/s, accuracy=0.6857, avg_loss=1.9269]\n",
            "Epoch 103/500 - train: 100%|██████████| 233/233 [00:00<00:00, 1764.98it/s, accuracy=0.9785, avg_loss=0.0745]\n",
            "Epoch 103/500 - val: 100%|██████████| 35/35 [00:00<00:00, 6181.34it/s, accuracy=0.6571, avg_loss=1.9101]\n",
            "Epoch 104/500 - train: 100%|██████████| 233/233 [00:00<00:00, 5595.67it/s, accuracy=0.9828, avg_loss=0.0750]\n",
            "Epoch 104/500 - val: 100%|██████████| 35/35 [00:00<00:00, 4891.24it/s, accuracy=0.6857, avg_loss=2.0260]\n",
            "Epoch 105/500 - train: 100%|██████████| 233/233 [00:00<00:00, 5549.85it/s, accuracy=0.9828, avg_loss=0.0694]\n",
            "Epoch 105/500 - val: 100%|██████████| 35/35 [00:00<00:00, 2029.31it/s, accuracy=0.6857, avg_loss=1.9874]\n",
            "Epoch 106/500 - train: 100%|██████████| 233/233 [00:00<00:00, 3199.56it/s, accuracy=0.9657, avg_loss=0.0814]\n",
            "Epoch 106/500 - val: 100%|██████████| 35/35 [00:00<00:00, 4857.57it/s, accuracy=0.6857, avg_loss=2.0241]\n",
            "Epoch 107/500 - train: 100%|██████████| 233/233 [00:00<00:00, 3038.57it/s, accuracy=0.9614, avg_loss=0.0786]\n",
            "Epoch 107/500 - val: 100%|██████████| 35/35 [00:00<00:00, 1793.07it/s, accuracy=0.6857, avg_loss=1.9124]\n",
            "Epoch 108/500 - train: 100%|██████████| 233/233 [00:00<00:00, 1100.94it/s, accuracy=0.9742, avg_loss=0.0801]\n",
            "Epoch 108/500 - val: 100%|██████████| 35/35 [00:00<00:00, 3031.38it/s, accuracy=0.6857, avg_loss=2.0261]\n",
            "Epoch 109/500 - train: 100%|██████████| 233/233 [00:00<00:00, 3443.04it/s, accuracy=0.9828, avg_loss=0.0760]\n",
            "Epoch 109/500 - val: 100%|██████████| 35/35 [00:00<00:00, 1721.86it/s, accuracy=0.6571, avg_loss=1.9368]\n",
            "Epoch 110/500 - train: 100%|██████████| 233/233 [00:00<00:00, 3916.88it/s, accuracy=0.9742, avg_loss=0.0836]\n",
            "Epoch 110/500 - val: 100%|██████████| 35/35 [00:00<00:00, 2327.95it/s, accuracy=0.6857, avg_loss=2.0541]\n",
            "Epoch 111/500 - train: 100%|██████████| 233/233 [00:00<00:00, 3754.41it/s, accuracy=0.9742, avg_loss=0.0828]\n",
            "Epoch 111/500 - val: 100%|██████████| 35/35 [00:00<00:00, 3704.00it/s, accuracy=0.6571, avg_loss=1.9166]\n",
            "Epoch 112/500 - train: 100%|██████████| 233/233 [00:00<00:00, 3950.56it/s, accuracy=0.9785, avg_loss=0.0710]\n",
            "Epoch 112/500 - val: 100%|██████████| 35/35 [00:00<00:00, 4308.54it/s, accuracy=0.6857, avg_loss=1.9177]\n",
            "Epoch 113/500 - train: 100%|██████████| 233/233 [00:00<00:00, 5700.64it/s, accuracy=0.9785, avg_loss=0.0643]\n",
            "Epoch 113/500 - val: 100%|██████████| 35/35 [00:00<00:00, 4503.92it/s, accuracy=0.6857, avg_loss=1.9088]\n",
            "Epoch 114/500 - train: 100%|██████████| 233/233 [00:00<00:00, 5586.78it/s, accuracy=0.9742, avg_loss=0.0687]\n",
            "Epoch 114/500 - val: 100%|██████████| 35/35 [00:00<00:00, 4812.66it/s, accuracy=0.6857, avg_loss=2.0045]\n",
            "Epoch 115/500 - train: 100%|██████████| 233/233 [00:00<00:00, 5559.92it/s, accuracy=0.9871, avg_loss=0.0651]\n",
            "Epoch 115/500 - val: 100%|██████████| 35/35 [00:00<00:00, 5190.24it/s, accuracy=0.6857, avg_loss=2.0410]\n",
            "Epoch 116/500 - train: 100%|██████████| 233/233 [00:00<00:00, 6093.37it/s, accuracy=0.9828, avg_loss=0.0626]\n",
            "Epoch 116/500 - val: 100%|██████████| 35/35 [00:00<00:00, 5250.94it/s, accuracy=0.6857, avg_loss=2.1147]\n",
            "Epoch 117/500 - train: 100%|██████████| 233/233 [00:00<00:00, 4990.80it/s, accuracy=0.9871, avg_loss=0.0643]\n",
            "Epoch 117/500 - val: 100%|██████████| 35/35 [00:00<00:00, 5534.63it/s, accuracy=0.6857, avg_loss=2.0473]\n",
            "Epoch 118/500 - train: 100%|██████████| 233/233 [00:00<00:00, 5055.73it/s, accuracy=0.9871, avg_loss=0.0643]\n",
            "Epoch 118/500 - val: 100%|██████████| 35/35 [00:00<00:00, 1529.72it/s, accuracy=0.6857, avg_loss=1.9379]\n",
            "Epoch 119/500 - train: 100%|██████████| 233/233 [00:00<00:00, 3943.73it/s, accuracy=0.9742, avg_loss=0.0702]\n",
            "Epoch 119/500 - val: 100%|██████████| 35/35 [00:00<00:00, 4918.77it/s, accuracy=0.6857, avg_loss=2.0165]\n",
            "Epoch 120/500 - train: 100%|██████████| 233/233 [00:00<00:00, 5744.95it/s, accuracy=0.9571, avg_loss=0.0986]\n",
            "Epoch 120/500 - val: 100%|██████████| 35/35 [00:00<00:00, 4641.77it/s, accuracy=0.6857, avg_loss=1.9915]\n",
            "Epoch 121/500 - train: 100%|██████████| 233/233 [00:00<00:00, 3976.03it/s, accuracy=0.9742, avg_loss=0.0730]\n",
            "Epoch 121/500 - val: 100%|██████████| 35/35 [00:00<00:00, 2062.85it/s, accuracy=0.6857, avg_loss=2.0708]\n",
            "Epoch 122/500 - train: 100%|██████████| 233/233 [00:00<00:00, 3318.45it/s, accuracy=0.9785, avg_loss=0.0622]\n",
            "Epoch 122/500 - val: 100%|██████████| 35/35 [00:00<00:00, 5067.51it/s, accuracy=0.6857, avg_loss=2.0874]\n",
            "Epoch 123/500 - train: 100%|██████████| 233/233 [00:00<00:00, 4761.49it/s, accuracy=0.9871, avg_loss=0.0589]\n",
            "Epoch 123/500 - val: 100%|██████████| 35/35 [00:00<00:00, 1729.77it/s, accuracy=0.6857, avg_loss=2.1249]\n",
            "Epoch 124/500 - train: 100%|██████████| 233/233 [00:00<00:00, 3471.67it/s, accuracy=0.9785, avg_loss=0.0627]\n",
            "Epoch 124/500 - val: 100%|██████████| 35/35 [00:00<00:00, 2654.86it/s, accuracy=0.6857, avg_loss=2.0333]\n",
            "Epoch 125/500 - train: 100%|██████████| 233/233 [00:00<00:00, 3536.76it/s, accuracy=0.9785, avg_loss=0.0605]\n",
            "Epoch 125/500 - val: 100%|██████████| 35/35 [00:00<00:00, 2925.07it/s, accuracy=0.6857, avg_loss=2.0630]\n",
            "Epoch 126/500 - train: 100%|██████████| 233/233 [00:00<00:00, 3825.39it/s, accuracy=0.9828, avg_loss=0.0585]\n",
            "Epoch 126/500 - val: 100%|██████████| 35/35 [00:00<00:00, 2037.57it/s, accuracy=0.6571, avg_loss=1.9964]\n",
            "Epoch 127/500 - train: 100%|██████████| 233/233 [00:00<00:00, 3170.99it/s, accuracy=0.9785, avg_loss=0.0748]\n",
            "Epoch 127/500 - val: 100%|██████████| 35/35 [00:00<00:00, 2678.40it/s, accuracy=0.6857, avg_loss=2.1718]\n",
            "Epoch 128/500 - train: 100%|██████████| 233/233 [00:00<00:00, 3371.42it/s, accuracy=0.9742, avg_loss=0.0676]\n",
            "Epoch 128/500 - val: 100%|██████████| 35/35 [00:00<00:00, 3279.80it/s, accuracy=0.6571, avg_loss=2.0544]\n",
            "Epoch 129/500 - train: 100%|██████████| 233/233 [00:00<00:00, 3829.59it/s, accuracy=0.9828, avg_loss=0.0646]\n",
            "Epoch 129/500 - val: 100%|██████████| 35/35 [00:00<00:00, 3022.89it/s, accuracy=0.6857, avg_loss=2.1217]\n",
            "Epoch 130/500 - train: 100%|██████████| 233/233 [00:00<00:00, 4824.54it/s, accuracy=0.9871, avg_loss=0.0653]\n",
            "Epoch 130/500 - val: 100%|██████████| 35/35 [00:00<00:00, 4349.91it/s, accuracy=0.6857, avg_loss=2.0079]\n",
            "Epoch 131/500 - train: 100%|██████████| 233/233 [00:00<00:00, 6022.18it/s, accuracy=0.9828, avg_loss=0.0681]\n",
            "Epoch 131/500 - val: 100%|██████████| 35/35 [00:00<00:00, 1760.16it/s, accuracy=0.6857, avg_loss=1.9991]\n",
            "Epoch 132/500 - train: 100%|██████████| 233/233 [00:00<00:00, 3672.60it/s, accuracy=0.9657, avg_loss=0.0790]\n",
            "Epoch 132/500 - val: 100%|██████████| 35/35 [00:00<00:00, 5721.88it/s, accuracy=0.6857, avg_loss=2.1195]\n",
            "Epoch 133/500 - train: 100%|██████████| 233/233 [00:00<00:00, 1908.17it/s, accuracy=0.9742, avg_loss=0.0702]\n",
            "Epoch 133/500 - val: 100%|██████████| 35/35 [00:00<00:00, 4621.75it/s, accuracy=0.6571, avg_loss=2.0607]\n",
            "Epoch 134/500 - train: 100%|██████████| 233/233 [00:00<00:00, 4561.94it/s, accuracy=0.9742, avg_loss=0.0680]\n",
            "Epoch 134/500 - val: 100%|██████████| 35/35 [00:00<00:00, 5403.04it/s, accuracy=0.6857, avg_loss=2.2023]\n",
            "Epoch 135/500 - train: 100%|██████████| 233/233 [00:00<00:00, 3070.71it/s, accuracy=0.9828, avg_loss=0.0693]\n",
            "Epoch 135/500 - val: 100%|██████████| 35/35 [00:00<00:00, 4962.16it/s, accuracy=0.6571, avg_loss=2.0368]\n",
            "Epoch 136/500 - train: 100%|██████████| 233/233 [00:00<00:00, 5746.50it/s, accuracy=0.9828, avg_loss=0.0599]\n",
            "Epoch 136/500 - val: 100%|██████████| 35/35 [00:00<00:00, 5336.26it/s, accuracy=0.6857, avg_loss=2.1057]\n",
            "Epoch 137/500 - train: 100%|██████████| 233/233 [00:00<00:00, 4102.74it/s, accuracy=0.9828, avg_loss=0.0639]\n",
            "Epoch 137/500 - val: 100%|██████████| 35/35 [00:00<00:00, 3999.69it/s, accuracy=0.6857, avg_loss=2.0465]\n",
            "Epoch 138/500 - train: 100%|██████████| 233/233 [00:00<00:00, 3833.51it/s, accuracy=0.9742, avg_loss=0.0611]\n",
            "Epoch 138/500 - val: 100%|██████████| 35/35 [00:00<00:00, 2762.32it/s, accuracy=0.6857, avg_loss=2.2383]\n",
            "Epoch 139/500 - train: 100%|██████████| 233/233 [00:00<00:00, 4278.82it/s, accuracy=0.9871, avg_loss=0.0539]\n",
            "Epoch 139/500 - val: 100%|██████████| 35/35 [00:00<00:00, 1032.56it/s, accuracy=0.6571, avg_loss=2.1778]\n",
            "Epoch 140/500 - train: 100%|██████████| 233/233 [00:00<00:00, 2154.66it/s, accuracy=0.9828, avg_loss=0.0611]\n",
            "Epoch 140/500 - val: 100%|██████████| 35/35 [00:00<00:00, 1460.83it/s, accuracy=0.6857, avg_loss=2.1332]\n",
            "Epoch 141/500 - train: 100%|██████████| 233/233 [00:00<00:00, 3369.43it/s, accuracy=0.9785, avg_loss=0.0633]\n",
            "Epoch 141/500 - val: 100%|██████████| 35/35 [00:00<00:00, 5586.23it/s, accuracy=0.6857, avg_loss=2.0028]\n",
            "Epoch 142/500 - train: 100%|██████████| 233/233 [00:00<00:00, 4756.30it/s, accuracy=0.9871, avg_loss=0.0563]\n",
            "Epoch 142/500 - val: 100%|██████████| 35/35 [00:00<00:00, 3550.28it/s, accuracy=0.6857, avg_loss=2.0322]\n",
            "Epoch 143/500 - train: 100%|██████████| 233/233 [00:00<00:00, 4879.78it/s, accuracy=0.9871, avg_loss=0.0567]\n",
            "Epoch 143/500 - val: 100%|██████████| 35/35 [00:00<00:00, 2315.91it/s, accuracy=0.6857, avg_loss=2.1122]\n",
            "Epoch 144/500 - train: 100%|██████████| 233/233 [00:00<00:00, 2730.06it/s, accuracy=0.9871, avg_loss=0.0496]\n",
            "Epoch 144/500 - val: 100%|██████████| 35/35 [00:00<00:00, 3195.83it/s, accuracy=0.6857, avg_loss=2.0621]\n",
            "Epoch 145/500 - train: 100%|██████████| 233/233 [00:00<00:00, 4113.43it/s, accuracy=0.9828, avg_loss=0.0534]\n",
            "Epoch 145/500 - val: 100%|██████████| 35/35 [00:00<00:00, 1850.53it/s, accuracy=0.6857, avg_loss=2.0229]\n",
            "Epoch 146/500 - train: 100%|██████████| 233/233 [00:00<00:00, 5538.68it/s, accuracy=0.9871, avg_loss=0.0501]\n",
            "Epoch 146/500 - val: 100%|██████████| 35/35 [00:00<00:00, 5180.71it/s, accuracy=0.6857, avg_loss=2.0648]\n",
            "Epoch 147/500 - train: 100%|██████████| 233/233 [00:00<00:00, 4087.79it/s, accuracy=0.9871, avg_loss=0.0530]\n",
            "Epoch 147/500 - val: 100%|██████████| 35/35 [00:00<00:00, 5127.69it/s, accuracy=0.6857, avg_loss=2.0983]\n",
            "Epoch 148/500 - train: 100%|██████████| 233/233 [00:00<00:00, 4357.13it/s, accuracy=0.9871, avg_loss=0.0526]\n",
            "Epoch 148/500 - val: 100%|██████████| 35/35 [00:00<00:00, 6179.00it/s, accuracy=0.6857, avg_loss=2.1405]\n",
            "Epoch 149/500 - train: 100%|██████████| 233/233 [00:00<00:00, 6054.26it/s, accuracy=0.9871, avg_loss=0.0526]\n",
            "Epoch 149/500 - val: 100%|██████████| 35/35 [00:00<00:00, 5450.59it/s, accuracy=0.6857, avg_loss=2.0701]\n",
            "Epoch 150/500 - train: 100%|██████████| 233/233 [00:00<00:00, 2466.00it/s, accuracy=0.9914, avg_loss=0.0487]\n",
            "Epoch 150/500 - val: 100%|██████████| 35/35 [00:00<00:00, 1942.45it/s, accuracy=0.6857, avg_loss=2.1422]\n",
            "Epoch 151/500 - train: 100%|██████████| 233/233 [00:00<00:00, 5702.54it/s, accuracy=0.9914, avg_loss=0.0524]\n",
            "Epoch 151/500 - val: 100%|██████████| 35/35 [00:00<00:00, 2059.32it/s, accuracy=0.6857, avg_loss=2.1391]\n",
            "Epoch 152/500 - train: 100%|██████████| 233/233 [00:00<00:00, 3708.79it/s, accuracy=0.9871, avg_loss=0.0500]\n",
            "Epoch 152/500 - val: 100%|██████████| 35/35 [00:00<00:00, 1358.36it/s, accuracy=0.6857, avg_loss=2.1519]\n",
            "Epoch 153/500 - train: 100%|██████████| 233/233 [00:00<00:00, 3252.19it/s, accuracy=0.9871, avg_loss=0.0550]\n",
            "Epoch 153/500 - val: 100%|██████████| 35/35 [00:00<00:00, 6059.63it/s, accuracy=0.6857, avg_loss=2.1525]\n",
            "Epoch 154/500 - train: 100%|██████████| 233/233 [00:00<00:00, 5748.53it/s, accuracy=0.9914, avg_loss=0.0536]\n",
            "Epoch 154/500 - val: 100%|██████████| 35/35 [00:00<00:00, 5308.48it/s, accuracy=0.6857, avg_loss=2.1100]\n",
            "Epoch 155/500 - train: 100%|██████████| 233/233 [00:00<00:00, 3945.34it/s, accuracy=0.9785, avg_loss=0.0592]\n",
            "Epoch 155/500 - val: 100%|██████████| 35/35 [00:00<00:00, 3887.21it/s, accuracy=0.6857, avg_loss=2.2394]\n",
            "Epoch 156/500 - train: 100%|██████████| 233/233 [00:00<00:00, 4191.55it/s, accuracy=0.9828, avg_loss=0.0578]\n",
            "Epoch 156/500 - val: 100%|██████████| 35/35 [00:00<00:00, 4503.64it/s, accuracy=0.6857, avg_loss=2.1919]\n",
            "Epoch 157/500 - train: 100%|██████████| 233/233 [00:00<00:00, 5169.61it/s, accuracy=0.9914, avg_loss=0.0551]\n",
            "Epoch 157/500 - val: 100%|██████████| 35/35 [00:00<00:00, 2847.13it/s, accuracy=0.6857, avg_loss=2.1514]\n",
            "Epoch 158/500 - train: 100%|██████████| 233/233 [00:00<00:00, 4221.41it/s, accuracy=0.9871, avg_loss=0.0500]\n",
            "Epoch 158/500 - val: 100%|██████████| 35/35 [00:00<00:00, 5104.87it/s, accuracy=0.6857, avg_loss=2.1035]\n",
            "Epoch 159/500 - train: 100%|██████████| 233/233 [00:00<00:00, 4104.67it/s, accuracy=0.9871, avg_loss=0.0621]\n",
            "Epoch 159/500 - val: 100%|██████████| 35/35 [00:00<00:00, 3120.10it/s, accuracy=0.6571, avg_loss=2.0316]\n",
            "Epoch 160/500 - train: 100%|██████████| 233/233 [00:00<00:00, 2877.68it/s, accuracy=0.9485, avg_loss=0.0973]\n",
            "Epoch 160/500 - val: 100%|██████████| 35/35 [00:00<00:00, 2740.66it/s, accuracy=0.6857, avg_loss=2.3551]\n",
            "Epoch 161/500 - train: 100%|██████████| 233/233 [00:00<00:00, 4159.28it/s, accuracy=0.9056, avg_loss=0.1734]\n",
            "Epoch 161/500 - val: 100%|██████████| 35/35 [00:00<00:00, 2702.27it/s, accuracy=0.6571, avg_loss=2.1432]\n",
            "Epoch 162/500 - train: 100%|██████████| 233/233 [00:00<00:00, 2518.13it/s, accuracy=0.9528, avg_loss=0.1319]\n",
            "Epoch 162/500 - val: 100%|██████████| 35/35 [00:00<00:00, 2134.63it/s, accuracy=0.6571, avg_loss=2.0400]\n",
            "Epoch 163/500 - train: 100%|██████████| 233/233 [00:00<00:00, 3849.70it/s, accuracy=0.9614, avg_loss=0.1226]\n",
            "Epoch 163/500 - val: 100%|██████████| 35/35 [00:00<00:00, 2774.69it/s, accuracy=0.6857, avg_loss=2.0778]\n",
            "Epoch 164/500 - train: 100%|██████████| 233/233 [00:00<00:00, 4080.15it/s, accuracy=0.9742, avg_loss=0.0923]\n",
            "Epoch 164/500 - val: 100%|██████████| 35/35 [00:00<00:00, 3527.67it/s, accuracy=0.6857, avg_loss=2.0670]\n",
            "Epoch 165/500 - train: 100%|██████████| 233/233 [00:00<00:00, 3411.65it/s, accuracy=0.9528, avg_loss=0.0984]\n",
            "Epoch 165/500 - val: 100%|██████████| 35/35 [00:00<00:00, 1438.67it/s, accuracy=0.6571, avg_loss=2.1245]\n",
            "Epoch 166/500 - train: 100%|██████████| 233/233 [00:00<00:00, 3843.57it/s, accuracy=0.9571, avg_loss=0.0866]\n",
            "Epoch 166/500 - val: 100%|██████████| 35/35 [00:00<00:00, 2783.85it/s, accuracy=0.6857, avg_loss=1.8291]\n",
            "Epoch 167/500 - train: 100%|██████████| 233/233 [00:00<00:00, 4001.56it/s, accuracy=0.9742, avg_loss=0.0685]\n",
            "Epoch 167/500 - val: 100%|██████████| 35/35 [00:00<00:00, 2787.28it/s, accuracy=0.6571, avg_loss=2.1632]\n",
            "Epoch 168/500 - train: 100%|██████████| 233/233 [00:00<00:00, 3406.32it/s, accuracy=0.9528, avg_loss=0.1359]\n",
            "Epoch 168/500 - val: 100%|██████████| 35/35 [00:00<00:00, 1145.94it/s, accuracy=0.6857, avg_loss=2.0180]\n",
            "Epoch 169/500 - train: 100%|██████████| 233/233 [00:00<00:00, 4223.05it/s, accuracy=0.8970, avg_loss=0.2066]\n",
            "Epoch 169/500 - val: 100%|██████████| 35/35 [00:00<00:00, 3177.57it/s, accuracy=0.7714, avg_loss=1.7350]\n",
            "Epoch 170/500 - train: 100%|██████████| 233/233 [00:00<00:00, 3811.59it/s, accuracy=0.8927, avg_loss=0.3097]\n",
            "Epoch 170/500 - val: 100%|██████████| 35/35 [00:00<00:00, 4356.49it/s, accuracy=0.6286, avg_loss=2.7306]\n",
            "Epoch 171/500 - train: 100%|██████████| 233/233 [00:00<00:00, 4047.48it/s, accuracy=0.9099, avg_loss=0.2658]\n",
            "Epoch 171/500 - val: 100%|██████████| 35/35 [00:00<00:00, 3212.06it/s, accuracy=0.6571, avg_loss=2.1159]\n",
            "Epoch 172/500 - train: 100%|██████████| 233/233 [00:00<00:00, 4731.62it/s, accuracy=0.8970, avg_loss=0.2684]\n",
            "Epoch 172/500 - val: 100%|██████████| 35/35 [00:00<00:00, 5142.96it/s, accuracy=0.6857, avg_loss=1.5639]\n",
            "Epoch 173/500 - train: 100%|██████████| 233/233 [00:00<00:00, 6589.08it/s, accuracy=0.9399, avg_loss=0.2027]\n",
            "Epoch 173/500 - val: 100%|██████████| 35/35 [00:00<00:00, 5197.95it/s, accuracy=0.7143, avg_loss=1.7198]\n",
            "Epoch 174/500 - train: 100%|██████████| 233/233 [00:00<00:00, 5617.61it/s, accuracy=0.9270, avg_loss=0.2254]\n",
            "Epoch 174/500 - val: 100%|██████████| 35/35 [00:00<00:00, 4914.16it/s, accuracy=0.7429, avg_loss=1.8333]\n",
            "Epoch 175/500 - train: 100%|██████████| 233/233 [00:00<00:00, 4316.61it/s, accuracy=0.9227, avg_loss=0.1751]\n",
            "Epoch 175/500 - val: 100%|██████████| 35/35 [00:00<00:00, 2513.32it/s, accuracy=0.6286, avg_loss=2.0801]\n",
            "Epoch 176/500 - train: 100%|██████████| 233/233 [00:00<00:00, 3971.10it/s, accuracy=0.9313, avg_loss=0.1924]\n",
            "Epoch 176/500 - val: 100%|██████████| 35/35 [00:00<00:00, 3011.67it/s, accuracy=0.7143, avg_loss=2.0735]\n",
            "Epoch 177/500 - train: 100%|██████████| 233/233 [00:00<00:00, 2600.08it/s, accuracy=0.9828, avg_loss=0.0784]\n",
            "Epoch 177/500 - val: 100%|██████████| 35/35 [00:00<00:00, 4810.77it/s, accuracy=0.6857, avg_loss=2.0825]\n",
            "Epoch 178/500 - train: 100%|██████████| 233/233 [00:00<00:00, 3931.44it/s, accuracy=0.9700, avg_loss=0.0877]\n",
            "Epoch 178/500 - val: 100%|██████████| 35/35 [00:00<00:00, 1752.55it/s, accuracy=0.7143, avg_loss=1.5609]\n",
            "Epoch 179/500 - train: 100%|██████████| 233/233 [00:00<00:00, 4075.38it/s, accuracy=0.9742, avg_loss=0.1002]\n",
            "Epoch 179/500 - val: 100%|██████████| 35/35 [00:00<00:00, 3471.45it/s, accuracy=0.6857, avg_loss=1.9083]\n",
            "Epoch 180/500 - train: 100%|██████████| 233/233 [00:00<00:00, 4114.28it/s, accuracy=0.9614, avg_loss=0.1058]\n",
            "Epoch 180/500 - val: 100%|██████████| 35/35 [00:00<00:00, 3241.42it/s, accuracy=0.6571, avg_loss=2.3676]\n",
            "Epoch 181/500 - train: 100%|██████████| 233/233 [00:00<00:00, 4199.84it/s, accuracy=0.9571, avg_loss=0.1012]\n",
            "Epoch 181/500 - val: 100%|██████████| 35/35 [00:00<00:00, 3486.29it/s, accuracy=0.6857, avg_loss=1.9017]\n",
            "Epoch 182/500 - train: 100%|██████████| 233/233 [00:00<00:00, 4303.12it/s, accuracy=0.9528, avg_loss=0.1146]\n",
            "Epoch 182/500 - val: 100%|██████████| 35/35 [00:00<00:00, 3806.68it/s, accuracy=0.6857, avg_loss=1.9680]\n",
            "Epoch 183/500 - train: 100%|██████████| 233/233 [00:00<00:00, 3722.83it/s, accuracy=0.9700, avg_loss=0.0771]\n",
            "Epoch 183/500 - val: 100%|██████████| 35/35 [00:00<00:00, 2493.18it/s, accuracy=0.6571, avg_loss=1.9904]\n",
            "Epoch 184/500 - train: 100%|██████████| 233/233 [00:00<00:00, 3176.36it/s, accuracy=0.9785, avg_loss=0.0832]\n",
            "Epoch 184/500 - val: 100%|██████████| 35/35 [00:00<00:00, 2989.40it/s, accuracy=0.6857, avg_loss=2.3743]\n",
            "Epoch 185/500 - train: 100%|██████████| 233/233 [00:00<00:00, 3610.64it/s, accuracy=0.9700, avg_loss=0.0969]\n",
            "Epoch 185/500 - val: 100%|██████████| 35/35 [00:00<00:00, 4107.58it/s, accuracy=0.6857, avg_loss=1.7329]\n",
            "Epoch 186/500 - train: 100%|██████████| 233/233 [00:00<00:00, 3464.87it/s, accuracy=0.9785, avg_loss=0.0996]\n",
            "Epoch 186/500 - val: 100%|██████████| 35/35 [00:00<00:00, 3632.60it/s, accuracy=0.6857, avg_loss=1.8754]\n",
            "Epoch 187/500 - train: 100%|██████████| 233/233 [00:00<00:00, 4351.05it/s, accuracy=0.9700, avg_loss=0.1014]\n",
            "Epoch 187/500 - val: 100%|██████████| 35/35 [00:00<00:00, 2677.72it/s, accuracy=0.6571, avg_loss=1.8758]\n",
            "Epoch 188/500 - train: 100%|██████████| 233/233 [00:00<00:00, 2914.62it/s, accuracy=0.9313, avg_loss=0.1316]\n",
            "Epoch 188/500 - val: 100%|██████████| 35/35 [00:00<00:00, 1618.69it/s, accuracy=0.6571, avg_loss=2.3696]\n",
            "Epoch 189/500 - train: 100%|██████████| 233/233 [00:00<00:00, 3900.11it/s, accuracy=0.9657, avg_loss=0.0840]\n",
            "Epoch 189/500 - val: 100%|██████████| 35/35 [00:00<00:00, 2400.55it/s, accuracy=0.6571, avg_loss=2.0059]\n",
            "Epoch 190/500 - train: 100%|██████████| 233/233 [00:00<00:00, 4652.66it/s, accuracy=0.9742, avg_loss=0.0671]\n",
            "Epoch 190/500 - val: 100%|██████████| 35/35 [00:00<00:00, 2863.12it/s, accuracy=0.6857, avg_loss=1.9359]\n",
            "Epoch 191/500 - train: 100%|██████████| 233/233 [00:00<00:00, 3858.32it/s, accuracy=0.9871, avg_loss=0.0666]\n",
            "Epoch 191/500 - val: 100%|██████████| 35/35 [00:00<00:00, 5280.22it/s, accuracy=0.6857, avg_loss=1.8651]\n",
            "Epoch 192/500 - train: 100%|██████████| 233/233 [00:00<00:00, 6342.34it/s, accuracy=0.9828, avg_loss=0.0635]\n",
            "Epoch 192/500 - val: 100%|██████████| 35/35 [00:00<00:00, 1337.23it/s, accuracy=0.6857, avg_loss=2.0282]\n",
            "Epoch 193/500 - train: 100%|██████████| 233/233 [00:00<00:00, 4908.87it/s, accuracy=0.9828, avg_loss=0.0575]\n",
            "Epoch 193/500 - val: 100%|██████████| 35/35 [00:00<00:00, 4947.28it/s, accuracy=0.6857, avg_loss=2.1818]\n",
            "Epoch 194/500 - train: 100%|██████████| 233/233 [00:00<00:00, 3415.28it/s, accuracy=0.9871, avg_loss=0.0514]\n",
            "Epoch 194/500 - val: 100%|██████████| 35/35 [00:00<00:00, 2390.19it/s, accuracy=0.6857, avg_loss=2.1464]\n",
            "Epoch 195/500 - train: 100%|██████████| 233/233 [00:00<00:00, 3614.48it/s, accuracy=0.9657, avg_loss=0.0713]\n",
            "Epoch 195/500 - val: 100%|██████████| 35/35 [00:00<00:00, 2020.77it/s, accuracy=0.6857, avg_loss=2.2497]\n",
            "Epoch 196/500 - train: 100%|██████████| 233/233 [00:00<00:00, 3311.45it/s, accuracy=0.9828, avg_loss=0.0555]\n",
            "Epoch 196/500 - val: 100%|██████████| 35/35 [00:00<00:00, 3026.69it/s, accuracy=0.6571, avg_loss=2.0108]\n",
            "Epoch 197/500 - train: 100%|██████████| 233/233 [00:00<00:00, 4176.11it/s, accuracy=0.9957, avg_loss=0.0562]\n",
            "Epoch 197/500 - val: 100%|██████████| 35/35 [00:00<00:00, 3513.74it/s, accuracy=0.6857, avg_loss=2.1325]\n",
            "Epoch 198/500 - train: 100%|██████████| 233/233 [00:00<00:00, 3682.61it/s, accuracy=0.9957, avg_loss=0.0459]\n",
            "Epoch 198/500 - val: 100%|██████████| 35/35 [00:00<00:00, 3391.96it/s, accuracy=0.7143, avg_loss=2.1397]\n",
            "Epoch 199/500 - train: 100%|██████████| 233/233 [00:00<00:00, 3804.19it/s, accuracy=0.9828, avg_loss=0.0557]\n",
            "Epoch 199/500 - val: 100%|██████████| 35/35 [00:00<00:00, 3415.56it/s, accuracy=0.6857, avg_loss=2.1831]\n",
            "Epoch 200/500 - train: 100%|██████████| 233/233 [00:00<00:00, 3781.12it/s, accuracy=0.9828, avg_loss=0.0618]\n",
            "Epoch 200/500 - val: 100%|██████████| 35/35 [00:00<00:00, 2944.20it/s, accuracy=0.6857, avg_loss=2.1083]\n",
            "Epoch 201/500 - train: 100%|██████████| 233/233 [00:00<00:00, 3933.07it/s, accuracy=0.9828, avg_loss=0.0600]\n",
            "Epoch 201/500 - val: 100%|██████████| 35/35 [00:00<00:00, 3166.88it/s, accuracy=0.6857, avg_loss=2.0654]\n",
            "Epoch 202/500 - train: 100%|██████████| 233/233 [00:00<00:00, 2714.49it/s, accuracy=0.9914, avg_loss=0.0573]\n",
            "Epoch 202/500 - val: 100%|██████████| 35/35 [00:00<00:00, 2468.03it/s, accuracy=0.7143, avg_loss=1.8983]\n",
            "Epoch 203/500 - train: 100%|██████████| 233/233 [00:00<00:00, 2979.45it/s, accuracy=0.9828, avg_loss=0.0521]\n",
            "Epoch 203/500 - val: 100%|██████████| 35/35 [00:00<00:00, 2550.13it/s, accuracy=0.7143, avg_loss=1.9389]\n",
            "Epoch 204/500 - train: 100%|██████████| 233/233 [00:00<00:00, 3644.58it/s, accuracy=0.9914, avg_loss=0.0524]\n",
            "Epoch 204/500 - val: 100%|██████████| 35/35 [00:00<00:00, 3848.49it/s, accuracy=0.7143, avg_loss=2.0608]\n",
            "Epoch 205/500 - train: 100%|██████████| 233/233 [00:00<00:00, 4147.08it/s, accuracy=0.9914, avg_loss=0.0421]\n",
            "Epoch 205/500 - val: 100%|██████████| 35/35 [00:00<00:00, 3460.48it/s, accuracy=0.6571, avg_loss=2.1467]\n",
            "Epoch 206/500 - train: 100%|██████████| 233/233 [00:00<00:00, 5017.14it/s, accuracy=0.9871, avg_loss=0.0460]\n",
            "Epoch 206/500 - val: 100%|██████████| 35/35 [00:00<00:00, 1908.98it/s, accuracy=0.6857, avg_loss=2.2111]\n",
            "Epoch 207/500 - train: 100%|██████████| 233/233 [00:00<00:00, 4761.29it/s, accuracy=0.9871, avg_loss=0.0487]\n",
            "Epoch 207/500 - val: 100%|██████████| 35/35 [00:00<00:00, 4604.79it/s, accuracy=0.6857, avg_loss=2.0995]\n",
            "Epoch 208/500 - train: 100%|██████████| 233/233 [00:00<00:00, 4711.93it/s, accuracy=0.9914, avg_loss=0.0406]\n",
            "Epoch 208/500 - val: 100%|██████████| 35/35 [00:00<00:00, 5005.31it/s, accuracy=0.6571, avg_loss=2.0903]\n",
            "Epoch 209/500 - train: 100%|██████████| 233/233 [00:00<00:00, 4846.45it/s, accuracy=0.9914, avg_loss=0.0409]\n",
            "Epoch 209/500 - val: 100%|██████████| 35/35 [00:00<00:00, 4601.04it/s, accuracy=0.6857, avg_loss=2.0539]\n",
            "Epoch 210/500 - train: 100%|██████████| 233/233 [00:00<00:00, 4002.20it/s, accuracy=0.9914, avg_loss=0.0420]\n",
            "Epoch 210/500 - val: 100%|██████████| 35/35 [00:00<00:00, 3117.98it/s, accuracy=0.7143, avg_loss=2.0827]\n",
            "Epoch 211/500 - train: 100%|██████████| 233/233 [00:00<00:00, 4032.50it/s, accuracy=0.9914, avg_loss=0.0410]\n",
            "Epoch 211/500 - val: 100%|██████████| 35/35 [00:00<00:00, 4385.38it/s, accuracy=0.6857, avg_loss=2.0760]\n",
            "Epoch 212/500 - train: 100%|██████████| 233/233 [00:00<00:00, 3824.19it/s, accuracy=0.9785, avg_loss=0.0559]\n",
            "Epoch 212/500 - val: 100%|██████████| 35/35 [00:00<00:00, 3660.77it/s, accuracy=0.6571, avg_loss=2.0974]\n",
            "Epoch 213/500 - train: 100%|██████████| 233/233 [00:00<00:00, 4030.46it/s, accuracy=0.9785, avg_loss=0.0614]\n",
            "Epoch 213/500 - val: 100%|██████████| 35/35 [00:00<00:00, 2562.82it/s, accuracy=0.6857, avg_loss=2.0790]\n",
            "Epoch 214/500 - train: 100%|██████████| 233/233 [00:00<00:00, 3365.15it/s, accuracy=0.9828, avg_loss=0.0563]\n",
            "Epoch 214/500 - val: 100%|██████████| 35/35 [00:00<00:00, 3218.11it/s, accuracy=0.7143, avg_loss=2.0751]\n",
            "Epoch 215/500 - train: 100%|██████████| 233/233 [00:00<00:00, 3789.51it/s, accuracy=0.9785, avg_loss=0.0534]\n",
            "Epoch 215/500 - val: 100%|██████████| 35/35 [00:00<00:00, 3086.19it/s, accuracy=0.6857, avg_loss=2.1395]\n",
            "Epoch 216/500 - train: 100%|██████████| 233/233 [00:00<00:00, 5197.35it/s, accuracy=0.9914, avg_loss=0.0468]\n",
            "Epoch 216/500 - val: 100%|██████████| 35/35 [00:00<00:00, 3748.55it/s, accuracy=0.6857, avg_loss=2.1819]\n",
            "Epoch 217/500 - train: 100%|██████████| 233/233 [00:00<00:00, 2534.52it/s, accuracy=0.9914, avg_loss=0.0385]\n",
            "Epoch 217/500 - val: 100%|██████████| 35/35 [00:00<00:00, 3137.77it/s, accuracy=0.6857, avg_loss=2.2057]\n",
            "Epoch 218/500 - train: 100%|██████████| 233/233 [00:00<00:00, 1722.64it/s, accuracy=0.9914, avg_loss=0.0398]\n",
            "Epoch 218/500 - val: 100%|██████████| 35/35 [00:00<00:00, 2916.76it/s, accuracy=0.6857, avg_loss=2.2030]\n",
            "Epoch 219/500 - train: 100%|██████████| 233/233 [00:00<00:00, 4456.57it/s, accuracy=0.9914, avg_loss=0.0403]\n",
            "Epoch 219/500 - val: 100%|██████████| 35/35 [00:00<00:00, 2627.35it/s, accuracy=0.6857, avg_loss=2.1167]\n",
            "Epoch 220/500 - train: 100%|██████████| 233/233 [00:00<00:00, 2924.02it/s, accuracy=0.9914, avg_loss=0.0399]\n",
            "Epoch 220/500 - val: 100%|██████████| 35/35 [00:00<00:00, 5989.42it/s, accuracy=0.6857, avg_loss=2.0764]\n",
            "Epoch 221/500 - train: 100%|██████████| 233/233 [00:00<00:00, 4416.35it/s, accuracy=0.9914, avg_loss=0.0342]\n",
            "Epoch 221/500 - val: 100%|██████████| 35/35 [00:00<00:00, 2145.77it/s, accuracy=0.7143, avg_loss=2.0750]\n",
            "Epoch 222/500 - train: 100%|██████████| 233/233 [00:00<00:00, 3571.76it/s, accuracy=0.9914, avg_loss=0.0502]\n",
            "Epoch 222/500 - val: 100%|██████████| 35/35 [00:00<00:00, 5533.38it/s, accuracy=0.7143, avg_loss=2.1253]\n",
            "Epoch 223/500 - train: 100%|██████████| 233/233 [00:00<00:00, 4399.02it/s, accuracy=0.9914, avg_loss=0.0337]\n",
            "Epoch 223/500 - val: 100%|██████████| 35/35 [00:00<00:00, 6111.35it/s, accuracy=0.6571, avg_loss=2.1881]\n",
            "Epoch 224/500 - train: 100%|██████████| 233/233 [00:00<00:00, 3077.32it/s, accuracy=0.9914, avg_loss=0.0388]\n",
            "Epoch 224/500 - val: 100%|██████████| 35/35 [00:00<00:00, 3203.65it/s, accuracy=0.6857, avg_loss=2.2461]\n",
            "Epoch 225/500 - train: 100%|██████████| 233/233 [00:00<00:00, 4531.23it/s, accuracy=0.9914, avg_loss=0.0347]\n",
            "Epoch 225/500 - val: 100%|██████████| 35/35 [00:00<00:00, 4191.43it/s, accuracy=0.7143, avg_loss=2.2311]\n",
            "Epoch 226/500 - train: 100%|██████████| 233/233 [00:00<00:00, 4503.06it/s, accuracy=0.9871, avg_loss=0.0366]\n",
            "Epoch 226/500 - val: 100%|██████████| 35/35 [00:00<00:00, 3054.40it/s, accuracy=0.6857, avg_loss=2.1845]\n",
            "Epoch 227/500 - train: 100%|██████████| 233/233 [00:00<00:00, 4439.28it/s, accuracy=0.9914, avg_loss=0.0437]\n",
            "Epoch 227/500 - val: 100%|██████████| 35/35 [00:00<00:00, 4071.35it/s, accuracy=0.6571, avg_loss=2.1566]\n",
            "Epoch 228/500 - train: 100%|██████████| 233/233 [00:00<00:00, 4036.28it/s, accuracy=0.9871, avg_loss=0.0477]\n",
            "Epoch 228/500 - val: 100%|██████████| 35/35 [00:00<00:00, 2452.44it/s, accuracy=0.6857, avg_loss=2.1818]\n",
            "Epoch 229/500 - train: 100%|██████████| 233/233 [00:00<00:00, 4992.86it/s, accuracy=0.9871, avg_loss=0.0494]\n",
            "Epoch 229/500 - val: 100%|██████████| 35/35 [00:00<00:00, 3625.24it/s, accuracy=0.7143, avg_loss=2.1267]\n",
            "Epoch 230/500 - train: 100%|██████████| 233/233 [00:00<00:00, 4573.92it/s, accuracy=0.9828, avg_loss=0.0510]\n",
            "Epoch 230/500 - val: 100%|██████████| 35/35 [00:00<00:00, 2912.88it/s, accuracy=0.7143, avg_loss=2.1770]\n",
            "Epoch 231/500 - train: 100%|██████████| 233/233 [00:00<00:00, 3426.55it/s, accuracy=0.9914, avg_loss=0.0376]\n",
            "Epoch 231/500 - val: 100%|██████████| 35/35 [00:00<00:00, 3959.88it/s, accuracy=0.7143, avg_loss=2.2201]\n",
            "Epoch 232/500 - train: 100%|██████████| 233/233 [00:00<00:00, 3455.83it/s, accuracy=0.9914, avg_loss=0.0318]\n",
            "Epoch 232/500 - val: 100%|██████████| 35/35 [00:00<00:00, 2940.36it/s, accuracy=0.7143, avg_loss=2.1967]\n",
            "Epoch 233/500 - train: 100%|██████████| 233/233 [00:00<00:00, 3142.70it/s, accuracy=0.9914, avg_loss=0.0372]\n",
            "Epoch 233/500 - val: 100%|██████████| 35/35 [00:00<00:00, 1104.94it/s, accuracy=0.6857, avg_loss=2.2436]\n",
            "Epoch 234/500 - train: 100%|██████████| 233/233 [00:00<00:00, 2621.50it/s, accuracy=0.9914, avg_loss=0.0395]\n",
            "Epoch 234/500 - val: 100%|██████████| 35/35 [00:00<00:00, 2825.43it/s, accuracy=0.6857, avg_loss=2.2714]\n",
            "Epoch 235/500 - train: 100%|██████████| 233/233 [00:00<00:00, 5873.63it/s, accuracy=0.9957, avg_loss=0.0337]\n",
            "Epoch 235/500 - val: 100%|██████████| 35/35 [00:00<00:00, 5122.68it/s, accuracy=0.7143, avg_loss=2.2966]\n",
            "Epoch 236/500 - train: 100%|██████████| 233/233 [00:00<00:00, 4662.98it/s, accuracy=0.9914, avg_loss=0.0337]\n",
            "Epoch 236/500 - val: 100%|██████████| 35/35 [00:00<00:00, 2371.16it/s, accuracy=0.6857, avg_loss=2.2913]\n",
            "Epoch 237/500 - train: 100%|██████████| 233/233 [00:00<00:00, 4375.89it/s, accuracy=0.9914, avg_loss=0.0362]\n",
            "Epoch 237/500 - val: 100%|██████████| 35/35 [00:00<00:00, 1822.59it/s, accuracy=0.6857, avg_loss=2.2960]\n",
            "Epoch 238/500 - train: 100%|██████████| 233/233 [00:00<00:00, 4643.05it/s, accuracy=0.9828, avg_loss=0.0499]\n",
            "Epoch 238/500 - val: 100%|██████████| 35/35 [00:00<00:00, 3362.82it/s, accuracy=0.6857, avg_loss=2.2201]\n",
            "Epoch 239/500 - train: 100%|██████████| 233/233 [00:00<00:00, 3237.46it/s, accuracy=0.9914, avg_loss=0.0527]\n",
            "Epoch 239/500 - val: 100%|██████████| 35/35 [00:00<00:00, 2528.52it/s, accuracy=0.7143, avg_loss=2.2518]\n",
            "Epoch 240/500 - train: 100%|██████████| 233/233 [00:00<00:00, 3987.08it/s, accuracy=0.9742, avg_loss=0.0573]\n",
            "Epoch 240/500 - val: 100%|██████████| 35/35 [00:00<00:00, 2077.45it/s, accuracy=0.6857, avg_loss=2.2478]\n",
            "Epoch 241/500 - train: 100%|██████████| 233/233 [00:00<00:00, 4228.62it/s, accuracy=0.9700, avg_loss=0.0768]\n",
            "Epoch 241/500 - val: 100%|██████████| 35/35 [00:00<00:00, 2649.50it/s, accuracy=0.6857, avg_loss=2.3824]\n",
            "Epoch 242/500 - train: 100%|██████████| 233/233 [00:00<00:00, 4155.28it/s, accuracy=0.9614, avg_loss=0.0755]\n",
            "Epoch 242/500 - val: 100%|██████████| 35/35 [00:00<00:00, 3332.59it/s, accuracy=0.7143, avg_loss=2.1733]\n",
            "Epoch 243/500 - train: 100%|██████████| 233/233 [00:00<00:00, 4306.82it/s, accuracy=0.9185, avg_loss=0.1806]\n",
            "Epoch 243/500 - val: 100%|██████████| 35/35 [00:00<00:00, 3654.21it/s, accuracy=0.6571, avg_loss=2.2504]\n",
            "Epoch 244/500 - train: 100%|██████████| 233/233 [00:00<00:00, 4719.16it/s, accuracy=0.9700, avg_loss=0.0835]\n",
            "Epoch 244/500 - val: 100%|██████████| 35/35 [00:00<00:00, 3205.67it/s, accuracy=0.6857, avg_loss=2.1023]\n",
            "Epoch 245/500 - train: 100%|██████████| 233/233 [00:00<00:00, 4690.02it/s, accuracy=0.9700, avg_loss=0.1125]\n",
            "Epoch 245/500 - val: 100%|██████████| 35/35 [00:00<00:00, 1577.65it/s, accuracy=0.6571, avg_loss=1.5880]\n",
            "Epoch 246/500 - train: 100%|██████████| 233/233 [00:00<00:00, 3729.32it/s, accuracy=0.9528, avg_loss=0.0993]\n",
            "Epoch 246/500 - val: 100%|██████████| 35/35 [00:00<00:00, 3136.50it/s, accuracy=0.6571, avg_loss=2.1707]\n",
            "Epoch 247/500 - train: 100%|██████████| 233/233 [00:00<00:00, 4934.18it/s, accuracy=0.9528, avg_loss=0.1271]\n",
            "Epoch 247/500 - val: 100%|██████████| 35/35 [00:00<00:00, 3343.75it/s, accuracy=0.7143, avg_loss=2.2396]\n",
            "Epoch 248/500 - train: 100%|██████████| 233/233 [00:00<00:00, 3678.55it/s, accuracy=0.9657, avg_loss=0.0849]\n",
            "Epoch 248/500 - val: 100%|██████████| 35/35 [00:00<00:00, 3189.38it/s, accuracy=0.7143, avg_loss=2.2488]\n",
            "Epoch 249/500 - train: 100%|██████████| 233/233 [00:00<00:00, 4228.66it/s, accuracy=0.9742, avg_loss=0.0697]\n",
            "Epoch 249/500 - val: 100%|██████████| 35/35 [00:00<00:00, 1596.53it/s, accuracy=0.6857, avg_loss=1.9725]\n",
            "Epoch 250/500 - train: 100%|██████████| 233/233 [00:00<00:00, 2989.93it/s, accuracy=0.9742, avg_loss=0.0616]\n",
            "Epoch 250/500 - val: 100%|██████████| 35/35 [00:00<00:00, 1478.52it/s, accuracy=0.6571, avg_loss=2.3111]\n",
            "Epoch 251/500 - train: 100%|██████████| 233/233 [00:00<00:00, 2741.94it/s, accuracy=0.9871, avg_loss=0.0565]\n",
            "Epoch 251/500 - val: 100%|██████████| 35/35 [00:00<00:00, 2170.71it/s, accuracy=0.6571, avg_loss=2.4971]\n",
            "Epoch 252/500 - train: 100%|██████████| 233/233 [00:00<00:00, 4711.34it/s, accuracy=0.9957, avg_loss=0.0475]\n",
            "Epoch 252/500 - val: 100%|██████████| 35/35 [00:00<00:00, 3787.13it/s, accuracy=0.6571, avg_loss=2.2611]\n",
            "Epoch 253/500 - train: 100%|██████████| 233/233 [00:00<00:00, 4902.32it/s, accuracy=0.9914, avg_loss=0.0346]\n",
            "Epoch 253/500 - val: 100%|██████████| 35/35 [00:00<00:00, 5708.31it/s, accuracy=0.7143, avg_loss=2.1414]\n",
            "Epoch 254/500 - train: 100%|██████████| 233/233 [00:00<00:00, 3794.50it/s, accuracy=0.9871, avg_loss=0.0409]\n",
            "Epoch 254/500 - val: 100%|██████████| 35/35 [00:00<00:00, 3538.90it/s, accuracy=0.7143, avg_loss=2.1039]\n",
            "Epoch 255/500 - train: 100%|██████████| 233/233 [00:00<00:00, 4956.75it/s, accuracy=0.9871, avg_loss=0.0491]\n",
            "Epoch 255/500 - val: 100%|██████████| 35/35 [00:00<00:00, 1622.50it/s, accuracy=0.7143, avg_loss=2.0492]\n",
            "Epoch 256/500 - train: 100%|██████████| 233/233 [00:00<00:00, 2323.65it/s, accuracy=0.9828, avg_loss=0.0449]\n",
            "Epoch 256/500 - val: 100%|██████████| 35/35 [00:00<00:00, 2519.23it/s, accuracy=0.6857, avg_loss=2.1283]\n",
            "Epoch 257/500 - train: 100%|██████████| 233/233 [00:00<00:00, 4420.79it/s, accuracy=0.9957, avg_loss=0.0438]\n",
            "Epoch 257/500 - val: 100%|██████████| 35/35 [00:00<00:00, 2245.62it/s, accuracy=0.6857, avg_loss=2.2635]\n",
            "Epoch 258/500 - train: 100%|██████████| 233/233 [00:00<00:00, 4531.27it/s, accuracy=0.9914, avg_loss=0.0413]\n",
            "Epoch 258/500 - val: 100%|██████████| 35/35 [00:00<00:00, 3187.44it/s, accuracy=0.6571, avg_loss=2.2157]\n",
            "Epoch 259/500 - train: 100%|██████████| 233/233 [00:00<00:00, 4184.71it/s, accuracy=0.9957, avg_loss=0.0340]\n",
            "Epoch 259/500 - val: 100%|██████████| 35/35 [00:00<00:00, 2285.62it/s, accuracy=0.6857, avg_loss=2.2643]\n",
            "Epoch 260/500 - train: 100%|██████████| 233/233 [00:00<00:00, 4235.48it/s, accuracy=0.9914, avg_loss=0.0308]\n",
            "Epoch 260/500 - val: 100%|██████████| 35/35 [00:00<00:00, 3327.38it/s, accuracy=0.7143, avg_loss=2.2960]\n",
            "Epoch 261/500 - train: 100%|██████████| 233/233 [00:00<00:00, 3915.04it/s, accuracy=0.9914, avg_loss=0.0316]\n",
            "Epoch 261/500 - val: 100%|██████████| 35/35 [00:00<00:00, 3914.58it/s, accuracy=0.6857, avg_loss=2.3219]\n",
            "Epoch 262/500 - train: 100%|██████████| 233/233 [00:00<00:00, 4396.98it/s, accuracy=0.9914, avg_loss=0.0362]\n",
            "Epoch 262/500 - val: 100%|██████████| 35/35 [00:00<00:00, 3726.76it/s, accuracy=0.6857, avg_loss=2.2930]\n",
            "Epoch 263/500 - train: 100%|██████████| 233/233 [00:00<00:00, 4283.43it/s, accuracy=0.9957, avg_loss=0.0311]\n",
            "Epoch 263/500 - val: 100%|██████████| 35/35 [00:00<00:00, 3248.52it/s, accuracy=0.6857, avg_loss=2.2983]\n",
            "Epoch 264/500 - train: 100%|██████████| 233/233 [00:00<00:00, 3622.28it/s, accuracy=0.9914, avg_loss=0.0310]\n",
            "Epoch 264/500 - val: 100%|██████████| 35/35 [00:00<00:00, 1693.44it/s, accuracy=0.7143, avg_loss=2.3253]\n",
            "Epoch 265/500 - train: 100%|██████████| 233/233 [00:00<00:00, 4250.88it/s, accuracy=0.9957, avg_loss=0.0286]\n",
            "Epoch 265/500 - val: 100%|██████████| 35/35 [00:00<00:00, 3969.09it/s, accuracy=0.6857, avg_loss=2.3218]\n",
            "Epoch 266/500 - train: 100%|██████████| 233/233 [00:00<00:00, 5693.50it/s, accuracy=0.9957, avg_loss=0.0287]\n",
            "Epoch 266/500 - val: 100%|██████████| 35/35 [00:00<00:00, 3209.39it/s, accuracy=0.7143, avg_loss=2.3367]\n",
            "Epoch 267/500 - train: 100%|██████████| 233/233 [00:00<00:00, 3371.89it/s, accuracy=0.9914, avg_loss=0.0293]\n",
            "Epoch 267/500 - val: 100%|██████████| 35/35 [00:00<00:00, 3271.91it/s, accuracy=0.7143, avg_loss=2.3642]\n",
            "Epoch 268/500 - train: 100%|██████████| 233/233 [00:00<00:00, 3542.97it/s, accuracy=0.9957, avg_loss=0.0318]\n",
            "Epoch 268/500 - val: 100%|██████████| 35/35 [00:00<00:00, 3295.56it/s, accuracy=0.7143, avg_loss=2.4015]\n",
            "Epoch 269/500 - train: 100%|██████████| 233/233 [00:00<00:00, 2321.62it/s, accuracy=1.0000, avg_loss=0.0376]\n",
            "Epoch 269/500 - val: 100%|██████████| 35/35 [00:00<00:00, 2063.17it/s, accuracy=0.6857, avg_loss=2.3877]\n",
            "Epoch 270/500 - train: 100%|██████████| 233/233 [00:00<00:00, 4375.27it/s, accuracy=0.9785, avg_loss=0.0525]\n",
            "Epoch 270/500 - val: 100%|██████████| 35/35 [00:00<00:00, 3660.77it/s, accuracy=0.7143, avg_loss=2.3670]\n",
            "Epoch 271/500 - train: 100%|██████████| 233/233 [00:00<00:00, 4238.34it/s, accuracy=0.9785, avg_loss=0.0471]\n",
            "Epoch 271/500 - val: 100%|██████████| 35/35 [00:00<00:00, 1179.67it/s, accuracy=0.7143, avg_loss=2.3325]\n",
            "Epoch 272/500 - train: 100%|██████████| 233/233 [00:00<00:00, 4012.01it/s, accuracy=0.9871, avg_loss=0.0518]\n",
            "Epoch 272/500 - val: 100%|██████████| 35/35 [00:00<00:00, 2321.47it/s, accuracy=0.6571, avg_loss=2.3797]\n",
            "Epoch 273/500 - train: 100%|██████████| 233/233 [00:00<00:00, 3546.01it/s, accuracy=0.9828, avg_loss=0.0455]\n",
            "Epoch 273/500 - val: 100%|██████████| 35/35 [00:00<00:00, 2211.65it/s, accuracy=0.6857, avg_loss=2.2862]\n",
            "Epoch 274/500 - train: 100%|██████████| 233/233 [00:00<00:00, 4755.61it/s, accuracy=0.9914, avg_loss=0.0380]\n",
            "Epoch 274/500 - val: 100%|██████████| 35/35 [00:00<00:00, 5146.57it/s, accuracy=0.7143, avg_loss=2.2771]\n",
            "Epoch 275/500 - train: 100%|██████████| 233/233 [00:00<00:00, 4769.98it/s, accuracy=0.9914, avg_loss=0.0314]\n",
            "Epoch 275/500 - val: 100%|██████████| 35/35 [00:00<00:00, 4234.59it/s, accuracy=0.7143, avg_loss=2.2386]\n",
            "Epoch 276/500 - train: 100%|██████████| 233/233 [00:00<00:00, 4893.34it/s, accuracy=0.9914, avg_loss=0.0315]\n",
            "Epoch 276/500 - val: 100%|██████████| 35/35 [00:00<00:00, 3406.60it/s, accuracy=0.6857, avg_loss=2.2216]\n",
            "Epoch 277/500 - train: 100%|██████████| 233/233 [00:00<00:00, 5511.51it/s, accuracy=0.9957, avg_loss=0.0272]\n",
            "Epoch 277/500 - val: 100%|██████████| 35/35 [00:00<00:00, 2943.90it/s, accuracy=0.6857, avg_loss=2.2768]\n",
            "Epoch 278/500 - train: 100%|██████████| 233/233 [00:00<00:00, 2340.17it/s, accuracy=0.9957, avg_loss=0.0323]\n",
            "Epoch 278/500 - val: 100%|██████████| 35/35 [00:00<00:00, 3067.87it/s, accuracy=0.7143, avg_loss=2.3099]\n",
            "Epoch 279/500 - train: 100%|██████████| 233/233 [00:00<00:00, 4782.09it/s, accuracy=0.9957, avg_loss=0.0319]\n",
            "Epoch 279/500 - val: 100%|██████████| 35/35 [00:00<00:00, 4982.71it/s, accuracy=0.7143, avg_loss=2.2745]\n",
            "Epoch 280/500 - train: 100%|██████████| 233/233 [00:00<00:00, 4211.22it/s, accuracy=0.9957, avg_loss=0.0267]\n",
            "Epoch 280/500 - val: 100%|██████████| 35/35 [00:00<00:00, 3996.21it/s, accuracy=0.6857, avg_loss=2.3105]\n",
            "Epoch 281/500 - train: 100%|██████████| 233/233 [00:00<00:00, 4071.17it/s, accuracy=1.0000, avg_loss=0.0279]\n",
            "Epoch 281/500 - val: 100%|██████████| 35/35 [00:00<00:00, 3879.30it/s, accuracy=0.7143, avg_loss=2.3413]\n",
            "Epoch 282/500 - train: 100%|██████████| 233/233 [00:00<00:00, 1727.50it/s, accuracy=0.9957, avg_loss=0.0277]\n",
            "Epoch 282/500 - val: 100%|██████████| 35/35 [00:00<00:00, 2531.92it/s, accuracy=0.7143, avg_loss=2.4032]\n",
            "Epoch 283/500 - train: 100%|██████████| 233/233 [00:00<00:00, 4857.29it/s, accuracy=0.9957, avg_loss=0.0283]\n",
            "Epoch 283/500 - val: 100%|██████████| 35/35 [00:00<00:00, 4843.15it/s, accuracy=0.7143, avg_loss=2.3889]\n",
            "Epoch 284/500 - train: 100%|██████████| 233/233 [00:00<00:00, 4180.33it/s, accuracy=1.0000, avg_loss=0.0263]\n",
            "Epoch 284/500 - val: 100%|██████████| 35/35 [00:00<00:00, 2037.79it/s, accuracy=0.6857, avg_loss=2.3709]\n",
            "Epoch 285/500 - train: 100%|██████████| 233/233 [00:00<00:00, 5440.08it/s, accuracy=0.9914, avg_loss=0.0369]\n",
            "Epoch 285/500 - val: 100%|██████████| 35/35 [00:00<00:00, 4952.79it/s, accuracy=0.7143, avg_loss=2.3821]\n",
            "Epoch 286/500 - train: 100%|██████████| 233/233 [00:00<00:00, 5154.61it/s, accuracy=0.9957, avg_loss=0.0259]\n",
            "Epoch 286/500 - val: 100%|██████████| 35/35 [00:00<00:00, 5020.37it/s, accuracy=0.6857, avg_loss=2.3831]\n",
            "Epoch 287/500 - train: 100%|██████████| 233/233 [00:00<00:00, 4101.64it/s, accuracy=0.9957, avg_loss=0.0263]\n",
            "Epoch 287/500 - val: 100%|██████████| 35/35 [00:00<00:00, 3134.96it/s, accuracy=0.7143, avg_loss=2.3634]\n",
            "Epoch 288/500 - train: 100%|██████████| 233/233 [00:00<00:00, 4633.51it/s, accuracy=1.0000, avg_loss=0.0249]\n",
            "Epoch 288/500 - val: 100%|██████████| 35/35 [00:00<00:00, 2921.58it/s, accuracy=0.6857, avg_loss=2.3800]\n",
            "Epoch 289/500 - train: 100%|██████████| 233/233 [00:00<00:00, 3456.49it/s, accuracy=0.9957, avg_loss=0.0254]\n",
            "Epoch 289/500 - val: 100%|██████████| 35/35 [00:00<00:00, 3231.36it/s, accuracy=0.7143, avg_loss=2.3902]\n",
            "Epoch 290/500 - train: 100%|██████████| 233/233 [00:00<00:00, 4215.62it/s, accuracy=0.9957, avg_loss=0.0263]\n",
            "Epoch 290/500 - val: 100%|██████████| 35/35 [00:00<00:00, 757.55it/s, accuracy=0.7143, avg_loss=2.3517]\n",
            "Epoch 291/500 - train: 100%|██████████| 233/233 [00:00<00:00, 4479.14it/s, accuracy=0.9957, avg_loss=0.0217]\n",
            "Epoch 291/500 - val: 100%|██████████| 35/35 [00:00<00:00, 3107.75it/s, accuracy=0.7143, avg_loss=2.3535]\n",
            "Epoch 292/500 - train: 100%|██████████| 233/233 [00:00<00:00, 4443.85it/s, accuracy=0.9957, avg_loss=0.0244]\n",
            "Epoch 292/500 - val: 100%|██████████| 35/35 [00:00<00:00, 3455.76it/s, accuracy=0.7143, avg_loss=2.3854]\n",
            "Epoch 293/500 - train: 100%|██████████| 233/233 [00:00<00:00, 4511.75it/s, accuracy=0.9914, avg_loss=0.0225]\n",
            "Epoch 293/500 - val: 100%|██████████| 35/35 [00:00<00:00, 3703.35it/s, accuracy=0.7143, avg_loss=2.4028]\n",
            "Epoch 294/500 - train: 100%|██████████| 233/233 [00:00<00:00, 6121.50it/s, accuracy=0.9914, avg_loss=0.0245]\n",
            "Epoch 294/500 - val: 100%|██████████| 35/35 [00:00<00:00, 5200.16it/s, accuracy=0.7143, avg_loss=2.4398]\n",
            "Epoch 295/500 - train: 100%|██████████| 233/233 [00:00<00:00, 5954.99it/s, accuracy=0.9957, avg_loss=0.0234]\n",
            "Epoch 295/500 - val: 100%|██████████| 35/35 [00:00<00:00, 3433.21it/s, accuracy=0.6857, avg_loss=2.4270]\n",
            "Epoch 296/500 - train: 100%|██████████| 233/233 [00:00<00:00, 2709.57it/s, accuracy=0.9957, avg_loss=0.0286]\n",
            "Epoch 296/500 - val: 100%|██████████| 35/35 [00:00<00:00, 2585.70it/s, accuracy=0.7143, avg_loss=2.4141]\n",
            "Epoch 297/500 - train: 100%|██████████| 233/233 [00:00<00:00, 4537.37it/s, accuracy=0.9914, avg_loss=0.0307]\n",
            "Epoch 297/500 - val: 100%|██████████| 35/35 [00:00<00:00, 3097.45it/s, accuracy=0.7143, avg_loss=2.4134]\n",
            "Epoch 298/500 - train: 100%|██████████| 233/233 [00:00<00:00, 2643.38it/s, accuracy=0.9914, avg_loss=0.0317]\n",
            "Epoch 298/500 - val: 100%|██████████| 35/35 [00:00<00:00, 1600.37it/s, accuracy=0.7143, avg_loss=2.4220]\n",
            "Epoch 299/500 - train: 100%|██████████| 233/233 [00:00<00:00, 5094.45it/s, accuracy=0.9957, avg_loss=0.0272]\n",
            "Epoch 299/500 - val: 100%|██████████| 35/35 [00:00<00:00, 3749.60it/s, accuracy=0.7143, avg_loss=2.4312]\n",
            "Epoch 300/500 - train: 100%|██████████| 233/233 [00:00<00:00, 3606.03it/s, accuracy=0.9957, avg_loss=0.0241]\n",
            "Epoch 300/500 - val: 100%|██████████| 35/35 [00:00<00:00, 2841.06it/s, accuracy=0.7143, avg_loss=2.4686]\n",
            "Epoch 301/500 - train: 100%|██████████| 233/233 [00:00<00:00, 4183.19it/s, accuracy=1.0000, avg_loss=0.0234]\n",
            "Epoch 301/500 - val: 100%|██████████| 35/35 [00:00<00:00, 2372.80it/s, accuracy=0.7143, avg_loss=2.5700]\n",
            "Epoch 302/500 - train: 100%|██████████| 233/233 [00:00<00:00, 4680.47it/s, accuracy=0.9914, avg_loss=0.0369]\n",
            "Epoch 302/500 - val: 100%|██████████| 35/35 [00:00<00:00, 3871.02it/s, accuracy=0.7143, avg_loss=2.5465]\n",
            "Epoch 303/500 - train: 100%|██████████| 233/233 [00:00<00:00, 3561.00it/s, accuracy=0.9914, avg_loss=0.0403]\n",
            "Epoch 303/500 - val: 100%|██████████| 35/35 [00:00<00:00, 2619.76it/s, accuracy=0.6857, avg_loss=2.4166]\n",
            "Epoch 304/500 - train: 100%|██████████| 233/233 [00:00<00:00, 3866.41it/s, accuracy=0.9785, avg_loss=0.0503]\n",
            "Epoch 304/500 - val: 100%|██████████| 35/35 [00:00<00:00, 3352.76it/s, accuracy=0.7143, avg_loss=2.3651]\n",
            "Epoch 305/500 - train: 100%|██████████| 233/233 [00:00<00:00, 4289.01it/s, accuracy=0.9871, avg_loss=0.0446]\n",
            "Epoch 305/500 - val: 100%|██████████| 35/35 [00:00<00:00, 2754.23it/s, accuracy=0.6857, avg_loss=2.2873]\n",
            "Epoch 306/500 - train: 100%|██████████| 233/233 [00:00<00:00, 4349.89it/s, accuracy=0.9914, avg_loss=0.0442]\n",
            "Epoch 306/500 - val: 100%|██████████| 35/35 [00:00<00:00, 3070.12it/s, accuracy=0.7143, avg_loss=2.5124]\n",
            "Epoch 307/500 - train: 100%|██████████| 233/233 [00:00<00:00, 2829.74it/s, accuracy=0.9871, avg_loss=0.0506]\n",
            "Epoch 307/500 - val: 100%|██████████| 35/35 [00:00<00:00, 5389.55it/s, accuracy=0.6857, avg_loss=2.6302]\n",
            "Epoch 308/500 - train: 100%|██████████| 233/233 [00:00<00:00, 5279.30it/s, accuracy=0.9828, avg_loss=0.0592]\n",
            "Epoch 308/500 - val: 100%|██████████| 35/35 [00:00<00:00, 5622.39it/s, accuracy=0.6857, avg_loss=2.5698]\n",
            "Epoch 309/500 - train: 100%|██████████| 233/233 [00:00<00:00, 4826.54it/s, accuracy=0.9785, avg_loss=0.0548]\n",
            "Epoch 309/500 - val: 100%|██████████| 35/35 [00:00<00:00, 3051.67it/s, accuracy=0.7143, avg_loss=2.4330]\n",
            "Epoch 310/500 - train: 100%|██████████| 233/233 [00:00<00:00, 4526.78it/s, accuracy=0.9785, avg_loss=0.0491]\n",
            "Epoch 310/500 - val: 100%|██████████| 35/35 [00:00<00:00, 1426.08it/s, accuracy=0.6857, avg_loss=2.4949]\n",
            "Epoch 311/500 - train: 100%|██████████| 233/233 [00:00<00:00, 4686.87it/s, accuracy=0.9828, avg_loss=0.0469]\n",
            "Epoch 311/500 - val: 100%|██████████| 35/35 [00:00<00:00, 3515.17it/s, accuracy=0.6857, avg_loss=2.3625]\n",
            "Epoch 312/500 - train: 100%|██████████| 233/233 [00:00<00:00, 3310.96it/s, accuracy=0.9528, avg_loss=0.1380]\n",
            "Epoch 312/500 - val: 100%|██████████| 35/35 [00:00<00:00, 1365.23it/s, accuracy=0.7143, avg_loss=2.4396]\n",
            "Epoch 313/500 - train: 100%|██████████| 233/233 [00:00<00:00, 2387.59it/s, accuracy=0.8841, avg_loss=0.2666]\n",
            "Epoch 313/500 - val: 100%|██████████| 35/35 [00:00<00:00, 1193.14it/s, accuracy=0.6857, avg_loss=2.7569]\n",
            "Epoch 314/500 - train: 100%|██████████| 233/233 [00:00<00:00, 4921.16it/s, accuracy=0.8069, avg_loss=1.0593]\n",
            "Epoch 314/500 - val: 100%|██████████| 35/35 [00:00<00:00, 1917.31it/s, accuracy=0.6857, avg_loss=2.0854]\n",
            "Epoch 315/500 - train: 100%|██████████| 233/233 [00:00<00:00, 4193.12it/s, accuracy=0.8369, avg_loss=0.6698]\n",
            "Epoch 315/500 - val: 100%|██████████| 35/35 [00:00<00:00, 2233.22it/s, accuracy=0.7429, avg_loss=1.8978]\n",
            "Epoch 316/500 - train: 100%|██████████| 233/233 [00:00<00:00, 3835.10it/s, accuracy=0.8412, avg_loss=0.4597]\n",
            "Epoch 316/500 - val: 100%|██████████| 35/35 [00:00<00:00, 3198.83it/s, accuracy=0.7143, avg_loss=1.3723]\n",
            "Epoch 317/500 - train: 100%|██████████| 233/233 [00:00<00:00, 3803.79it/s, accuracy=0.8369, avg_loss=0.5407]\n",
            "Epoch 317/500 - val: 100%|██████████| 35/35 [00:00<00:00, 3152.46it/s, accuracy=0.6857, avg_loss=1.7235]\n",
            "Epoch 318/500 - train: 100%|██████████| 233/233 [00:00<00:00, 3956.20it/s, accuracy=0.8455, avg_loss=0.4032]\n",
            "Epoch 318/500 - val: 100%|██████████| 35/35 [00:00<00:00, 3513.49it/s, accuracy=0.6571, avg_loss=1.0698]\n",
            "Epoch 319/500 - train: 100%|██████████| 233/233 [00:00<00:00, 4672.12it/s, accuracy=0.8541, avg_loss=0.2975]\n",
            "Epoch 319/500 - val: 100%|██████████| 35/35 [00:00<00:00, 3476.63it/s, accuracy=0.8000, avg_loss=0.9382]\n",
            "Epoch 320/500 - train: 100%|██████████| 233/233 [00:00<00:00, 1683.47it/s, accuracy=0.8584, avg_loss=0.2787]\n",
            "Epoch 320/500 - val: 100%|██████████| 35/35 [00:00<00:00, 2517.33it/s, accuracy=0.7714, avg_loss=0.7730]\n",
            "Epoch 321/500 - train: 100%|██████████| 233/233 [00:00<00:00, 3611.70it/s, accuracy=0.9013, avg_loss=0.2434]\n",
            "Epoch 321/500 - val: 100%|██████████| 35/35 [00:00<00:00, 4763.93it/s, accuracy=0.7143, avg_loss=0.7779]\n",
            "Epoch 322/500 - train: 100%|██████████| 233/233 [00:00<00:00, 3425.85it/s, accuracy=0.8841, avg_loss=0.2123]\n",
            "Epoch 322/500 - val: 100%|██████████| 35/35 [00:00<00:00, 3315.88it/s, accuracy=0.7429, avg_loss=0.8176]\n",
            "Epoch 323/500 - train: 100%|██████████| 233/233 [00:00<00:00, 4561.37it/s, accuracy=0.9099, avg_loss=0.2138]\n",
            "Epoch 323/500 - val: 100%|██████████| 35/35 [00:00<00:00, 3463.91it/s, accuracy=0.6857, avg_loss=0.8320]\n",
            "Epoch 324/500 - train: 100%|██████████| 233/233 [00:00<00:00, 3946.07it/s, accuracy=0.9185, avg_loss=0.1785]\n",
            "Epoch 324/500 - val: 100%|██████████| 35/35 [00:00<00:00, 2850.33it/s, accuracy=0.7429, avg_loss=0.9923]\n",
            "Epoch 325/500 - train: 100%|██████████| 233/233 [00:00<00:00, 3582.01it/s, accuracy=0.9270, avg_loss=0.1683]\n",
            "Epoch 325/500 - val: 100%|██████████| 35/35 [00:00<00:00, 2968.31it/s, accuracy=0.7143, avg_loss=1.2047]\n",
            "Epoch 326/500 - train: 100%|██████████| 233/233 [00:00<00:00, 4373.56it/s, accuracy=0.9227, avg_loss=0.1613]\n",
            "Epoch 326/500 - val: 100%|██████████| 35/35 [00:00<00:00, 2598.20it/s, accuracy=0.6571, avg_loss=1.2369]\n",
            "Epoch 327/500 - train: 100%|██████████| 233/233 [00:00<00:00, 4504.14it/s, accuracy=0.9528, avg_loss=0.1409]\n",
            "Epoch 327/500 - val: 100%|██████████| 35/35 [00:00<00:00, 3395.80it/s, accuracy=0.6857, avg_loss=1.2679]\n",
            "Epoch 328/500 - train: 100%|██████████| 233/233 [00:00<00:00, 3766.36it/s, accuracy=0.9571, avg_loss=0.1327]\n",
            "Epoch 328/500 - val: 100%|██████████| 35/35 [00:00<00:00, 3337.14it/s, accuracy=0.7143, avg_loss=1.3439]\n",
            "Epoch 329/500 - train: 100%|██████████| 233/233 [00:00<00:00, 3781.30it/s, accuracy=0.9571, avg_loss=0.1251]\n",
            "Epoch 329/500 - val: 100%|██████████| 35/35 [00:00<00:00, 3187.51it/s, accuracy=0.6857, avg_loss=1.4385]\n",
            "Epoch 330/500 - train: 100%|██████████| 233/233 [00:00<00:00, 3781.47it/s, accuracy=0.9485, avg_loss=0.1589]\n",
            "Epoch 330/500 - val: 100%|██████████| 35/35 [00:00<00:00, 5803.77it/s, accuracy=0.6857, avg_loss=1.2252]\n",
            "Epoch 331/500 - train: 100%|██████████| 233/233 [00:00<00:00, 4747.57it/s, accuracy=0.9528, avg_loss=0.1432]\n",
            "Epoch 331/500 - val: 100%|██████████| 35/35 [00:00<00:00, 2537.30it/s, accuracy=0.6857, avg_loss=1.2682]\n",
            "Epoch 332/500 - train: 100%|██████████| 233/233 [00:00<00:00, 2343.71it/s, accuracy=0.9399, avg_loss=0.1520]\n",
            "Epoch 332/500 - val: 100%|██████████| 35/35 [00:00<00:00, 1038.96it/s, accuracy=0.7143, avg_loss=1.3857]\n",
            "Epoch 333/500 - train: 100%|██████████| 233/233 [00:00<00:00, 3873.07it/s, accuracy=0.9442, avg_loss=0.1267]\n",
            "Epoch 333/500 - val: 100%|██████████| 35/35 [00:00<00:00, 2625.38it/s, accuracy=0.6571, avg_loss=1.3151]\n",
            "Epoch 334/500 - train: 100%|██████████| 233/233 [00:00<00:00, 3303.56it/s, accuracy=0.9485, avg_loss=0.1182]\n",
            "Epoch 334/500 - val: 100%|██████████| 35/35 [00:00<00:00, 2800.63it/s, accuracy=0.6857, avg_loss=1.3250]\n",
            "Epoch 335/500 - train: 100%|██████████| 233/233 [00:00<00:00, 5075.69it/s, accuracy=0.9528, avg_loss=0.1344]\n",
            "Epoch 335/500 - val: 100%|██████████| 35/35 [00:00<00:00, 3232.71it/s, accuracy=0.7429, avg_loss=1.1646]\n",
            "Epoch 336/500 - train: 100%|██████████| 233/233 [00:00<00:00, 5017.60it/s, accuracy=0.9356, avg_loss=0.1361]\n",
            "Epoch 336/500 - val: 100%|██████████| 35/35 [00:00<00:00, 1477.11it/s, accuracy=0.7714, avg_loss=1.1515]\n",
            "Epoch 337/500 - train: 100%|██████████| 233/233 [00:00<00:00, 3849.68it/s, accuracy=0.9571, avg_loss=0.1185]\n",
            "Epoch 337/500 - val: 100%|██████████| 35/35 [00:00<00:00, 3897.22it/s, accuracy=0.7143, avg_loss=1.2457]\n",
            "Epoch 338/500 - train: 100%|██████████| 233/233 [00:00<00:00, 6218.81it/s, accuracy=0.9571, avg_loss=0.1169]\n",
            "Epoch 338/500 - val: 100%|██████████| 35/35 [00:00<00:00, 5366.70it/s, accuracy=0.7143, avg_loss=1.4455]\n",
            "Epoch 339/500 - train: 100%|██████████| 233/233 [00:00<00:00, 5206.24it/s, accuracy=0.9399, avg_loss=0.1237]\n",
            "Epoch 339/500 - val: 100%|██████████| 35/35 [00:00<00:00, 4014.90it/s, accuracy=0.7143, avg_loss=1.4121]\n",
            "Epoch 340/500 - train: 100%|██████████| 233/233 [00:00<00:00, 2130.78it/s, accuracy=0.9614, avg_loss=0.1217]\n",
            "Epoch 340/500 - val: 100%|██████████| 35/35 [00:00<00:00, 1949.41it/s, accuracy=0.7429, avg_loss=1.3541]\n",
            "Epoch 341/500 - train: 100%|██████████| 233/233 [00:00<00:00, 2543.71it/s, accuracy=0.9270, avg_loss=0.1400]\n",
            "Epoch 341/500 - val: 100%|██████████| 35/35 [00:00<00:00, 2464.55it/s, accuracy=0.6857, avg_loss=1.2958]\n",
            "Epoch 342/500 - train: 100%|██████████| 233/233 [00:00<00:00, 2952.90it/s, accuracy=0.9185, avg_loss=0.1669]\n",
            "Epoch 342/500 - val: 100%|██████████| 35/35 [00:00<00:00, 3095.43it/s, accuracy=0.7714, avg_loss=1.4041]\n",
            "Epoch 343/500 - train: 100%|██████████| 233/233 [00:00<00:00, 4603.96it/s, accuracy=0.9313, avg_loss=0.1258]\n",
            "Epoch 343/500 - val: 100%|██████████| 35/35 [00:00<00:00, 3575.45it/s, accuracy=0.6857, avg_loss=1.4674]\n",
            "Epoch 344/500 - train: 100%|██████████| 233/233 [00:00<00:00, 4602.70it/s, accuracy=0.9399, avg_loss=0.1819]\n",
            "Epoch 344/500 - val: 100%|██████████| 35/35 [00:00<00:00, 2813.62it/s, accuracy=0.7714, avg_loss=1.3952]\n",
            "Epoch 345/500 - train: 100%|██████████| 233/233 [00:00<00:00, 4651.07it/s, accuracy=0.9356, avg_loss=0.1457]\n",
            "Epoch 345/500 - val: 100%|██████████| 35/35 [00:00<00:00, 3573.62it/s, accuracy=0.7143, avg_loss=1.1859]\n",
            "Epoch 346/500 - train: 100%|██████████| 233/233 [00:00<00:00, 2777.16it/s, accuracy=0.9485, avg_loss=0.1255]\n",
            "Epoch 346/500 - val: 100%|██████████| 35/35 [00:00<00:00, 2864.91it/s, accuracy=0.7143, avg_loss=1.1667]\n",
            "Epoch 347/500 - train: 100%|██████████| 233/233 [00:00<00:00, 3951.91it/s, accuracy=0.9614, avg_loss=0.0967]\n",
            "Epoch 347/500 - val: 100%|██████████| 35/35 [00:00<00:00, 4892.38it/s, accuracy=0.6857, avg_loss=1.2550]\n",
            "Epoch 348/500 - train: 100%|██████████| 233/233 [00:00<00:00, 6182.45it/s, accuracy=0.9657, avg_loss=0.1058]\n",
            "Epoch 348/500 - val: 100%|██████████| 35/35 [00:00<00:00, 3395.49it/s, accuracy=0.6857, avg_loss=1.4751]\n",
            "Epoch 349/500 - train: 100%|██████████| 233/233 [00:00<00:00, 4528.86it/s, accuracy=0.9657, avg_loss=0.0869]\n",
            "Epoch 349/500 - val: 100%|██████████| 35/35 [00:00<00:00, 3295.48it/s, accuracy=0.7143, avg_loss=1.5151]\n",
            "Epoch 350/500 - train: 100%|██████████| 233/233 [00:00<00:00, 2887.99it/s, accuracy=0.9571, avg_loss=0.1093]\n",
            "Epoch 350/500 - val: 100%|██████████| 35/35 [00:00<00:00, 2112.51it/s, accuracy=0.6857, avg_loss=1.5293]\n",
            "Epoch 351/500 - train: 100%|██████████| 233/233 [00:00<00:00, 2379.06it/s, accuracy=0.9485, avg_loss=0.1153]\n",
            "Epoch 351/500 - val: 100%|██████████| 35/35 [00:00<00:00, 5205.14it/s, accuracy=0.6571, avg_loss=1.5329]\n",
            "Epoch 352/500 - train: 100%|██████████| 233/233 [00:00<00:00, 6772.09it/s, accuracy=0.9614, avg_loss=0.0949]\n",
            "Epoch 352/500 - val: 100%|██████████| 35/35 [00:00<00:00, 2911.84it/s, accuracy=0.6857, avg_loss=1.5884]\n",
            "Epoch 353/500 - train: 100%|██████████| 233/233 [00:00<00:00, 4253.97it/s, accuracy=0.9700, avg_loss=0.1058]\n",
            "Epoch 353/500 - val: 100%|██████████| 35/35 [00:00<00:00, 3748.55it/s, accuracy=0.6571, avg_loss=1.4786]\n",
            "Epoch 354/500 - train: 100%|██████████| 233/233 [00:00<00:00, 5230.48it/s, accuracy=0.9442, avg_loss=0.1167]\n",
            "Epoch 354/500 - val: 100%|██████████| 35/35 [00:00<00:00, 1707.48it/s, accuracy=0.6571, avg_loss=1.6021]\n",
            "Epoch 355/500 - train: 100%|██████████| 233/233 [00:00<00:00, 2007.94it/s, accuracy=0.9442, avg_loss=0.1173]\n",
            "Epoch 355/500 - val: 100%|██████████| 35/35 [00:00<00:00, 2879.80it/s, accuracy=0.6857, avg_loss=1.4955]\n",
            "Epoch 356/500 - train: 100%|██████████| 233/233 [00:00<00:00, 4410.95it/s, accuracy=0.9528, avg_loss=0.1119]\n",
            "Epoch 356/500 - val: 100%|██████████| 35/35 [00:00<00:00, 2162.55it/s, accuracy=0.6857, avg_loss=1.4609]\n",
            "Epoch 357/500 - train: 100%|██████████| 233/233 [00:00<00:00, 4040.30it/s, accuracy=0.9614, avg_loss=0.1245]\n",
            "Epoch 357/500 - val: 100%|██████████| 35/35 [00:00<00:00, 2836.12it/s, accuracy=0.6571, avg_loss=1.4187]\n",
            "Epoch 358/500 - train: 100%|██████████| 233/233 [00:00<00:00, 4680.81it/s, accuracy=0.9614, avg_loss=0.0991]\n",
            "Epoch 358/500 - val: 100%|██████████| 35/35 [00:00<00:00, 4535.08it/s, accuracy=0.6857, avg_loss=1.6146]\n",
            "Epoch 359/500 - train: 100%|██████████| 233/233 [00:00<00:00, 5695.33it/s, accuracy=0.9742, avg_loss=0.0836]\n",
            "Epoch 359/500 - val: 100%|██████████| 35/35 [00:00<00:00, 3492.76it/s, accuracy=0.6857, avg_loss=1.7109]\n",
            "Epoch 360/500 - train: 100%|██████████| 233/233 [00:00<00:00, 3373.63it/s, accuracy=0.9785, avg_loss=0.0880]\n",
            "Epoch 360/500 - val: 100%|██████████| 35/35 [00:00<00:00, 3102.36it/s, accuracy=0.7143, avg_loss=1.5645]\n",
            "Epoch 361/500 - train: 100%|██████████| 233/233 [00:00<00:00, 4628.53it/s, accuracy=0.9785, avg_loss=0.0857]\n",
            "Epoch 361/500 - val: 100%|██████████| 35/35 [00:00<00:00, 3136.70it/s, accuracy=0.6571, avg_loss=1.5022]\n",
            "Epoch 362/500 - train: 100%|██████████| 233/233 [00:00<00:00, 4516.05it/s, accuracy=0.9700, avg_loss=0.0787]\n",
            "Epoch 362/500 - val: 100%|██████████| 35/35 [00:00<00:00, 2969.87it/s, accuracy=0.7143, avg_loss=1.6163]\n",
            "Epoch 363/500 - train: 100%|██████████| 233/233 [00:00<00:00, 4735.28it/s, accuracy=0.9700, avg_loss=0.0957]\n",
            "Epoch 363/500 - val: 100%|██████████| 35/35 [00:00<00:00, 3219.31it/s, accuracy=0.7143, avg_loss=1.8252]\n",
            "Epoch 364/500 - train: 100%|██████████| 233/233 [00:00<00:00, 3274.29it/s, accuracy=0.9614, avg_loss=0.0853]\n",
            "Epoch 364/500 - val: 100%|██████████| 35/35 [00:00<00:00, 2549.86it/s, accuracy=0.6286, avg_loss=1.6952]\n",
            "Epoch 365/500 - train: 100%|██████████| 233/233 [00:00<00:00, 4251.93it/s, accuracy=0.9657, avg_loss=0.0912]\n",
            "Epoch 365/500 - val: 100%|██████████| 35/35 [00:00<00:00, 4391.42it/s, accuracy=0.6571, avg_loss=1.7562]\n",
            "Epoch 366/500 - train: 100%|██████████| 233/233 [00:00<00:00, 5873.03it/s, accuracy=0.9828, avg_loss=0.0710]\n",
            "Epoch 366/500 - val: 100%|██████████| 35/35 [00:00<00:00, 2240.48it/s, accuracy=0.6571, avg_loss=1.8910]\n",
            "Epoch 367/500 - train: 100%|██████████| 233/233 [00:00<00:00, 4320.95it/s, accuracy=0.9742, avg_loss=0.0848]\n",
            "Epoch 367/500 - val: 100%|██████████| 35/35 [00:00<00:00, 6535.51it/s, accuracy=0.6571, avg_loss=1.9644]\n",
            "Epoch 368/500 - train: 100%|██████████| 233/233 [00:00<00:00, 4208.81it/s, accuracy=0.9742, avg_loss=0.0718]\n",
            "Epoch 368/500 - val: 100%|██████████| 35/35 [00:00<00:00, 5872.97it/s, accuracy=0.6286, avg_loss=1.8099]\n",
            "Epoch 369/500 - train: 100%|██████████| 233/233 [00:00<00:00, 4576.06it/s, accuracy=0.9785, avg_loss=0.0762]\n",
            "Epoch 369/500 - val: 100%|██████████| 35/35 [00:00<00:00, 2130.51it/s, accuracy=0.6857, avg_loss=1.7022]\n",
            "Epoch 370/500 - train: 100%|██████████| 233/233 [00:00<00:00, 1788.99it/s, accuracy=0.9785, avg_loss=0.0684]\n",
            "Epoch 370/500 - val: 100%|██████████| 35/35 [00:00<00:00, 2542.84it/s, accuracy=0.7143, avg_loss=1.6716]\n",
            "Epoch 371/500 - train: 100%|██████████| 233/233 [00:00<00:00, 2916.54it/s, accuracy=0.9785, avg_loss=0.0695]\n",
            "Epoch 371/500 - val: 100%|██████████| 35/35 [00:00<00:00, 2485.20it/s, accuracy=0.6286, avg_loss=1.6348]\n",
            "Epoch 372/500 - train: 100%|██████████| 233/233 [00:00<00:00, 4365.67it/s, accuracy=0.9785, avg_loss=0.0635]\n",
            "Epoch 372/500 - val: 100%|██████████| 35/35 [00:00<00:00, 2986.85it/s, accuracy=0.6286, avg_loss=1.6840]\n",
            "Epoch 373/500 - train: 100%|██████████| 233/233 [00:00<00:00, 4551.04it/s, accuracy=0.9785, avg_loss=0.0680]\n",
            "Epoch 373/500 - val: 100%|██████████| 35/35 [00:00<00:00, 3019.60it/s, accuracy=0.6571, avg_loss=1.7065]\n",
            "Epoch 374/500 - train: 100%|██████████| 233/233 [00:00<00:00, 4466.98it/s, accuracy=0.9742, avg_loss=0.0689]\n",
            "Epoch 374/500 - val: 100%|██████████| 35/35 [00:00<00:00, 2252.99it/s, accuracy=0.6571, avg_loss=1.8760]\n",
            "Epoch 375/500 - train: 100%|██████████| 233/233 [00:00<00:00, 5117.17it/s, accuracy=0.9828, avg_loss=0.0617]\n",
            "Epoch 375/500 - val: 100%|██████████| 35/35 [00:00<00:00, 5847.93it/s, accuracy=0.6571, avg_loss=1.8912]\n",
            "Epoch 376/500 - train: 100%|██████████| 233/233 [00:00<00:00, 3811.65it/s, accuracy=0.9828, avg_loss=0.0643]\n",
            "Epoch 376/500 - val: 100%|██████████| 35/35 [00:00<00:00, 4098.63it/s, accuracy=0.6857, avg_loss=1.9217]\n",
            "Epoch 377/500 - train: 100%|██████████| 233/233 [00:00<00:00, 4276.77it/s, accuracy=0.9828, avg_loss=0.0602]\n",
            "Epoch 377/500 - val: 100%|██████████| 35/35 [00:00<00:00, 4259.29it/s, accuracy=0.6857, avg_loss=1.8588]\n",
            "Epoch 378/500 - train: 100%|██████████| 233/233 [00:00<00:00, 5211.37it/s, accuracy=0.9528, avg_loss=0.1098]\n",
            "Epoch 378/500 - val: 100%|██████████| 35/35 [00:00<00:00, 2363.63it/s, accuracy=0.6857, avg_loss=1.8856]\n",
            "Epoch 379/500 - train: 100%|██████████| 233/233 [00:00<00:00, 4220.92it/s, accuracy=0.9528, avg_loss=0.0974]\n",
            "Epoch 379/500 - val: 100%|██████████| 35/35 [00:00<00:00, 2504.28it/s, accuracy=0.7143, avg_loss=1.7028]\n",
            "Epoch 380/500 - train: 100%|██████████| 233/233 [00:00<00:00, 3578.81it/s, accuracy=0.9356, avg_loss=0.1240]\n",
            "Epoch 380/500 - val: 100%|██████████| 35/35 [00:00<00:00, 3606.98it/s, accuracy=0.6571, avg_loss=1.7649]\n",
            "Epoch 381/500 - train: 100%|██████████| 233/233 [00:00<00:00, 4295.14it/s, accuracy=0.9485, avg_loss=0.1396]\n",
            "Epoch 381/500 - val: 100%|██████████| 35/35 [00:00<00:00, 3331.15it/s, accuracy=0.6857, avg_loss=2.1458]\n",
            "Epoch 382/500 - train: 100%|██████████| 233/233 [00:00<00:00, 3637.31it/s, accuracy=0.9528, avg_loss=0.1128]\n",
            "Epoch 382/500 - val: 100%|██████████| 35/35 [00:00<00:00, 3285.16it/s, accuracy=0.6857, avg_loss=2.0553]\n",
            "Epoch 383/500 - train: 100%|██████████| 233/233 [00:00<00:00, 4247.07it/s, accuracy=0.9571, avg_loss=0.0949]\n",
            "Epoch 383/500 - val: 100%|██████████| 35/35 [00:00<00:00, 2677.62it/s, accuracy=0.6571, avg_loss=1.7915]\n",
            "Epoch 384/500 - train: 100%|██████████| 233/233 [00:00<00:00, 3719.33it/s, accuracy=0.9528, avg_loss=0.1228]\n",
            "Epoch 384/500 - val: 100%|██████████| 35/35 [00:00<00:00, 3272.56it/s, accuracy=0.6286, avg_loss=1.6980]\n",
            "Epoch 385/500 - train: 100%|██████████| 233/233 [00:00<00:00, 3109.19it/s, accuracy=0.9700, avg_loss=0.0846]\n",
            "Epoch 385/500 - val: 100%|██████████| 35/35 [00:00<00:00, 5886.86it/s, accuracy=0.6571, avg_loss=2.0436]\n",
            "Epoch 386/500 - train: 100%|██████████| 233/233 [00:00<00:00, 3985.05it/s, accuracy=0.9828, avg_loss=0.0740]\n",
            "Epoch 386/500 - val: 100%|██████████| 35/35 [00:00<00:00, 2234.82it/s, accuracy=0.6571, avg_loss=1.8053]\n",
            "Epoch 387/500 - train: 100%|██████████| 233/233 [00:00<00:00, 4077.02it/s, accuracy=0.9785, avg_loss=0.0711]\n",
            "Epoch 387/500 - val: 100%|██████████| 35/35 [00:00<00:00, 5372.20it/s, accuracy=0.6857, avg_loss=1.6085]\n",
            "Epoch 388/500 - train: 100%|██████████| 233/233 [00:00<00:00, 3782.95it/s, accuracy=0.9828, avg_loss=0.0656]\n",
            "Epoch 388/500 - val: 100%|██████████| 35/35 [00:00<00:00, 1380.20it/s, accuracy=0.6571, avg_loss=1.6042]\n",
            "Epoch 389/500 - train: 100%|██████████| 233/233 [00:00<00:00, 4267.87it/s, accuracy=0.9828, avg_loss=0.0562]\n",
            "Epoch 389/500 - val: 100%|██████████| 35/35 [00:00<00:00, 3408.58it/s, accuracy=0.6857, avg_loss=1.8327]\n",
            "Epoch 390/500 - train: 100%|██████████| 233/233 [00:00<00:00, 4457.95it/s, accuracy=0.9828, avg_loss=0.0603]\n",
            "Epoch 390/500 - val: 100%|██████████| 35/35 [00:00<00:00, 3039.67it/s, accuracy=0.6571, avg_loss=1.9152]\n",
            "Epoch 391/500 - train: 100%|██████████| 233/233 [00:00<00:00, 4512.52it/s, accuracy=0.9657, avg_loss=0.0829]\n",
            "Epoch 391/500 - val: 100%|██████████| 35/35 [00:00<00:00, 3607.52it/s, accuracy=0.6857, avg_loss=2.1014]\n",
            "Epoch 392/500 - train: 100%|██████████| 233/233 [00:00<00:00, 4724.87it/s, accuracy=0.9785, avg_loss=0.0573]\n",
            "Epoch 392/500 - val: 100%|██████████| 35/35 [00:00<00:00, 436.90it/s, accuracy=0.7143, avg_loss=1.9237]\n",
            "Epoch 393/500 - train: 100%|██████████| 233/233 [00:00<00:00, 3268.49it/s, accuracy=0.9742, avg_loss=0.0810]\n",
            "Epoch 393/500 - val: 100%|██████████| 35/35 [00:00<00:00, 5570.12it/s, accuracy=0.6857, avg_loss=2.2866]\n",
            "Epoch 394/500 - train: 100%|██████████| 233/233 [00:00<00:00, 4176.67it/s, accuracy=0.9700, avg_loss=0.0855]\n",
            "Epoch 394/500 - val: 100%|██████████| 35/35 [00:00<00:00, 5225.71it/s, accuracy=0.6286, avg_loss=2.0005]\n",
            "Epoch 395/500 - train: 100%|██████████| 233/233 [00:00<00:00, 5048.18it/s, accuracy=0.9914, avg_loss=0.0564]\n",
            "Epoch 395/500 - val: 100%|██████████| 35/35 [00:00<00:00, 4095.66it/s, accuracy=0.6857, avg_loss=2.0551]\n",
            "Epoch 396/500 - train: 100%|██████████| 233/233 [00:00<00:00, 3569.95it/s, accuracy=0.9914, avg_loss=0.0457]\n",
            "Epoch 396/500 - val: 100%|██████████| 35/35 [00:00<00:00, 5394.11it/s, accuracy=0.6571, avg_loss=2.0115]\n",
            "Epoch 397/500 - train: 100%|██████████| 233/233 [00:00<00:00, 6789.73it/s, accuracy=0.9871, avg_loss=0.0479]\n",
            "Epoch 397/500 - val: 100%|██████████| 35/35 [00:00<00:00, 5287.83it/s, accuracy=0.6857, avg_loss=2.1310]\n",
            "Epoch 398/500 - train: 100%|██████████| 233/233 [00:00<00:00, 2114.82it/s, accuracy=0.9871, avg_loss=0.0456]\n",
            "Epoch 398/500 - val: 100%|██████████| 35/35 [00:00<00:00, 5491.36it/s, accuracy=0.7143, avg_loss=2.1515]\n",
            "Epoch 399/500 - train: 100%|██████████| 233/233 [00:00<00:00, 6455.08it/s, accuracy=0.9871, avg_loss=0.0526]\n",
            "Epoch 399/500 - val: 100%|██████████| 35/35 [00:00<00:00, 5741.80it/s, accuracy=0.7143, avg_loss=2.1460]\n",
            "Epoch 400/500 - train: 100%|██████████| 233/233 [00:00<00:00, 6564.56it/s, accuracy=0.9914, avg_loss=0.0472]\n",
            "Epoch 400/500 - val: 100%|██████████| 35/35 [00:00<00:00, 2872.08it/s, accuracy=0.6286, avg_loss=2.1283]\n",
            "Epoch 401/500 - train: 100%|██████████| 233/233 [00:00<00:00, 4467.45it/s, accuracy=0.9914, avg_loss=0.0502]\n",
            "Epoch 401/500 - val: 100%|██████████| 35/35 [00:00<00:00, 3500.09it/s, accuracy=0.6857, avg_loss=2.2483]\n",
            "Epoch 402/500 - train: 100%|██████████| 233/233 [00:00<00:00, 3785.91it/s, accuracy=0.9828, avg_loss=0.0543]\n",
            "Epoch 402/500 - val: 100%|██████████| 35/35 [00:00<00:00, 3355.37it/s, accuracy=0.6857, avg_loss=2.1915]\n",
            "Epoch 403/500 - train: 100%|██████████| 233/233 [00:00<00:00, 4478.71it/s, accuracy=0.9871, avg_loss=0.0467]\n",
            "Epoch 403/500 - val: 100%|██████████| 35/35 [00:00<00:00, 4131.39it/s, accuracy=0.6286, avg_loss=2.2749]\n",
            "Epoch 404/500 - train: 100%|██████████| 233/233 [00:00<00:00, 4152.23it/s, accuracy=0.9957, avg_loss=0.0458]\n",
            "Epoch 404/500 - val: 100%|██████████| 35/35 [00:00<00:00, 3156.19it/s, accuracy=0.6571, avg_loss=2.2099]\n",
            "Epoch 405/500 - train: 100%|██████████| 233/233 [00:00<00:00, 3675.88it/s, accuracy=0.9914, avg_loss=0.0439]\n",
            "Epoch 405/500 - val: 100%|██████████| 35/35 [00:00<00:00, 2923.73it/s, accuracy=0.6857, avg_loss=2.0958]\n",
            "Epoch 406/500 - train: 100%|██████████| 233/233 [00:00<00:00, 4767.32it/s, accuracy=0.9914, avg_loss=0.0376]\n",
            "Epoch 406/500 - val: 100%|██████████| 35/35 [00:00<00:00, 3643.96it/s, accuracy=0.6571, avg_loss=2.0504]\n",
            "Epoch 407/500 - train: 100%|██████████| 233/233 [00:00<00:00, 3592.28it/s, accuracy=0.9914, avg_loss=0.0403]\n",
            "Epoch 407/500 - val: 100%|██████████| 35/35 [00:00<00:00, 2635.89it/s, accuracy=0.6571, avg_loss=2.0275]\n",
            "Epoch 408/500 - train: 100%|██████████| 233/233 [00:00<00:00, 4066.13it/s, accuracy=0.9957, avg_loss=0.0364]\n",
            "Epoch 408/500 - val: 100%|██████████| 35/35 [00:00<00:00, 4988.30it/s, accuracy=0.7143, avg_loss=2.1202]\n",
            "Epoch 409/500 - train: 100%|██████████| 233/233 [00:00<00:00, 6312.03it/s, accuracy=0.9871, avg_loss=0.0497]\n",
            "Epoch 409/500 - val: 100%|██████████| 35/35 [00:00<00:00, 4683.68it/s, accuracy=0.6571, avg_loss=2.0726]\n",
            "Epoch 410/500 - train: 100%|██████████| 233/233 [00:00<00:00, 4625.14it/s, accuracy=0.9957, avg_loss=0.0363]\n",
            "Epoch 410/500 - val: 100%|██████████| 35/35 [00:00<00:00, 4092.69it/s, accuracy=0.7143, avg_loss=2.3069]\n",
            "Epoch 411/500 - train: 100%|██████████| 233/233 [00:00<00:00, 4996.15it/s, accuracy=0.9871, avg_loss=0.0484]\n",
            "Epoch 411/500 - val: 100%|██████████| 35/35 [00:00<00:00, 3311.69it/s, accuracy=0.6571, avg_loss=2.1143]\n",
            "Epoch 412/500 - train: 100%|██████████| 233/233 [00:00<00:00, 5024.44it/s, accuracy=0.9700, avg_loss=0.0713]\n",
            "Epoch 412/500 - val: 100%|██████████| 35/35 [00:00<00:00, 1601.19it/s, accuracy=0.6857, avg_loss=2.1759]\n",
            "Epoch 413/500 - train: 100%|██████████| 233/233 [00:00<00:00, 5070.26it/s, accuracy=0.9657, avg_loss=0.0850]\n",
            "Epoch 413/500 - val: 100%|██████████| 35/35 [00:00<00:00, 3253.06it/s, accuracy=0.6857, avg_loss=2.0678]\n",
            "Epoch 414/500 - train: 100%|██████████| 233/233 [00:00<00:00, 2753.42it/s, accuracy=0.9657, avg_loss=0.0828]\n",
            "Epoch 414/500 - val: 100%|██████████| 35/35 [00:00<00:00, 5411.41it/s, accuracy=0.6857, avg_loss=2.6342]\n",
            "Epoch 415/500 - train: 100%|██████████| 233/233 [00:00<00:00, 4822.61it/s, accuracy=0.9700, avg_loss=0.0938]\n",
            "Epoch 415/500 - val: 100%|██████████| 35/35 [00:00<00:00, 3790.36it/s, accuracy=0.7143, avg_loss=1.9562]\n",
            "Epoch 416/500 - train: 100%|██████████| 233/233 [00:00<00:00, 3948.88it/s, accuracy=0.9785, avg_loss=0.0685]\n",
            "Epoch 416/500 - val: 100%|██████████| 35/35 [00:00<00:00, 3414.37it/s, accuracy=0.6571, avg_loss=2.0251]\n",
            "Epoch 417/500 - train: 100%|██████████| 233/233 [00:00<00:00, 3775.11it/s, accuracy=0.9700, avg_loss=0.0808]\n",
            "Epoch 417/500 - val: 100%|██████████| 35/35 [00:00<00:00, 4935.47it/s, accuracy=0.6571, avg_loss=2.1309]\n",
            "Epoch 418/500 - train: 100%|██████████| 233/233 [00:00<00:00, 3798.17it/s, accuracy=0.9828, avg_loss=0.0652]\n",
            "Epoch 418/500 - val: 100%|██████████| 35/35 [00:00<00:00, 3617.65it/s, accuracy=0.6571, avg_loss=2.4059]\n",
            "Epoch 419/500 - train: 100%|██████████| 233/233 [00:00<00:00, 3242.44it/s, accuracy=0.9914, avg_loss=0.0543]\n",
            "Epoch 419/500 - val: 100%|██████████| 35/35 [00:00<00:00, 2263.00it/s, accuracy=0.6857, avg_loss=2.3541]\n",
            "Epoch 420/500 - train: 100%|██████████| 233/233 [00:00<00:00, 2110.55it/s, accuracy=0.9828, avg_loss=0.0570]\n",
            "Epoch 420/500 - val: 100%|██████████| 35/35 [00:00<00:00, 2885.52it/s, accuracy=0.6857, avg_loss=2.4063]\n",
            "Epoch 421/500 - train: 100%|██████████| 233/233 [00:00<00:00, 3566.98it/s, accuracy=0.9871, avg_loss=0.0476]\n",
            "Epoch 421/500 - val: 100%|██████████| 35/35 [00:00<00:00, 4250.29it/s, accuracy=0.6571, avg_loss=2.2476]\n",
            "Epoch 422/500 - train: 100%|██████████| 233/233 [00:00<00:00, 4402.37it/s, accuracy=0.9914, avg_loss=0.0445]\n",
            "Epoch 422/500 - val: 100%|██████████| 35/35 [00:00<00:00, 3381.72it/s, accuracy=0.6857, avg_loss=2.2168]\n",
            "Epoch 423/500 - train: 100%|██████████| 233/233 [00:00<00:00, 4262.88it/s, accuracy=0.9914, avg_loss=0.0492]\n",
            "Epoch 423/500 - val: 100%|██████████| 35/35 [00:00<00:00, 3469.73it/s, accuracy=0.6571, avg_loss=2.0390]\n",
            "Epoch 424/500 - train: 100%|██████████| 233/233 [00:00<00:00, 2382.52it/s, accuracy=0.9914, avg_loss=0.0502]\n",
            "Epoch 424/500 - val: 100%|██████████| 35/35 [00:00<00:00, 2355.25it/s, accuracy=0.6286, avg_loss=2.0577]\n",
            "Epoch 425/500 - train: 100%|██████████| 233/233 [00:00<00:00, 4828.52it/s, accuracy=0.9871, avg_loss=0.0442]\n",
            "Epoch 425/500 - val: 100%|██████████| 35/35 [00:00<00:00, 959.61it/s, accuracy=0.6571, avg_loss=2.3121]\n",
            "Epoch 426/500 - train: 100%|██████████| 233/233 [00:00<00:00, 2783.28it/s, accuracy=0.9914, avg_loss=0.0356]\n",
            "Epoch 426/500 - val: 100%|██████████| 35/35 [00:00<00:00, 1415.06it/s, accuracy=0.7143, avg_loss=2.4479]\n",
            "Epoch 427/500 - train: 100%|██████████| 233/233 [00:00<00:00, 3735.08it/s, accuracy=0.9914, avg_loss=0.0440]\n",
            "Epoch 427/500 - val: 100%|██████████| 35/35 [00:00<00:00, 2678.60it/s, accuracy=0.6571, avg_loss=2.4828]\n",
            "Epoch 428/500 - train: 100%|██████████| 233/233 [00:00<00:00, 2106.51it/s, accuracy=0.9914, avg_loss=0.0390]\n",
            "Epoch 428/500 - val: 100%|██████████| 35/35 [00:00<00:00, 805.22it/s, accuracy=0.6571, avg_loss=2.2267]\n",
            "Epoch 429/500 - train: 100%|██████████| 233/233 [00:00<00:00, 4528.73it/s, accuracy=0.9957, avg_loss=0.0441]\n",
            "Epoch 429/500 - val: 100%|██████████| 35/35 [00:00<00:00, 2212.89it/s, accuracy=0.6857, avg_loss=2.2208]\n",
            "Epoch 430/500 - train: 100%|██████████| 233/233 [00:00<00:00, 4682.53it/s, accuracy=0.9957, avg_loss=0.0403]\n",
            "Epoch 430/500 - val: 100%|██████████| 35/35 [00:00<00:00, 3119.17it/s, accuracy=0.6857, avg_loss=2.3188]\n",
            "Epoch 431/500 - train: 100%|██████████| 233/233 [00:00<00:00, 4014.23it/s, accuracy=0.9914, avg_loss=0.0338]\n",
            "Epoch 431/500 - val: 100%|██████████| 35/35 [00:00<00:00, 3831.21it/s, accuracy=0.6286, avg_loss=2.3810]\n",
            "Epoch 432/500 - train: 100%|██████████| 233/233 [00:00<00:00, 4297.06it/s, accuracy=0.9957, avg_loss=0.0358]\n",
            "Epoch 432/500 - val: 100%|██████████| 35/35 [00:00<00:00, 3488.03it/s, accuracy=0.6286, avg_loss=2.4146]\n",
            "Epoch 433/500 - train: 100%|██████████| 233/233 [00:00<00:00, 4683.16it/s, accuracy=0.9914, avg_loss=0.0325]\n",
            "Epoch 433/500 - val: 100%|██████████| 35/35 [00:00<00:00, 3376.59it/s, accuracy=0.6857, avg_loss=2.3108]\n",
            "Epoch 434/500 - train: 100%|██████████| 233/233 [00:00<00:00, 4240.70it/s, accuracy=0.9957, avg_loss=0.0323]\n",
            "Epoch 434/500 - val: 100%|██████████| 35/35 [00:00<00:00, 2830.22it/s, accuracy=0.6571, avg_loss=2.2997]\n",
            "Epoch 435/500 - train: 100%|██████████| 233/233 [00:00<00:00, 5072.79it/s, accuracy=0.9957, avg_loss=0.0299]\n",
            "Epoch 435/500 - val: 100%|██████████| 35/35 [00:00<00:00, 4994.75it/s, accuracy=0.7143, avg_loss=2.2618]\n",
            "Epoch 436/500 - train: 100%|██████████| 233/233 [00:00<00:00, 4746.30it/s, accuracy=0.9957, avg_loss=0.0268]\n",
            "Epoch 436/500 - val: 100%|██████████| 35/35 [00:00<00:00, 2613.46it/s, accuracy=0.7143, avg_loss=2.2982]\n",
            "Epoch 437/500 - train: 100%|██████████| 233/233 [00:00<00:00, 4135.55it/s, accuracy=0.9957, avg_loss=0.0318]\n",
            "Epoch 437/500 - val: 100%|██████████| 35/35 [00:00<00:00, 3473.26it/s, accuracy=0.6857, avg_loss=2.2997]\n",
            "Epoch 438/500 - train: 100%|██████████| 233/233 [00:00<00:00, 3320.12it/s, accuracy=1.0000, avg_loss=0.0282]\n",
            "Epoch 438/500 - val: 100%|██████████| 35/35 [00:00<00:00, 3446.91it/s, accuracy=0.7143, avg_loss=2.3081]\n",
            "Epoch 439/500 - train: 100%|██████████| 233/233 [00:00<00:00, 4447.75it/s, accuracy=0.9957, avg_loss=0.0302]\n",
            "Epoch 439/500 - val: 100%|██████████| 35/35 [00:00<00:00, 664.46it/s, accuracy=0.6571, avg_loss=2.3383]\n",
            "Epoch 440/500 - train: 100%|██████████| 233/233 [00:00<00:00, 3209.95it/s, accuracy=0.9914, avg_loss=0.0294]\n",
            "Epoch 440/500 - val: 100%|██████████| 35/35 [00:00<00:00, 1105.94it/s, accuracy=0.7143, avg_loss=2.3561]\n",
            "Epoch 441/500 - train: 100%|██████████| 233/233 [00:00<00:00, 4512.11it/s, accuracy=0.9957, avg_loss=0.0254]\n",
            "Epoch 441/500 - val: 100%|██████████| 35/35 [00:00<00:00, 2324.30it/s, accuracy=0.6857, avg_loss=2.2154]\n",
            "Epoch 442/500 - train: 100%|██████████| 233/233 [00:00<00:00, 5981.12it/s, accuracy=0.9957, avg_loss=0.0271]\n",
            "Epoch 442/500 - val: 100%|██████████| 35/35 [00:00<00:00, 5410.61it/s, accuracy=0.7143, avg_loss=2.3494]\n",
            "Epoch 443/500 - train: 100%|██████████| 233/233 [00:00<00:00, 3195.37it/s, accuracy=0.9957, avg_loss=0.0255]\n",
            "Epoch 443/500 - val: 100%|██████████| 35/35 [00:00<00:00, 4213.69it/s, accuracy=0.7143, avg_loss=2.3880]\n",
            "Epoch 444/500 - train: 100%|██████████| 233/233 [00:00<00:00, 7025.18it/s, accuracy=0.9957, avg_loss=0.0291]\n",
            "Epoch 444/500 - val: 100%|██████████| 35/35 [00:00<00:00, 5915.33it/s, accuracy=0.6857, avg_loss=2.4282]\n",
            "Epoch 445/500 - train: 100%|██████████| 233/233 [00:00<00:00, 4762.47it/s, accuracy=0.9957, avg_loss=0.0246]\n",
            "Epoch 445/500 - val: 100%|██████████| 35/35 [00:00<00:00, 2671.24it/s, accuracy=0.7143, avg_loss=2.4499]\n",
            "Epoch 446/500 - train: 100%|██████████| 233/233 [00:00<00:00, 1691.62it/s, accuracy=0.9957, avg_loss=0.0235]\n",
            "Epoch 446/500 - val: 100%|██████████| 35/35 [00:00<00:00, 2000.23it/s, accuracy=0.6857, avg_loss=2.4195]\n",
            "Epoch 447/500 - train: 100%|██████████| 233/233 [00:00<00:00, 4981.82it/s, accuracy=0.9957, avg_loss=0.0252]\n",
            "Epoch 447/500 - val: 100%|██████████| 35/35 [00:00<00:00, 4202.95it/s, accuracy=0.7143, avg_loss=2.3796]\n",
            "Epoch 448/500 - train: 100%|██████████| 233/233 [00:00<00:00, 3124.32it/s, accuracy=0.9957, avg_loss=0.0249]\n",
            "Epoch 448/500 - val: 100%|██████████| 35/35 [00:00<00:00, 3620.42it/s, accuracy=0.6857, avg_loss=2.4109]\n",
            "Epoch 449/500 - train: 100%|██████████| 233/233 [00:00<00:00, 4404.91it/s, accuracy=0.9957, avg_loss=0.0284]\n",
            "Epoch 449/500 - val: 100%|██████████| 35/35 [00:00<00:00, 4747.14it/s, accuracy=0.6857, avg_loss=2.4365]\n",
            "Epoch 450/500 - train: 100%|██████████| 233/233 [00:00<00:00, 5988.04it/s, accuracy=0.9957, avg_loss=0.0245]\n",
            "Epoch 450/500 - val: 100%|██████████| 35/35 [00:00<00:00, 5756.21it/s, accuracy=0.7429, avg_loss=2.4938]\n",
            "Epoch 451/500 - train: 100%|██████████| 233/233 [00:00<00:00, 3815.71it/s, accuracy=0.9957, avg_loss=0.0236]\n",
            "Epoch 451/500 - val: 100%|██████████| 35/35 [00:00<00:00, 2991.35it/s, accuracy=0.7143, avg_loss=2.5219]\n",
            "Epoch 452/500 - train: 100%|██████████| 233/233 [00:00<00:00, 1681.58it/s, accuracy=0.9957, avg_loss=0.0211]\n",
            "Epoch 452/500 - val: 100%|██████████| 35/35 [00:00<00:00, 2936.13it/s, accuracy=0.7143, avg_loss=2.4747]\n",
            "Epoch 453/500 - train: 100%|██████████| 233/233 [00:00<00:00, 3988.49it/s, accuracy=1.0000, avg_loss=0.0225]\n",
            "Epoch 453/500 - val: 100%|██████████| 35/35 [00:00<00:00, 1311.87it/s, accuracy=0.6857, avg_loss=2.4206]\n",
            "Epoch 454/500 - train: 100%|██████████| 233/233 [00:00<00:00, 5513.15it/s, accuracy=0.9957, avg_loss=0.0205]\n",
            "Epoch 454/500 - val: 100%|██████████| 35/35 [00:00<00:00, 4036.31it/s, accuracy=0.7143, avg_loss=2.4422]\n",
            "Epoch 455/500 - train: 100%|██████████| 233/233 [00:00<00:00, 4512.57it/s, accuracy=0.9957, avg_loss=0.0222]\n",
            "Epoch 455/500 - val: 100%|██████████| 35/35 [00:00<00:00, 3661.87it/s, accuracy=0.7143, avg_loss=2.5042]\n",
            "Epoch 456/500 - train: 100%|██████████| 233/233 [00:00<00:00, 3925.17it/s, accuracy=1.0000, avg_loss=0.0200]\n",
            "Epoch 456/500 - val: 100%|██████████| 35/35 [00:00<00:00, 3106.76it/s, accuracy=0.6857, avg_loss=2.4372]\n",
            "Epoch 457/500 - train: 100%|██████████| 233/233 [00:00<00:00, 4752.74it/s, accuracy=0.9957, avg_loss=0.0255]\n",
            "Epoch 457/500 - val: 100%|██████████| 35/35 [00:00<00:00, 3440.86it/s, accuracy=0.7143, avg_loss=2.4688]\n",
            "Epoch 458/500 - train: 100%|██████████| 233/233 [00:00<00:00, 4473.01it/s, accuracy=0.9957, avg_loss=0.0331]\n",
            "Epoch 458/500 - val: 100%|██████████| 35/35 [00:00<00:00, 1708.63it/s, accuracy=0.7143, avg_loss=2.4341]\n",
            "Epoch 459/500 - train: 100%|██████████| 233/233 [00:00<00:00, 3885.17it/s, accuracy=0.9914, avg_loss=0.0326]\n",
            "Epoch 459/500 - val: 100%|██████████| 35/35 [00:00<00:00, 3644.69it/s, accuracy=0.6857, avg_loss=2.5102]\n",
            "Epoch 460/500 - train: 100%|██████████| 233/233 [00:00<00:00, 2936.96it/s, accuracy=0.9871, avg_loss=0.0408]\n",
            "Epoch 460/500 - val: 100%|██████████| 35/35 [00:00<00:00, 3250.53it/s, accuracy=0.6857, avg_loss=2.6719]\n",
            "Epoch 461/500 - train: 100%|██████████| 233/233 [00:00<00:00, 2342.75it/s, accuracy=0.9785, avg_loss=0.0670]\n",
            "Epoch 461/500 - val: 100%|██████████| 35/35 [00:00<00:00, 2768.41it/s, accuracy=0.6857, avg_loss=2.5689]\n",
            "Epoch 462/500 - train: 100%|██████████| 233/233 [00:00<00:00, 6230.18it/s, accuracy=0.9700, avg_loss=0.0673]\n",
            "Epoch 462/500 - val: 100%|██████████| 35/35 [00:00<00:00, 5190.79it/s, accuracy=0.6571, avg_loss=2.4886]\n",
            "Epoch 463/500 - train: 100%|██████████| 233/233 [00:00<00:00, 4556.94it/s, accuracy=0.9957, avg_loss=0.0338]\n",
            "Epoch 463/500 - val: 100%|██████████| 35/35 [00:00<00:00, 5311.74it/s, accuracy=0.7143, avg_loss=2.8352]\n",
            "Epoch 464/500 - train: 100%|██████████| 233/233 [00:00<00:00, 5860.11it/s, accuracy=0.9828, avg_loss=0.0472]\n",
            "Epoch 464/500 - val: 100%|██████████| 35/35 [00:00<00:00, 3515.43it/s, accuracy=0.7143, avg_loss=2.5396]\n",
            "Epoch 465/500 - train: 100%|██████████| 233/233 [00:00<00:00, 3730.99it/s, accuracy=0.9828, avg_loss=0.0523]\n",
            "Epoch 465/500 - val: 100%|██████████| 35/35 [00:00<00:00, 2325.78it/s, accuracy=0.6571, avg_loss=2.5029]\n",
            "Epoch 466/500 - train: 100%|██████████| 233/233 [00:00<00:00, 2622.49it/s, accuracy=0.9914, avg_loss=0.0461]\n",
            "Epoch 466/500 - val: 100%|██████████| 35/35 [00:00<00:00, 2084.79it/s, accuracy=0.6857, avg_loss=2.2742]\n",
            "Epoch 467/500 - train: 100%|██████████| 233/233 [00:00<00:00, 3582.73it/s, accuracy=0.9871, avg_loss=0.0460]\n",
            "Epoch 467/500 - val: 100%|██████████| 35/35 [00:00<00:00, 2131.19it/s, accuracy=0.7429, avg_loss=2.5853]\n",
            "Epoch 468/500 - train: 100%|██████████| 233/233 [00:00<00:00, 3719.67it/s, accuracy=0.9957, avg_loss=0.0363]\n",
            "Epoch 468/500 - val: 100%|██████████| 35/35 [00:00<00:00, 1669.73it/s, accuracy=0.6857, avg_loss=2.6406]\n",
            "Epoch 469/500 - train: 100%|██████████| 233/233 [00:00<00:00, 5354.68it/s, accuracy=0.9871, avg_loss=0.0463]\n",
            "Epoch 469/500 - val: 100%|██████████| 35/35 [00:00<00:00, 3246.80it/s, accuracy=0.6571, avg_loss=2.4899]\n",
            "Epoch 470/500 - train: 100%|██████████| 233/233 [00:00<00:00, 4835.35it/s, accuracy=0.9957, avg_loss=0.0329]\n",
            "Epoch 470/500 - val: 100%|██████████| 35/35 [00:00<00:00, 3420.25it/s, accuracy=0.7143, avg_loss=2.6048]\n",
            "Epoch 471/500 - train: 100%|██████████| 233/233 [00:00<00:00, 2712.47it/s, accuracy=0.9957, avg_loss=0.0283]\n",
            "Epoch 471/500 - val: 100%|██████████| 35/35 [00:00<00:00, 2577.26it/s, accuracy=0.6571, avg_loss=2.6752]\n",
            "Epoch 472/500 - train: 100%|██████████| 233/233 [00:00<00:00, 3758.76it/s, accuracy=0.9914, avg_loss=0.0293]\n",
            "Epoch 472/500 - val: 100%|██████████| 35/35 [00:00<00:00, 3083.01it/s, accuracy=0.7143, avg_loss=2.6864]\n",
            "Epoch 473/500 - train: 100%|██████████| 233/233 [00:00<00:00, 5115.03it/s, accuracy=0.9957, avg_loss=0.0267]\n",
            "Epoch 473/500 - val: 100%|██████████| 35/35 [00:00<00:00, 3326.70it/s, accuracy=0.7143, avg_loss=2.5644]\n",
            "Epoch 474/500 - train: 100%|██████████| 233/233 [00:00<00:00, 4060.31it/s, accuracy=0.9914, avg_loss=0.0253]\n",
            "Epoch 474/500 - val: 100%|██████████| 35/35 [00:00<00:00, 3804.60it/s, accuracy=0.7143, avg_loss=2.5443]\n",
            "Epoch 475/500 - train: 100%|██████████| 233/233 [00:00<00:00, 2802.95it/s, accuracy=0.9957, avg_loss=0.0279]\n",
            "Epoch 475/500 - val: 100%|██████████| 35/35 [00:00<00:00, 1704.25it/s, accuracy=0.6857, avg_loss=2.5589]\n",
            "Epoch 476/500 - train: 100%|██████████| 233/233 [00:00<00:00, 4811.17it/s, accuracy=0.9957, avg_loss=0.0209]\n",
            "Epoch 476/500 - val: 100%|██████████| 35/35 [00:00<00:00, 1820.58it/s, accuracy=0.7429, avg_loss=2.5695]\n",
            "Epoch 477/500 - train: 100%|██████████| 233/233 [00:00<00:00, 2535.59it/s, accuracy=1.0000, avg_loss=0.0185]\n",
            "Epoch 477/500 - val: 100%|██████████| 35/35 [00:00<00:00, 2408.07it/s, accuracy=0.7429, avg_loss=2.5773]\n",
            "Epoch 478/500 - train: 100%|██████████| 233/233 [00:00<00:00, 7104.80it/s, accuracy=0.9957, avg_loss=0.0206]\n",
            "Epoch 478/500 - val: 100%|██████████| 35/35 [00:00<00:00, 3056.05it/s, accuracy=0.6857, avg_loss=2.6024]\n",
            "Epoch 479/500 - train: 100%|██████████| 233/233 [00:00<00:00, 2703.78it/s, accuracy=0.9957, avg_loss=0.0193]\n",
            "Epoch 479/500 - val: 100%|██████████| 35/35 [00:00<00:00, 3796.24it/s, accuracy=0.6857, avg_loss=2.6083]\n",
            "Epoch 480/500 - train: 100%|██████████| 233/233 [00:00<00:00, 3714.69it/s, accuracy=0.9957, avg_loss=0.0185]\n",
            "Epoch 480/500 - val: 100%|██████████| 35/35 [00:00<00:00, 5157.41it/s, accuracy=0.7429, avg_loss=2.6449]\n",
            "Epoch 481/500 - train: 100%|██████████| 233/233 [00:00<00:00, 5169.09it/s, accuracy=1.0000, avg_loss=0.0184]\n",
            "Epoch 481/500 - val: 100%|██████████| 35/35 [00:00<00:00, 3327.61it/s, accuracy=0.6857, avg_loss=2.5853]\n",
            "Epoch 482/500 - train: 100%|██████████| 233/233 [00:00<00:00, 4517.86it/s, accuracy=0.9957, avg_loss=0.0190]\n",
            "Epoch 482/500 - val: 100%|██████████| 35/35 [00:00<00:00, 3132.95it/s, accuracy=0.7143, avg_loss=2.5729]\n",
            "Epoch 483/500 - train: 100%|██████████| 233/233 [00:00<00:00, 4332.86it/s, accuracy=0.9957, avg_loss=0.0177]\n",
            "Epoch 483/500 - val: 100%|██████████| 35/35 [00:00<00:00, 3415.87it/s, accuracy=0.7143, avg_loss=2.6328]\n",
            "Epoch 484/500 - train: 100%|██████████| 233/233 [00:00<00:00, 3526.58it/s, accuracy=0.9957, avg_loss=0.0176]\n",
            "Epoch 484/500 - val: 100%|██████████| 35/35 [00:00<00:00, 3709.52it/s, accuracy=0.7429, avg_loss=2.6615]\n",
            "Epoch 485/500 - train: 100%|██████████| 233/233 [00:00<00:00, 3953.88it/s, accuracy=0.9957, avg_loss=0.0157]\n",
            "Epoch 485/500 - val: 100%|██████████| 35/35 [00:00<00:00, 3016.49it/s, accuracy=0.7429, avg_loss=2.6552]\n",
            "Epoch 486/500 - train: 100%|██████████| 233/233 [00:00<00:00, 5179.80it/s, accuracy=0.9957, avg_loss=0.0178]\n",
            "Epoch 486/500 - val: 100%|██████████| 35/35 [00:00<00:00, 2268.00it/s, accuracy=0.6857, avg_loss=2.7053]\n",
            "Epoch 487/500 - train: 100%|██████████| 233/233 [00:00<00:00, 4363.64it/s, accuracy=0.9957, avg_loss=0.0153]\n",
            "Epoch 487/500 - val: 100%|██████████| 35/35 [00:00<00:00, 3501.09it/s, accuracy=0.7143, avg_loss=2.7374]\n",
            "Epoch 488/500 - train: 100%|██████████| 233/233 [00:00<00:00, 4808.06it/s, accuracy=0.9957, avg_loss=0.0164]\n",
            "Epoch 488/500 - val: 100%|██████████| 35/35 [00:00<00:00, 3585.05it/s, accuracy=0.7143, avg_loss=2.7484]\n",
            "Epoch 489/500 - train: 100%|██████████| 233/233 [00:00<00:00, 5082.89it/s, accuracy=0.9957, avg_loss=0.0174]\n",
            "Epoch 489/500 - val: 100%|██████████| 35/35 [00:00<00:00, 3637.19it/s, accuracy=0.6857, avg_loss=2.6963]\n",
            "Epoch 490/500 - train: 100%|██████████| 233/233 [00:00<00:00, 5189.59it/s, accuracy=0.9957, avg_loss=0.0151]\n",
            "Epoch 490/500 - val: 100%|██████████| 35/35 [00:00<00:00, 3831.01it/s, accuracy=0.7429, avg_loss=2.7089]\n",
            "Epoch 491/500 - train: 100%|██████████| 233/233 [00:00<00:00, 4516.57it/s, accuracy=0.9957, avg_loss=0.0178]\n",
            "Epoch 491/500 - val: 100%|██████████| 35/35 [00:00<00:00, 5654.22it/s, accuracy=0.7143, avg_loss=2.6962]\n",
            "Epoch 492/500 - train: 100%|██████████| 233/233 [00:00<00:00, 6273.17it/s, accuracy=0.9957, avg_loss=0.0175]\n",
            "Epoch 492/500 - val: 100%|██████████| 35/35 [00:00<00:00, 3616.76it/s, accuracy=0.7429, avg_loss=2.6882]\n",
            "Epoch 493/500 - train: 100%|██████████| 233/233 [00:00<00:00, 3741.36it/s, accuracy=1.0000, avg_loss=0.0160]\n",
            "Epoch 493/500 - val: 100%|██████████| 35/35 [00:00<00:00, 3493.34it/s, accuracy=0.7429, avg_loss=2.6863]\n",
            "Epoch 494/500 - train: 100%|██████████| 233/233 [00:00<00:00, 4332.25it/s, accuracy=1.0000, avg_loss=0.0164]\n",
            "Epoch 494/500 - val: 100%|██████████| 35/35 [00:00<00:00, 2609.51it/s, accuracy=0.7143, avg_loss=2.6418]\n",
            "Epoch 495/500 - train: 100%|██████████| 233/233 [00:00<00:00, 1852.43it/s, accuracy=1.0000, avg_loss=0.0145]\n",
            "Epoch 495/500 - val: 100%|██████████| 35/35 [00:00<00:00, 1794.34it/s, accuracy=0.7429, avg_loss=2.7262]\n",
            "Epoch 496/500 - train: 100%|██████████| 233/233 [00:00<00:00, 5826.95it/s, accuracy=0.9957, avg_loss=0.0180]\n",
            "Epoch 496/500 - val: 100%|██████████| 35/35 [00:00<00:00, 2696.46it/s, accuracy=0.7143, avg_loss=2.7428]\n",
            "Epoch 497/500 - train: 100%|██████████| 233/233 [00:00<00:00, 5420.68it/s, accuracy=1.0000, avg_loss=0.0150]\n",
            "Epoch 497/500 - val: 100%|██████████| 35/35 [00:00<00:00, 2895.65it/s, accuracy=0.7429, avg_loss=2.7399]\n",
            "Epoch 498/500 - train: 100%|██████████| 233/233 [00:00<00:00, 3504.94it/s, accuracy=1.0000, avg_loss=0.0171]\n",
            "Epoch 498/500 - val: 100%|██████████| 35/35 [00:00<00:00, 5001.90it/s, accuracy=0.7143, avg_loss=2.7040]\n",
            "Epoch 499/500 - train: 100%|██████████| 233/233 [00:00<00:00, 5391.58it/s, accuracy=0.9957, avg_loss=0.0192]\n",
            "Epoch 499/500 - val: 100%|██████████| 35/35 [00:00<00:00, 3117.51it/s, accuracy=0.6857, avg_loss=2.6956]\n",
            "Epoch 500/500 - train: 100%|██████████| 233/233 [00:00<00:00, 5439.96it/s, accuracy=1.0000, avg_loss=0.0227]\n",
            "Epoch 500/500 - val: 100%|██████████| 35/35 [00:00<00:00, 3568.15it/s, accuracy=0.7143, avg_loss=2.6867]"
          ]
        },
        {
          "output_type": "stream",
          "name": "stdout",
          "text": [
            "\n",
            " --- %s seconds --- 32.674497842788696\n"
          ]
        },
        {
          "output_type": "stream",
          "name": "stderr",
          "text": [
            "\n"
          ]
        }
      ]
    },
    {
      "cell_type": "code",
      "metadata": {
        "colab": {
          "base_uri": "https://localhost:8080/",
          "height": 295
        },
        "id": "WwnzDwX8GZU2",
        "outputId": "ffd8c760-06d3-4608-c94e-477889ebd1a6"
      },
      "source": [
        "#graficamos la precision con respecto al tiempo\n",
        "\n",
        "plt.plot(epoch_acc)\n",
        "plt.plot(val_acc)\n",
        "plt.title('Precision del modelo')\n",
        "plt.ylabel('Precision')\n",
        "plt.xlabel('Epocas')\n",
        "plt.legend(['Entrenamiento', 'Validacion'], loc='lower right')\n",
        "plt.show()"
      ],
      "execution_count": 110,
      "outputs": [
        {
          "output_type": "display_data",
          "data": {
            "image/png": "[encoded data removed]",
            "text/plain": [
              "<Figure size 432x288 with 1 Axes>"
            ]
          },
          "metadata": {
            "needs_background": "light"
          }
        }
      ]
    },
    {
      "cell_type": "markdown",
      "metadata": {
        "id": "kKFAkQPqHler"
      },
      "source": [
        "Se puede observar que existe una gran diferencia entre la precisión en el entrenamiento y en la validación desde el inicio. Además, algo muy singular es que en la época 320 (aproximadamente) la precisión del entrenamiento decae drásticamente. "
      ]
    },
    {
      "cell_type": "code",
      "metadata": {
        "colab": {
          "base_uri": "https://localhost:8080/",
          "height": 295
        },
        "id": "5MLHs1tFH8I8",
        "outputId": "69133316-6d4a-4685-e7f0-cf62cfaa0218"
      },
      "source": [
        "## Veamos la perdida del entrenamiento y la validacion\n",
        "plt.plot(epoch_loss)\n",
        "plt.plot(val_loss)\n",
        "plt.title('Perdida del modelo')\n",
        "plt.ylabel('Perdida')\n",
        "plt.xlabel('Epocas')\n",
        "plt.legend(['Entrenamiento', 'Validacion'], loc='lower right')\n",
        "plt.show()"
      ],
      "execution_count": 111,
      "outputs": [
        {
          "output_type": "display_data",
          "data": {
            "image/png": "[encoded data removed]",
            "text/plain": [
              "<Figure size 432x288 with 1 Axes>"
            ]
          },
          "metadata": {
            "needs_background": "light"
          }
        }
      ]
    },
    {
      "cell_type": "markdown",
      "metadata": {
        "id": "ueUM5imKIVf7"
      },
      "source": [
        "En este caso podemos ver que también las pérdidas están muy alejadas entre sí. La validación muestra una pérdida fuerte desde el inicio, y aunque decae en un punto, vuelve a subir muy rápidamente. Por otro lado, la pérdida del entrenamiento se mantiene pegada al cero, y aunque tiene una subida repentina, vuelve a bajar con el tiempo."
      ]
    },
    {
      "cell_type": "markdown",
      "metadata": {
        "id": "zGm5hQk1JMoH"
      },
      "source": [
        "#Prueba de la red\n",
        "Ya que se ha entrenado la red, es momento de utilizar el conjunto de prueba antes definido, con el fin de ver la precisión y la pérdida media del modelo."
      ]
    },
    {
      "cell_type": "code",
      "metadata": {
        "colab": {
          "base_uri": "https://localhost:8080/"
        },
        "id": "M5IPOONcIsYB",
        "outputId": "e3b96af0-898e-4bc7-bd07-b1e23f310ea5"
      },
      "source": [
        "running_loss = 0.0\n",
        "correct = 0\n",
        "total = 0\n",
        "modelo.eval()\n",
        "for i, data in enumerate(test_dataloader, 0):\n",
        "    X, Y = data   \n",
        "    pred = modelo(X)\n",
        "    loss = criterion(pred, Y)\n",
        "    running_loss += loss.item()\n",
        "    avg_loss = running_loss/(i + 1)\n",
        "    probs = F.softmax(pred, 1)\n",
        "    label = torch.argmax(probs, dim=1)\n",
        "    correct += torch.sum(label == Y).item()\n",
        "    total += Y.shape[0]\n",
        "    accuracy = correct/total\n",
        "        \n",
        "print('Precision: {}, Perdida: {}'.format(accuracy, avg_loss))"
      ],
      "execution_count": 117,
      "outputs": [
        {
          "output_type": "stream",
          "name": "stdout",
          "text": [
            "Precision: 0.6857142857142857, Perdida: 2.194931937722913\n"
          ]
        }
      ]
    },
    {
      "cell_type": "markdown",
      "metadata": {
        "id": "aQ3_GUh7JhZc"
      },
      "source": [
        "Podemos ver una precisión  del 68% y una pérdida de 2.1949. Si bien, la precisión es mayor a 0.5, no es una precisión cercana a 1. Esto puede deberse al tamaño del conjunto de datos es muy pequeño. Al tener tan solo 303 datos, se cuenta con muy pocos datos para entrenar y para probar, por lo cual la red no aprende tan bien como esperaríamos, y tampoco tiene un buen rendimiento.\n",
        "\n",
        "Podría ajustarse un modelo de regresión logística o árboles CART para comparar las precisiones y pérdidas de cada modelo. \n",
        "\n"
      ]
    }
  ]
}