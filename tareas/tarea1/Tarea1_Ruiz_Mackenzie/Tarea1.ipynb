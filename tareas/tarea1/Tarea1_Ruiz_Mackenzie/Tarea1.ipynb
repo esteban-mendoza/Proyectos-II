{
  "nbformat": 4,
  "nbformat_minor": 0,
  "metadata": {
    "colab": {
      "name": "proyecto1(1) (1).ipynb",
      "provenance": [],
      "collapsed_sections": []
    },
    "kernelspec": {
      "name": "python3",
      "display_name": "Python 3"
    },
    "language_info": {
      "name": "python"
    },
    "accelerator": "GPU"
  },
  "cells": [
    {
      "cell_type": "code",
      "metadata": {
        "id": "8eORSl5J2oL6"
      },
      "source": [
        "#Importamos la librerias necesarias\n",
        "import numpy as np\n",
        "import pandas as pd\n",
        "import seaborn as sns\n",
        "import matplotlib.pyplot as plt\n",
        "\n",
        "import torch\n",
        "import torch.nn as nn\n",
        "import torch.optim as optim\n",
        "from torch.utils.data import Dataset, DataLoader\n",
        "from sklearn.preprocessing import StandardScaler\n",
        "from sklearn.model_selection import train_test_split\n",
        "\n",
        "\n",
        "\n",
        "###Buscamos crear un clasificador, que dado una muestra de aire nos diga de que Ciudad viene la muestra"
      ],
      "execution_count": 1,
      "outputs": []
    },
    {
      "cell_type": "code",
      "metadata": {
        "id": "S7x8tWPL5lSE",
        "colab": {
          "resources": {
            "http://localhost:8080/nbextensions/google.colab/files.js": {
              "data": "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",
              "ok": true,
              "headers": [
                [
                  "content-type",
                  "application/javascript"
                ]
              ],
              "status": 200,
              "status_text": ""
            }
          },
          "base_uri": "https://localhost:8080/",
          "height": 70
        },
        "outputId": "f5533b9f-8c1f-425e-ca1e-8bfd89784017"
      },
      "source": [
        "#Importamos la base de datos en el archivo csv que vamos a utilizar (De la ciudad 1)\n",
        "from google.colab import files\n",
        "files.upload()\n",
        "df1 = pd.read_csv(\"PRSA_Data_Aotizhongxin_20130301-20170228.csv\")\n",
        "\n",
        "#df.fillna(0)\n",
        "#Donde hay nan ponemos un 0.0\n",
        "df1=df1.replace(np.nan, 0.0)\n",
        "#print(df1)"
      ],
      "execution_count": 2,
      "outputs": [
        {
          "output_type": "display_data",
          "data": {
            "text/html": [
              "\n",
              "     <input type=\"file\" id=\"files-330d79f5-c393-4d8b-92b9-f0b1d243d2c1\" name=\"files[]\" multiple disabled\n",
              "        style=\"border:none\" />\n",
              "     <output id=\"result-330d79f5-c393-4d8b-92b9-f0b1d243d2c1\">\n",
              "      Upload widget is only available when the cell has been executed in the\n",
              "      current browser session. Please rerun this cell to enable.\n",
              "      </output>\n",
              "      <script src=\"/nbextensions/google.colab/files.js\"></script> "
            ],
            "text/plain": [
              "<IPython.core.display.HTML object>"
            ]
          },
          "metadata": {}
        },
        {
          "output_type": "stream",
          "name": "stdout",
          "text": [
            "Saving PRSA_Data_Aotizhongxin_20130301-20170228.csv to PRSA_Data_Aotizhongxin_20130301-20170228.csv\n"
          ]
        }
      ]
    },
    {
      "cell_type": "code",
      "metadata": {
        "id": "7a0wmEWW63Lw",
        "colab": {
          "base_uri": "https://localhost:8080/"
        },
        "outputId": "80cb8abb-b5c8-46b5-bd65-f4ff66df70ef"
      },
      "source": [
        "print(df1)"
      ],
      "execution_count": 3,
      "outputs": [
        {
          "output_type": "stream",
          "name": "stdout",
          "text": [
            "          No  year  month  day  hour  ...  DEWP  RAIN   wd  WSPM       station\n",
            "0          1  2013      3    1     0  ... -18.8   0.0  NNW   4.4  Aotizhongxin\n",
            "1          2  2013      3    1     1  ... -18.2   0.0    N   4.7  Aotizhongxin\n",
            "2          3  2013      3    1     2  ... -18.2   0.0  NNW   5.6  Aotizhongxin\n",
            "3          4  2013      3    1     3  ... -19.4   0.0   NW   3.1  Aotizhongxin\n",
            "4          5  2013      3    1     4  ... -19.5   0.0    N   2.0  Aotizhongxin\n",
            "...      ...   ...    ...  ...   ...  ...   ...   ...  ...   ...           ...\n",
            "35059  35060  2017      2   28    19  ... -16.2   0.0   NW   2.4  Aotizhongxin\n",
            "35060  35061  2017      2   28    20  ... -15.1   0.0  WNW   0.9  Aotizhongxin\n",
            "35061  35062  2017      2   28    21  ... -13.3   0.0   NW   1.1  Aotizhongxin\n",
            "35062  35063  2017      2   28    22  ... -12.9   0.0  NNW   1.2  Aotizhongxin\n",
            "35063  35064  2017      2   28    23  ... -15.9   0.0  NNE   1.3  Aotizhongxin\n",
            "\n",
            "[35064 rows x 18 columns]\n"
          ]
        }
      ]
    },
    {
      "cell_type": "code",
      "metadata": {
        "id": "EJZZ3C8j66aH",
        "colab": {
          "resources": {
            "http://localhost:8080/nbextensions/google.colab/files.js": {
              "data": "Ly8gQ29weXJpZ2h0IDIwMTcgR29vZ2xlIExMQwovLwovLyBMaWNlbnNlZCB1bmRlciB0aGUgQXBhY2hlIExpY2Vuc2UsIFZlcnNpb24gMi4wICh0aGUgIkxpY2Vuc2UiKTsKLy8geW91IG1heSBub3QgdXNlIHRoaXMgZmlsZSBleGNlcHQgaW4gY29tcGxpYW5jZSB3aXRoIHRoZSBMaWNlbnNlLgovLyBZb3UgbWF5IG9idGFpbiBhIGNvcHkgb2YgdGhlIExpY2Vuc2UgYXQKLy8KLy8gICAgICBodHRwOi8vd3d3LmFwYWNoZS5vcmcvbGljZW5zZXMvTElDRU5TRS0yLjAKLy8KLy8gVW5sZXNzIHJlcXVpcmVkIGJ5IGFwcGxpY2FibGUgbGF3IG9yIGFncmVlZCB0byBpbiB3cml0aW5nLCBzb2Z0d2FyZQovLyBkaXN0cmlidXRlZCB1bmRlciB0aGUgTGljZW5zZSBpcyBkaXN0cmlidXRlZCBvbiBhbiAiQVMgSVMiIEJBU0lTLAovLyBXSVRIT1VUIFdBUlJBTlRJRVMgT1IgQ09ORElUSU9OUyBPRiBBTlkgS0lORCwgZWl0aGVyIGV4cHJlc3Mgb3IgaW1wbGllZC4KLy8gU2VlIHRoZSBMaWNlbnNlIGZvciB0aGUgc3BlY2lmaWMgbGFuZ3VhZ2UgZ292ZXJuaW5nIHBlcm1pc3Npb25zIGFuZAovLyBsaW1pdGF0aW9ucyB1bmRlciB0aGUgTGljZW5zZS4KCi8qKgogKiBAZmlsZW92ZXJ2aWV3IEhlbHBlcnMgZm9yIGdvb2dsZS5jb2xhYiBQeXRob24gbW9kdWxlLgogKi8KKGZ1bmN0aW9uKHNjb3BlKSB7CmZ1bmN0aW9uIHNwYW4odGV4dCwgc3R5bGVBdHRyaWJ1dGVzID0ge30pIHsKICBjb25zdCBlbGVtZW50ID0gZG9jdW1lbnQuY3JlYXRlRWxlbWVudCgnc3BhbicpOwogIGVsZW1lbnQudGV4dENvbnRlbnQgPSB0ZXh0OwogIGZvciAoY29uc3Qga2V5IG9mIE9iamVjdC5rZXlzKHN0eWxlQXR0cmlidXRlcykpIHsKICAgIGVsZW1lbnQuc3R5bGVba2V5XSA9IHN0eWxlQXR0cmlidXRlc1trZXldOwogIH0KICByZXR1cm4gZWxlbWVudDsKfQoKLy8gTWF4IG51bWJlciBvZiBieXRlcyB3aGljaCB3aWxsIGJlIHVwbG9hZGVkIGF0IGEgdGltZS4KY29uc3QgTUFYX1BBWUxPQURfU0laRSA9IDEwMCAqIDEwMjQ7CgpmdW5jdGlvbiBfdXBsb2FkRmlsZXMoaW5wdXRJZCwgb3V0cHV0SWQpIHsKICBjb25zdCBzdGVwcyA9IHVwbG9hZEZpbGVzU3RlcChpbnB1dElkLCBvdXRwdXRJZCk7CiAgY29uc3Qgb3V0cHV0RWxlbWVudCA9IGRvY3VtZW50LmdldEVsZW1lbnRCeUlkKG91dHB1dElkKTsKICAvLyBDYWNoZSBzdGVwcyBvbiB0aGUgb3V0cHV0RWxlbWVudCB0byBtYWtlIGl0IGF2YWlsYWJsZSBmb3IgdGhlIG5leHQgY2FsbAogIC8vIHRvIHVwbG9hZEZpbGVzQ29udGludWUgZnJvbSBQeXRob24uCiAgb3V0cHV0RWxlbWVudC5zdGVwcyA9IHN0ZXBzOwoKICByZXR1cm4gX3VwbG9hZEZpbGVzQ29udGludWUob3V0cHV0SWQpOwp9CgovLyBUaGlzIGlzIHJvdWdobHkgYW4gYXN5bmMgZ2VuZXJhdG9yIChub3Qgc3VwcG9ydGVkIGluIHRoZSBicm93c2VyIHlldCksCi8vIHdoZXJlIHRoZXJlIGFyZSBtdWx0aXBsZSBhc3luY2hyb25vdXMgc3RlcHMgYW5kIHRoZSBQeXRob24gc2lkZSBpcyBnb2luZwovLyB0byBwb2xsIGZvciBjb21wbGV0aW9uIG9mIGVhY2ggc3RlcC4KLy8gVGhpcyB1c2VzIGEgUHJvbWlzZSB0byBibG9jayB0aGUgcHl0aG9uIHNpZGUgb24gY29tcGxldGlvbiBvZiBlYWNoIHN0ZXAsCi8vIHRoZW4gcGFzc2VzIHRoZSByZXN1bHQgb2YgdGhlIHByZXZpb3VzIHN0ZXAgYXMgdGhlIGlucHV0IHRvIHRoZSBuZXh0IHN0ZXAuCmZ1bmN0aW9uIF91cGxvYWRGaWxlc0NvbnRpbnVlKG91dHB1dElkKSB7CiAgY29uc3Qgb3V0cHV0RWxlbWVudCA9IGRvY3VtZW50LmdldEVsZW1lbnRCeUlkKG91dHB1dElkKTsKICBjb25zdCBzdGVwcyA9IG91dHB1dEVsZW1lbnQuc3RlcHM7CgogIGNvbnN0IG5leHQgPSBzdGVwcy5uZXh0KG91dHB1dEVsZW1lbnQubGFzdFByb21pc2VWYWx1ZSk7CiAgcmV0dXJuIFByb21pc2UucmVzb2x2ZShuZXh0LnZhbHVlLnByb21pc2UpLnRoZW4oKHZhbHVlKSA9PiB7CiAgICAvLyBDYWNoZSB0aGUgbGFzdCBwcm9taXNlIHZhbHVlIHRvIG1ha2UgaXQgYXZhaWxhYmxlIHRvIHRoZSBuZXh0CiAgICAvLyBzdGVwIG9mIHRoZSBnZW5lcmF0b3IuCiAgICBvdXRwdXRFbGVtZW50Lmxhc3RQcm9taXNlVmFsdWUgPSB2YWx1ZTsKICAgIHJldHVybiBuZXh0LnZhbHVlLnJlc3BvbnNlOwogIH0pOwp9CgovKioKICogR2VuZXJhdG9yIGZ1bmN0aW9uIHdoaWNoIGlzIGNhbGxlZCBiZXR3ZWVuIGVhY2ggYXN5bmMgc3RlcCBvZiB0aGUgdXBsb2FkCiAqIHByb2Nlc3MuCiAqIEBwYXJhbSB7c3RyaW5nfSBpbnB1dElkIEVsZW1lbnQgSUQgb2YgdGhlIGlucHV0IGZpbGUgcGlja2VyIGVsZW1lbnQuCiAqIEBwYXJhbSB7c3RyaW5nfSBvdXRwdXRJZCBFbGVtZW50IElEIG9mIHRoZSBvdXRwdXQgZGlzcGxheS4KICogQHJldHVybiB7IUl0ZXJhYmxlPCFPYmplY3Q+fSBJdGVyYWJsZSBvZiBuZXh0IHN0ZXBzLgogKi8KZnVuY3Rpb24qIHVwbG9hZEZpbGVzU3RlcChpbnB1dElkLCBvdXRwdXRJZCkgewogIGNvbnN0IGlucHV0RWxlbWVudCA9IGRvY3VtZW50LmdldEVsZW1lbnRCeUlkKGlucHV0SWQpOwogIGlucHV0RWxlbWVudC5kaXNhYmxlZCA9IGZhbHNlOwoKICBjb25zdCBvdXRwdXRFbGVtZW50ID0gZG9jdW1lbnQuZ2V0RWxlbWVudEJ5SWQob3V0cHV0SWQpOwogIG91dHB1dEVsZW1lbnQuaW5uZXJIVE1MID0gJyc7CgogIGNvbnN0IHBpY2tlZFByb21pc2UgPSBuZXcgUHJvbWlzZSgocmVzb2x2ZSkgPT4gewogICAgaW5wdXRFbGVtZW50LmFkZEV2ZW50TGlzdGVuZXIoJ2NoYW5nZScsIChlKSA9PiB7CiAgICAgIHJlc29sdmUoZS50YXJnZXQuZmlsZXMpOwogICAgfSk7CiAgfSk7CgogIGNvbnN0IGNhbmNlbCA9IGRvY3VtZW50LmNyZWF0ZUVsZW1lbnQoJ2J1dHRvbicpOwogIGlucHV0RWxlbWVudC5wYXJlbnRFbGVtZW50LmFwcGVuZENoaWxkKGNhbmNlbCk7CiAgY2FuY2VsLnRleHRDb250ZW50ID0gJ0NhbmNlbCB1cGxvYWQnOwogIGNvbnN0IGNhbmNlbFByb21pc2UgPSBuZXcgUHJvbWlzZSgocmVzb2x2ZSkgPT4gewogICAgY2FuY2VsLm9uY2xpY2sgPSAoKSA9PiB7CiAgICAgIHJlc29sdmUobnVsbCk7CiAgICB9OwogIH0pOwoKICAvLyBXYWl0IGZvciB0aGUgdXNlciB0byBwaWNrIHRoZSBmaWxlcy4KICBjb25zdCBmaWxlcyA9IHlpZWxkIHsKICAgIHByb21pc2U6IFByb21pc2UucmFjZShbcGlja2VkUHJvbWlzZSwgY2FuY2VsUHJvbWlzZV0pLAogICAgcmVzcG9uc2U6IHsKICAgICAgYWN0aW9uOiAnc3RhcnRpbmcnLAogICAgfQogIH07CgogIGNhbmNlbC5yZW1vdmUoKTsKCiAgLy8gRGlzYWJsZSB0aGUgaW5wdXQgZWxlbWVudCBzaW5jZSBmdXJ0aGVyIHBpY2tzIGFyZSBub3QgYWxsb3dlZC4KICBpbnB1dEVsZW1lbnQuZGlzYWJsZWQgPSB0cnVlOwoKICBpZiAoIWZpbGVzKSB7CiAgICByZXR1cm4gewogICAgICByZXNwb25zZTogewogICAgICAgIGFjdGlvbjogJ2NvbXBsZXRlJywKICAgICAgfQogICAgfTsKICB9CgogIGZvciAoY29uc3QgZmlsZSBvZiBmaWxlcykgewogICAgY29uc3QgbGkgPSBkb2N1bWVudC5jcmVhdGVFbGVtZW50KCdsaScpOwogICAgbGkuYXBwZW5kKHNwYW4oZmlsZS5uYW1lLCB7Zm9udFdlaWdodDogJ2JvbGQnfSkpOwogICAgbGkuYXBwZW5kKHNwYW4oCiAgICAgICAgYCgke2ZpbGUudHlwZSB8fCAnbi9hJ30pIC0gJHtmaWxlLnNpemV9IGJ5dGVzLCBgICsKICAgICAgICBgbGFzdCBtb2RpZmllZDogJHsKICAgICAgICAgICAgZmlsZS5sYXN0TW9kaWZpZWREYXRlID8gZmlsZS5sYXN0TW9kaWZpZWREYXRlLnRvTG9jYWxlRGF0ZVN0cmluZygpIDoKICAgICAgICAgICAgICAgICAgICAgICAgICAgICAgICAgICAgJ24vYSd9IC0gYCkpOwogICAgY29uc3QgcGVyY2VudCA9IHNwYW4oJzAlIGRvbmUnKTsKICAgIGxpLmFwcGVuZENoaWxkKHBlcmNlbnQpOwoKICAgIG91dHB1dEVsZW1lbnQuYXBwZW5kQ2hpbGQobGkpOwoKICAgIGNvbnN0IGZpbGVEYXRhUHJvbWlzZSA9IG5ldyBQcm9taXNlKChyZXNvbHZlKSA9PiB7CiAgICAgIGNvbnN0IHJlYWRlciA9IG5ldyBGaWxlUmVhZGVyKCk7CiAgICAgIHJlYWRlci5vbmxvYWQgPSAoZSkgPT4gewogICAgICAgIHJlc29sdmUoZS50YXJnZXQucmVzdWx0KTsKICAgICAgfTsKICAgICAgcmVhZGVyLnJlYWRBc0FycmF5QnVmZmVyKGZpbGUpOwogICAgfSk7CiAgICAvLyBXYWl0IGZvciB0aGUgZGF0YSB0byBiZSByZWFkeS4KICAgIGxldCBmaWxlRGF0YSA9IHlpZWxkIHsKICAgICAgcHJvbWlzZTogZmlsZURhdGFQcm9taXNlLAogICAgICByZXNwb25zZTogewogICAgICAgIGFjdGlvbjogJ2NvbnRpbnVlJywKICAgICAgfQogICAgfTsKCiAgICAvLyBVc2UgYSBjaHVua2VkIHNlbmRpbmcgdG8gYXZvaWQgbWVzc2FnZSBzaXplIGxpbWl0cy4gU2VlIGIvNjIxMTU2NjAuCiAgICBsZXQgcG9zaXRpb24gPSAwOwogICAgZG8gewogICAgICBjb25zdCBsZW5ndGggPSBNYXRoLm1pbihmaWxlRGF0YS5ieXRlTGVuZ3RoIC0gcG9zaXRpb24sIE1BWF9QQVlMT0FEX1NJWkUpOwogICAgICBjb25zdCBjaHVuayA9IG5ldyBVaW50OEFycmF5KGZpbGVEYXRhLCBwb3NpdGlvbiwgbGVuZ3RoKTsKICAgICAgcG9zaXRpb24gKz0gbGVuZ3RoOwoKICAgICAgY29uc3QgYmFzZTY0ID0gYnRvYShTdHJpbmcuZnJvbUNoYXJDb2RlLmFwcGx5KG51bGwsIGNodW5rKSk7CiAgICAgIHlpZWxkIHsKICAgICAgICByZXNwb25zZTogewogICAgICAgICAgYWN0aW9uOiAnYXBwZW5kJywKICAgICAgICAgIGZpbGU6IGZpbGUubmFtZSwKICAgICAgICAgIGRhdGE6IGJhc2U2NCwKICAgICAgICB9LAogICAgICB9OwoKICAgICAgbGV0IHBlcmNlbnREb25lID0gZmlsZURhdGEuYnl0ZUxlbmd0aCA9PT0gMCA/CiAgICAgICAgICAxMDAgOgogICAgICAgICAgTWF0aC5yb3VuZCgocG9zaXRpb24gLyBmaWxlRGF0YS5ieXRlTGVuZ3RoKSAqIDEwMCk7CiAgICAgIHBlcmNlbnQudGV4dENvbnRlbnQgPSBgJHtwZXJjZW50RG9uZX0lIGRvbmVgOwoKICAgIH0gd2hpbGUgKHBvc2l0aW9uIDwgZmlsZURhdGEuYnl0ZUxlbmd0aCk7CiAgfQoKICAvLyBBbGwgZG9uZS4KICB5aWVsZCB7CiAgICByZXNwb25zZTogewogICAgICBhY3Rpb246ICdjb21wbGV0ZScsCiAgICB9CiAgfTsKfQoKc2NvcGUuZ29vZ2xlID0gc2NvcGUuZ29vZ2xlIHx8IHt9OwpzY29wZS5nb29nbGUuY29sYWIgPSBzY29wZS5nb29nbGUuY29sYWIgfHwge307CnNjb3BlLmdvb2dsZS5jb2xhYi5fZmlsZXMgPSB7CiAgX3VwbG9hZEZpbGVzLAogIF91cGxvYWRGaWxlc0NvbnRpbnVlLAp9Owp9KShzZWxmKTsK",
              "ok": true,
              "headers": [
                [
                  "content-type",
                  "application/javascript"
                ]
              ],
              "status": 200,
              "status_text": ""
            }
          },
          "base_uri": "https://localhost:8080/",
          "height": 70
        },
        "outputId": "30dc5299-3e9d-48e2-a486-f9e24e87da5f"
      },
      "source": [
        "#Importamos la base de datos en el archivo csv que vamos a utilizar (De la ciudad 2)\n",
        "\n",
        "files.upload()\n",
        "df2 = pd.read_csv(\"PRSA_Data_Changping_20130301-20170228.csv\")\n",
        "\n",
        "#df.fillna(0)\n",
        "#Donde hay nan ponemos un 0.0\n",
        "df2=df2.replace(np.nan, 0.0)\n",
        "#print(df2)"
      ],
      "execution_count": 4,
      "outputs": [
        {
          "output_type": "display_data",
          "data": {
            "text/html": [
              "\n",
              "     <input type=\"file\" id=\"files-82f126b8-bc6d-4071-9717-9ab18adab967\" name=\"files[]\" multiple disabled\n",
              "        style=\"border:none\" />\n",
              "     <output id=\"result-82f126b8-bc6d-4071-9717-9ab18adab967\">\n",
              "      Upload widget is only available when the cell has been executed in the\n",
              "      current browser session. Please rerun this cell to enable.\n",
              "      </output>\n",
              "      <script src=\"/nbextensions/google.colab/files.js\"></script> "
            ],
            "text/plain": [
              "<IPython.core.display.HTML object>"
            ]
          },
          "metadata": {}
        },
        {
          "output_type": "stream",
          "name": "stdout",
          "text": [
            "Saving PRSA_Data_Changping_20130301-20170228.csv to PRSA_Data_Changping_20130301-20170228.csv\n"
          ]
        }
      ]
    },
    {
      "cell_type": "code",
      "metadata": {
        "colab": {
          "base_uri": "https://localhost:8080/"
        },
        "id": "4BAcq6Sj7WxY",
        "outputId": "7bc35494-92ca-43f9-f292-5c5216886b65"
      },
      "source": [
        "print(df2)"
      ],
      "execution_count": 5,
      "outputs": [
        {
          "output_type": "stream",
          "name": "stdout",
          "text": [
            "          No  year  month  day  hour  ...  DEWP  RAIN   wd  WSPM    station\n",
            "0          1  2013      3    1     0  ... -19.7   0.0    E   0.5  Changping\n",
            "1          2  2013      3    1     1  ... -19.0   0.0  ENE   0.7  Changping\n",
            "2          3  2013      3    1     2  ... -19.9   0.0  ENE   0.2  Changping\n",
            "3          4  2013      3    1     3  ... -19.1   0.0  NNE   1.0  Changping\n",
            "4          5  2013      3    1     4  ... -19.4   0.0    N   2.1  Changping\n",
            "...      ...   ...    ...  ...   ...  ...   ...   ...  ...   ...        ...\n",
            "35059  35060  2017      2   28    19  ... -13.3   0.0  NNE   1.3  Changping\n",
            "35060  35061  2017      2   28    20  ... -14.0   0.0    N   2.1  Changping\n",
            "35061  35062  2017      2   28    21  ... -13.0   0.0    N   1.5  Changping\n",
            "35062  35063  2017      2   28    22  ... -12.6   0.0   NW   1.4  Changping\n",
            "35063  35064  2017      2   28    23  ... -12.2   0.0    N   1.9  Changping\n",
            "\n",
            "[35064 rows x 18 columns]\n"
          ]
        }
      ]
    },
    {
      "cell_type": "code",
      "metadata": {
        "id": "HipYGD8Y7n2q"
      },
      "source": [
        "frames = [df1, df2]\n",
        "\n",
        "###Juntamos ambos dataFrames para tener las dos ciudades en uno\n",
        "dataFrameFinal = pd.concat(frames)\n",
        "\n",
        "\n",
        "\n",
        "\n"
      ],
      "execution_count": 6,
      "outputs": []
    },
    {
      "cell_type": "code",
      "metadata": {
        "colab": {
          "base_uri": "https://localhost:8080/"
        },
        "id": "iEE5JQa98Mom",
        "outputId": "c102680d-9ebd-40ac-8292-0b6df59026cb"
      },
      "source": [
        "print(dataFrameFinal)\n",
        "###Mezclamos de manera aleatoria las filas\n",
        "dataFrameFinal.sample(frac=1)\n",
        "\n",
        "del dataFrameFinal[\"wd\"]\n",
        "del dataFrameFinal[\"No\"]\n",
        "for col in dataFrameFinal.columns:\n",
        "    print(col)"
      ],
      "execution_count": 7,
      "outputs": [
        {
          "output_type": "stream",
          "name": "stdout",
          "text": [
            "          No  year  month  day  hour  ...  DEWP  RAIN   wd  WSPM       station\n",
            "0          1  2013      3    1     0  ... -18.8   0.0  NNW   4.4  Aotizhongxin\n",
            "1          2  2013      3    1     1  ... -18.2   0.0    N   4.7  Aotizhongxin\n",
            "2          3  2013      3    1     2  ... -18.2   0.0  NNW   5.6  Aotizhongxin\n",
            "3          4  2013      3    1     3  ... -19.4   0.0   NW   3.1  Aotizhongxin\n",
            "4          5  2013      3    1     4  ... -19.5   0.0    N   2.0  Aotizhongxin\n",
            "...      ...   ...    ...  ...   ...  ...   ...   ...  ...   ...           ...\n",
            "35059  35060  2017      2   28    19  ... -13.3   0.0  NNE   1.3     Changping\n",
            "35060  35061  2017      2   28    20  ... -14.0   0.0    N   2.1     Changping\n",
            "35061  35062  2017      2   28    21  ... -13.0   0.0    N   1.5     Changping\n",
            "35062  35063  2017      2   28    22  ... -12.6   0.0   NW   1.4     Changping\n",
            "35063  35064  2017      2   28    23  ... -12.2   0.0    N   1.9     Changping\n",
            "\n",
            "[70128 rows x 18 columns]\n",
            "year\n",
            "month\n",
            "day\n",
            "hour\n",
            "PM2.5\n",
            "PM10\n",
            "SO2\n",
            "NO2\n",
            "CO\n",
            "O3\n",
            "TEMP\n",
            "PRES\n",
            "DEWP\n",
            "RAIN\n",
            "WSPM\n",
            "station\n"
          ]
        }
      ]
    },
    {
      "cell_type": "code",
      "metadata": {
        "id": "L0Gg16em97ql"
      },
      "source": [
        "###Manejaremos a la ciudad Aotizhongxin como 0.0 y a Changping como 1.0\n",
        "\n",
        "dataFrameFinal1 = dataFrameFinal.replace(\"Aotizhongxin\", 0.0)\n",
        "data = dataFrameFinal1.replace(\"Changping\", 1.0)\n",
        "data = data.sample(frac = 1)\n"
      ],
      "execution_count": 8,
      "outputs": []
    },
    {
      "cell_type": "code",
      "metadata": {
        "colab": {
          "base_uri": "https://localhost:8080/"
        },
        "id": "K4QCROT2KrRg",
        "outputId": "a16ef056-f78e-4ed5-8970-1317c3f1ba17"
      },
      "source": [
        "print(data)"
      ],
      "execution_count": 9,
      "outputs": [
        {
          "output_type": "stream",
          "name": "stdout",
          "text": [
            "       year  month  day  hour  PM2.5  ...    PRES  DEWP  RAIN  WSPM  station\n",
            "27435  2016      4   17     3   11.0  ...  1007.2  -9.0   0.0   3.7      0.0\n",
            "11484  2014      6   22    12   41.0  ...   999.4  16.0   0.0   1.7      1.0\n",
            "14957  2014     11   14     5   41.0  ...  1017.0  -4.6   0.0   0.7      0.0\n",
            "10199  2014      4   29    23    0.0  ...  1005.2   9.2   0.0   2.4      0.0\n",
            "7295   2013     12   29    23   94.0  ...  1011.5 -17.1   0.0   2.9      0.0\n",
            "...     ...    ...  ...   ...    ...  ...     ...   ...   ...   ...      ...\n",
            "1336   2013      4   25    16   10.0  ...  1001.8 -10.8   0.0   3.2      1.0\n",
            "29468  2016      7   10    20   74.0  ...   996.7  19.2   0.0   2.3      0.0\n",
            "27446  2016      4   17    14    7.0  ...  1001.2  -7.7   0.0   5.3      1.0\n",
            "29927  2016      7   29    23  102.0  ...  1002.8  26.1   0.0   2.0      0.0\n",
            "13645  2014      9   20    13  100.0  ...   999.7  14.8   0.0   1.8      1.0\n",
            "\n",
            "[70128 rows x 16 columns]\n"
          ]
        }
      ]
    },
    {
      "cell_type": "code",
      "metadata": {
        "id": "v5XxFSq0KfUK"
      },
      "source": [
        "\n"
      ],
      "execution_count": 9,
      "outputs": []
    },
    {
      "cell_type": "code",
      "metadata": {
        "id": "4EpkuL3A69X4",
        "colab": {
          "base_uri": "https://localhost:8080/"
        },
        "outputId": "c4b57d77-1b47-434f-dc14-533b4cf146c9"
      },
      "source": [
        "###Asignamos los features a la variable X (todos menos las ciudades o no)\n",
        "X= data.iloc[:,0:-1]\n",
        "print(\"X es lo siguiente\")\n",
        "print(X)\n",
        "###Asignamos las ciudades a la variable Y\n",
        "print(\"Y es lo siguinte\")\n",
        "Y= data.iloc[:,-1]\n",
        "print(Y)\n"
      ],
      "execution_count": 10,
      "outputs": [
        {
          "output_type": "stream",
          "name": "stdout",
          "text": [
            "X es lo siguiente\n",
            "       year  month  day  hour  PM2.5  ...  TEMP    PRES  DEWP  RAIN  WSPM\n",
            "27435  2016      4   17     3   11.0  ...  13.6  1007.2  -9.0   0.0   3.7\n",
            "11484  2014      6   22    12   41.0  ...  26.7   999.4  16.0   0.0   1.7\n",
            "14957  2014     11   14     5   41.0  ...  -1.6  1017.0  -4.6   0.0   0.7\n",
            "10199  2014      4   29    23    0.0  ...  19.9  1005.2   9.2   0.0   2.4\n",
            "7295   2013     12   29    23   94.0  ...   3.2  1011.5 -17.1   0.0   2.9\n",
            "...     ...    ...  ...   ...    ...  ...   ...     ...   ...   ...   ...\n",
            "1336   2013      4   25    16   10.0  ...  22.3  1001.8 -10.8   0.0   3.2\n",
            "29468  2016      7   10    20   74.0  ...  33.5   996.7  19.2   0.0   2.3\n",
            "27446  2016      4   17    14    7.0  ...  18.7  1001.2  -7.7   0.0   5.3\n",
            "29927  2016      7   29    23  102.0  ...  29.7  1002.8  26.1   0.0   2.0\n",
            "13645  2014      9   20    13  100.0  ...  26.7   999.7  14.8   0.0   1.8\n",
            "\n",
            "[70128 rows x 15 columns]\n",
            "Y es lo siguinte\n",
            "27435    0.0\n",
            "11484    1.0\n",
            "14957    0.0\n",
            "10199    0.0\n",
            "7295     0.0\n",
            "        ... \n",
            "1336     1.0\n",
            "29468    0.0\n",
            "27446    1.0\n",
            "29927    0.0\n",
            "13645    1.0\n",
            "Name: station, Length: 70128, dtype: float64\n"
          ]
        }
      ]
    },
    {
      "cell_type": "code",
      "metadata": {
        "id": "aunyUyh97BNI",
        "colab": {
          "base_uri": "https://localhost:8080/"
        },
        "outputId": "8814e424-f5de-457c-c874-e7568ea8c847"
      },
      "source": [
        "###Dividimos nuestros X y Y en \n",
        "\n",
        "X_train, X_test, y_train, y_test = train_test_split(X,Y,test_size=0.33,random_state=69)\n",
        "print(y_train)"
      ],
      "execution_count": 11,
      "outputs": [
        {
          "output_type": "stream",
          "name": "stdout",
          "text": [
            "22312    1.0\n",
            "28895    0.0\n",
            "10010    1.0\n",
            "14748    0.0\n",
            "22955    1.0\n",
            "        ... \n",
            "22279    1.0\n",
            "27747    1.0\n",
            "17184    1.0\n",
            "13994    1.0\n",
            "19060    0.0\n",
            "Name: station, Length: 46985, dtype: float64\n"
          ]
        }
      ]
    },
    {
      "cell_type": "code",
      "metadata": {
        "id": "M_jG2hD17ED-"
      },
      "source": [
        "###Definimos el standardScaler para estandarizar los features para train y test\n",
        "scaler = StandardScaler()\n",
        "X_train = scaler.fit_transform(X_train)\n",
        "X_test = scaler.transform(X_test)"
      ],
      "execution_count": 12,
      "outputs": []
    },
    {
      "cell_type": "code",
      "metadata": {
        "id": "oLVoE5eX7Gg5"
      },
      "source": [
        "###Definimos epocas, bathsize y learning rate:\n",
        "###Las epocas nos indican cuantas veces se ha completado el algoritmo de entrenamiento\n",
        "EPOCHS = 10\n",
        "###De cuantos en cuantos datos iremos tomando de nuestra data set\n",
        "BATCH_SIZE = 70\n",
        "###El leraning rate nos dice que tan rapido se va a adaptar nuestro modelo al problema\n",
        "LEARNING_RATE = 0.001"
      ],
      "execution_count": 13,
      "outputs": []
    },
    {
      "cell_type": "code",
      "metadata": {
        "id": "mcgx5QLU7Jhu"
      },
      "source": [
        "##Train data\n",
        "##Clase train data\n",
        "class trainData(Dataset):\n",
        "    \n",
        "    ###Al contructor e pasamos la X_data y y_data\n",
        "    def __init__(self, X_data, y_data):\n",
        "        self.X_data = X_data\n",
        "        self.y_data = y_data\n",
        "        \n",
        "    ###Para sacar un item de la data como una tupla\n",
        "    def __getitem__(self, index):\n",
        "        return self.X_data[index], self.y_data[index]\n",
        "    ###Longitud de la x data\n",
        "    def __len__ (self):\n",
        "        return len(self.X_data)\n",
        "\n",
        "\n",
        "#Inicializamos el objeto train_data, le pasamos el X_train y y_train como objetos tipo tensor, esto para\n",
        "#poder trbajar con la redes nuronales usando pytorch\n",
        "###AQui es donde a veces se da el error\n",
        "train_data = trainData(torch.FloatTensor(X_train), \n",
        "                       torch.FloatTensor(y_train))\n",
        "## test data\n",
        "###Lo mismo que la train data pero cuando lo construyamos la vamos a pasar la X_test data\n",
        "class testData(Dataset):\n",
        "    \n",
        "    def __init__(self, X_data):\n",
        "        self.X_data = X_data\n",
        "        \n",
        "    def __getitem__(self, index):\n",
        "        return self.X_data[index]\n",
        "        \n",
        "    def __len__ (self):\n",
        "        return len(self.X_data)\n",
        "    \n",
        "\n",
        "###Inicializamos el testData y le pasamos la X_test data como tensor\n",
        "test_data = testData(torch.FloatTensor(X_test))"
      ],
      "execution_count": 14,
      "outputs": []
    },
    {
      "cell_type": "code",
      "metadata": {
        "id": "0--hbvfE7Pri"
      },
      "source": [
        "###Creamos los objetos train_loader y test_loader con los objetos Dataloader que trae pytorch, en el train data \n",
        "#le pasamos el batch size previamente defindido y le decimos que mezcle los objetos\n",
        "train_loader = DataLoader(dataset=train_data, batch_size=BATCH_SIZE, shuffle=True)\n",
        "test_loader = DataLoader(dataset=test_data, batch_size=1)"
      ],
      "execution_count": 15,
      "outputs": []
    },
    {
      "cell_type": "code",
      "metadata": {
        "id": "ZJamp9ME7SVi"
      },
      "source": [
        "\n",
        "###Usamos binary clasification por que el problema solo tiene dos soluciones\n",
        "#Viene de la ciudad 0, o no\n",
        "class binaryClassification(nn.Module):\n",
        "    def __init__(self):\n",
        "        super(binaryClassification, self).__init__()       \n",
        "         # Como el numero de features es 15 y queremos 100 neuronas en la primera capa ponemos 15,100\n",
        "        self.layer_1 = nn.Linear(15, 100) \n",
        "        ###A la segunda capa entran 100 y salen 100\n",
        "        self.layer_2 = nn.Linear(100, 100)\n",
        "        ###En la capa final solo necesitamos una salida (si es la ciudad1  o no), por eso el 1\n",
        "        self.layer_out = nn.Linear(100, 1) \n",
        "        \n",
        "        ###Que la funcion de activacion sea la funcion relu\n",
        "        self.relu = nn.ReLU()\n",
        "\n",
        "        ###Dropout para que durante el entrenamiento, este pone a cero aleatoriamente a algunos de los elementos del \n",
        "        ###tensor de entrada con probabilidad p usando muestras de una distribución de Bernoulli.\n",
        "        self.dropout = nn.Dropout(p=0.1)\n",
        "        ### BatchNorm1d aplica la normalización por lotes sobre una entrada 2D o 3D\n",
        "        self.batchnorm1 = nn.BatchNorm1d(100)\n",
        "        self.batchnorm2 = nn.BatchNorm1d(100)\n",
        "        \n",
        "\n",
        "    ###Aplicamos la funcion de activacion relu y batchnorm a la primera y segunda capa, luego dropout y final,\n",
        "    ###esta funcion se ve asi por la cantidad de capas que tiene nuestra red\n",
        "    def forward(self, inputs):\n",
        "        x = self.relu(self.layer_1(inputs))\n",
        "        x = self.batchnorm1(x)\n",
        "        x = self.relu(self.layer_2(x))\n",
        "        x = self.batchnorm2(x)\n",
        "        x = self.dropout(x)\n",
        "        x = self.layer_out(x)\n",
        "        \n",
        "        return x"
      ],
      "execution_count": 16,
      "outputs": []
    },
    {
      "cell_type": "code",
      "metadata": {
        "id": "VMngCr1v7W4A",
        "colab": {
          "base_uri": "https://localhost:8080/"
        },
        "outputId": "04852595-b014-476e-eb90-bf528b53c006"
      },
      "source": [
        "###Verificamos que todo lo este mandando a la gpu para que el proceso sea mas rapido\n",
        "device = torch.device(\"cuda:0\" if torch.cuda.is_available() else \"cpu\")\n",
        "print(device)"
      ],
      "execution_count": 17,
      "outputs": [
        {
          "output_type": "stream",
          "name": "stdout",
          "text": [
            "cpu\n"
          ]
        }
      ]
    },
    {
      "cell_type": "code",
      "metadata": {
        "id": "Y_FaPHZU7a6S",
        "colab": {
          "base_uri": "https://localhost:8080/"
        },
        "outputId": "1f2bcd58-09dc-4cbd-934e-cfc17aaa4b53"
      },
      "source": [
        "###Construimos el modelo\n",
        "model = binaryClassification()\n",
        "###Buscamos mandar los datos a la gpu para que las multiplicaciones y sumas se realizen mas rapido\n",
        "model.to(device)\n",
        "print(model)\n",
        "###De criterio vamos a usar una BCEWithLogitsLoss, esta pérdida combina una capa sigmoidea y BCELoss en una sola clase.\n",
        "criterion = nn.BCEWithLogitsLoss()\n",
        "###Usamos el optimzador Adam\n",
        "optimizer = optim.Adam(model.parameters(), lr=LEARNING_RATE)"
      ],
      "execution_count": 18,
      "outputs": [
        {
          "output_type": "stream",
          "name": "stdout",
          "text": [
            "binaryClassification(\n",
            "  (layer_1): Linear(in_features=15, out_features=100, bias=True)\n",
            "  (layer_2): Linear(in_features=100, out_features=100, bias=True)\n",
            "  (layer_out): Linear(in_features=100, out_features=1, bias=True)\n",
            "  (relu): ReLU()\n",
            "  (dropout): Dropout(p=0.1, inplace=False)\n",
            "  (batchnorm1): BatchNorm1d(100, eps=1e-05, momentum=0.1, affine=True, track_running_stats=True)\n",
            "  (batchnorm2): BatchNorm1d(100, eps=1e-05, momentum=0.1, affine=True, track_running_stats=True)\n",
            ")\n"
          ]
        }
      ]
    },
    {
      "cell_type": "code",
      "metadata": {
        "id": "LEN7Bw_b7dh5"
      },
      "source": [
        "\n",
        "###Funcion binary_acc para ver como va la accuracy de nuestro modelo en cada epoca\n",
        "def binary_acc(y_pred, y_test):\n",
        "    y_pred_tag = torch.round(torch.sigmoid(y_pred))\n",
        "\n",
        "    correct_results_sum = (y_pred_tag == y_test).sum().float()\n",
        "    acc = correct_results_sum/y_test.shape[0]\n",
        "    acc = torch.round(acc * 100)\n",
        "    \n",
        "    return acc"
      ],
      "execution_count": 19,
      "outputs": []
    },
    {
      "cell_type": "code",
      "metadata": {
        "id": "R30WSuWO7hbt",
        "colab": {
          "base_uri": "https://localhost:8080/"
        },
        "outputId": "732b4f88-b889-46ef-e951-9f28e6dd1e24"
      },
      "source": [
        "###Le decimos al modelo que se va a poner en modoentrenamiento\n",
        "model.train()\n",
        "###Hacemos un for la cantidad de epocas especificadas\n",
        "###Las variables epoch_loss e epoch_acc se iran actualizando en cada iteracion, lo que buscamos es que\n",
        "#la variable de perdida baje en cada iteracion y la de accuracy suba en cada iteracion\n",
        "for e in range(1, EPOCHS+1):\n",
        "    epoch_loss = 0\n",
        "    epoch_acc = 0\n",
        "    for X_batch, y_batch in train_loader:\n",
        "        X_batch, y_batch = X_batch.to(device), y_batch.to(device)# Se envian los datos a entrenar a la GPU que proporciona Colab de google\n",
        "        optimizer.zero_grad()#Cada vez que una variable realiza el backpropagation, el gradiente se acumulará en lugar de ser reemplazado.\n",
        "        #Dado que la función backward () acumula gradientes y no deseamos mezclar gradientes entre minibatches, \n",
        "        #debe ponerse a cero al comienzo de un nuevo minibatch. \n",
        "        #Es una mejor práctica el usar la función zero_grad() en el optimizador \n",
        "        \n",
        "        y_pred = model(X_batch)#se hace una prueba(test) con un nuevo minibatch \n",
        "        \n",
        "        loss = criterion(y_pred, y_batch.unsqueeze(1))#se obtiene la funcion de perdida en funcion de los resultados previos \n",
        "        acc = binary_acc(y_pred, y_batch.unsqueeze(1))#se obtiene la precision de este minibatch \n",
        "        \n",
        "        loss.backward()#Se realiza el algoritmo de gradiente descendiente para encontrar los parametros o pesos optimos\n",
        "        optimizer.step()#Se actualizan dichos pesos en el modelo\n",
        "        #Se acumulan tanto la funcion de perdida como la precisión de que tiene el modelo para verificar el desempeño del entrenamiento\n",
        "        epoch_loss += loss.item()\n",
        "        epoch_acc += acc.item()\n",
        "        \n",
        "\n",
        "    print(f'Epoch {e+0:03}: | Loss: {epoch_loss/len(train_loader):.5f} | Acc: {epoch_acc/len(train_loader):.3f}')"
      ],
      "execution_count": 20,
      "outputs": [
        {
          "output_type": "stream",
          "name": "stdout",
          "text": [
            "Epoch 001: | Loss: 0.52998 | Acc: 73.039\n",
            "Epoch 002: | Loss: 0.45139 | Acc: 78.482\n",
            "Epoch 003: | Loss: 0.42774 | Acc: 79.658\n",
            "Epoch 004: | Loss: 0.40748 | Acc: 80.938\n",
            "Epoch 005: | Loss: 0.39435 | Acc: 81.731\n",
            "Epoch 006: | Loss: 0.37623 | Acc: 82.826\n",
            "Epoch 007: | Loss: 0.36525 | Acc: 83.415\n",
            "Epoch 008: | Loss: 0.35600 | Acc: 83.844\n",
            "Epoch 009: | Loss: 0.34537 | Acc: 84.451\n",
            "Epoch 010: | Loss: 0.34041 | Acc: 84.966\n",
            "Epoch 011: | Loss: 0.33137 | Acc: 85.244\n",
            "Epoch 012: | Loss: 0.32886 | Acc: 85.493\n",
            "Epoch 013: | Loss: 0.31983 | Acc: 85.987\n",
            "Epoch 014: | Loss: 0.31365 | Acc: 86.247\n",
            "Epoch 015: | Loss: 0.31076 | Acc: 86.448\n",
            "Epoch 016: | Loss: 0.30607 | Acc: 86.527\n",
            "Epoch 017: | Loss: 0.30004 | Acc: 86.912\n",
            "Epoch 018: | Loss: 0.29635 | Acc: 87.189\n",
            "Epoch 019: | Loss: 0.29685 | Acc: 87.177\n",
            "Epoch 020: | Loss: 0.29401 | Acc: 87.277\n",
            "Epoch 021: | Loss: 0.28643 | Acc: 87.589\n",
            "Epoch 022: | Loss: 0.28541 | Acc: 87.653\n",
            "Epoch 023: | Loss: 0.28171 | Acc: 88.144\n",
            "Epoch 024: | Loss: 0.27740 | Acc: 88.253\n",
            "Epoch 025: | Loss: 0.27448 | Acc: 88.353\n",
            "Epoch 026: | Loss: 0.27459 | Acc: 88.301\n",
            "Epoch 027: | Loss: 0.27176 | Acc: 88.342\n",
            "Epoch 028: | Loss: 0.26964 | Acc: 88.490\n",
            "Epoch 029: | Loss: 0.26571 | Acc: 88.653\n",
            "Epoch 030: | Loss: 0.26328 | Acc: 88.757\n",
            "Epoch 031: | Loss: 0.26252 | Acc: 88.821\n",
            "Epoch 032: | Loss: 0.26152 | Acc: 88.853\n",
            "Epoch 033: | Loss: 0.25540 | Acc: 88.975\n",
            "Epoch 034: | Loss: 0.25796 | Acc: 88.993\n",
            "Epoch 035: | Loss: 0.25103 | Acc: 89.347\n",
            "Epoch 036: | Loss: 0.25542 | Acc: 89.256\n",
            "Epoch 037: | Loss: 0.24987 | Acc: 89.266\n",
            "Epoch 038: | Loss: 0.24962 | Acc: 89.414\n",
            "Epoch 039: | Loss: 0.24831 | Acc: 89.496\n",
            "Epoch 040: | Loss: 0.24679 | Acc: 89.582\n",
            "Epoch 041: | Loss: 0.24341 | Acc: 89.591\n",
            "Epoch 042: | Loss: 0.24586 | Acc: 89.746\n",
            "Epoch 043: | Loss: 0.24061 | Acc: 89.963\n",
            "Epoch 044: | Loss: 0.24087 | Acc: 89.740\n",
            "Epoch 045: | Loss: 0.23894 | Acc: 89.729\n",
            "Epoch 046: | Loss: 0.23645 | Acc: 90.092\n",
            "Epoch 047: | Loss: 0.23709 | Acc: 89.915\n",
            "Epoch 048: | Loss: 0.23315 | Acc: 90.095\n",
            "Epoch 049: | Loss: 0.23303 | Acc: 90.048\n",
            "Epoch 050: | Loss: 0.23219 | Acc: 90.161\n",
            "Epoch 051: | Loss: 0.23165 | Acc: 90.131\n",
            "Epoch 052: | Loss: 0.22794 | Acc: 90.466\n",
            "Epoch 053: | Loss: 0.23023 | Acc: 90.307\n",
            "Epoch 054: | Loss: 0.22424 | Acc: 90.676\n",
            "Epoch 055: | Loss: 0.22562 | Acc: 90.500\n",
            "Epoch 056: | Loss: 0.22598 | Acc: 90.475\n",
            "Epoch 057: | Loss: 0.22031 | Acc: 90.787\n",
            "Epoch 058: | Loss: 0.22085 | Acc: 90.777\n",
            "Epoch 059: | Loss: 0.21741 | Acc: 90.926\n",
            "Epoch 060: | Loss: 0.21788 | Acc: 90.820\n",
            "Epoch 061: | Loss: 0.21726 | Acc: 90.914\n",
            "Epoch 062: | Loss: 0.22169 | Acc: 90.729\n",
            "Epoch 063: | Loss: 0.21786 | Acc: 90.821\n",
            "Epoch 064: | Loss: 0.21458 | Acc: 91.170\n",
            "Epoch 065: | Loss: 0.21454 | Acc: 90.924\n",
            "Epoch 066: | Loss: 0.21675 | Acc: 90.981\n",
            "Epoch 067: | Loss: 0.21639 | Acc: 90.899\n",
            "Epoch 068: | Loss: 0.21097 | Acc: 91.088\n",
            "Epoch 069: | Loss: 0.21329 | Acc: 91.141\n",
            "Epoch 070: | Loss: 0.21238 | Acc: 91.235\n",
            "Epoch 071: | Loss: 0.21382 | Acc: 91.158\n",
            "Epoch 072: | Loss: 0.21480 | Acc: 91.196\n",
            "Epoch 073: | Loss: 0.20946 | Acc: 91.308\n",
            "Epoch 074: | Loss: 0.20854 | Acc: 91.402\n",
            "Epoch 075: | Loss: 0.20683 | Acc: 91.363\n",
            "Epoch 076: | Loss: 0.20455 | Acc: 91.537\n",
            "Epoch 077: | Loss: 0.20638 | Acc: 91.451\n",
            "Epoch 078: | Loss: 0.20566 | Acc: 91.445\n",
            "Epoch 079: | Loss: 0.20475 | Acc: 91.454\n",
            "Epoch 080: | Loss: 0.20228 | Acc: 91.685\n",
            "Epoch 081: | Loss: 0.20473 | Acc: 91.522\n",
            "Epoch 082: | Loss: 0.20268 | Acc: 91.646\n",
            "Epoch 083: | Loss: 0.19949 | Acc: 91.848\n",
            "Epoch 084: | Loss: 0.20292 | Acc: 91.653\n",
            "Epoch 085: | Loss: 0.20305 | Acc: 91.537\n",
            "Epoch 086: | Loss: 0.20328 | Acc: 91.554\n",
            "Epoch 087: | Loss: 0.20260 | Acc: 91.685\n",
            "Epoch 088: | Loss: 0.20083 | Acc: 91.830\n",
            "Epoch 089: | Loss: 0.20155 | Acc: 91.607\n",
            "Epoch 090: | Loss: 0.19647 | Acc: 91.836\n",
            "Epoch 091: | Loss: 0.20085 | Acc: 91.815\n",
            "Epoch 092: | Loss: 0.19744 | Acc: 91.844\n",
            "Epoch 093: | Loss: 0.19569 | Acc: 91.914\n",
            "Epoch 094: | Loss: 0.19699 | Acc: 91.921\n",
            "Epoch 095: | Loss: 0.19646 | Acc: 91.951\n",
            "Epoch 096: | Loss: 0.19538 | Acc: 91.961\n",
            "Epoch 097: | Loss: 0.19651 | Acc: 91.851\n",
            "Epoch 098: | Loss: 0.19386 | Acc: 91.830\n",
            "Epoch 099: | Loss: 0.19534 | Acc: 91.887\n",
            "Epoch 100: | Loss: 0.19424 | Acc: 91.871\n"
          ]
        }
      ]
    }
  ]
}