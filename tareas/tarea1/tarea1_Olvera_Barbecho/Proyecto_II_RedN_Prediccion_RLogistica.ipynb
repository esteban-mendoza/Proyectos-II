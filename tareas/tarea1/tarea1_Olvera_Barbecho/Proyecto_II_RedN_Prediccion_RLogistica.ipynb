{
  "nbformat": 4,
  "nbformat_minor": 0,
  "metadata": {
    "colab": {
      "name": "Proyecto_II_RedN_Prediccion_RLogistica.ipynb",
      "provenance": []
    },
    "kernelspec": {
      "name": "python3",
      "display_name": "Python 3"
    },
    "language_info": {
      "name": "python"
    }
  },
  "cells": [
    {
      "cell_type": "markdown",
      "metadata": {
        "id": "3T7HpinPVF0U"
      },
      "source": [
        "# **Tarea 1: Red neural**\n",
        "Materia: Proyecto II\n",
        "\n",
        "Profesora: María Fernanda Sánchez Puig\n",
        "\n",
        "Ayudante: Sergio Miguel Fernández Martínez"
      ]
    },
    {
      "cell_type": "code",
      "metadata": {
        "id": "xVTJesEAVERe"
      },
      "source": [
        "import torch\n",
        "import matplotlib\n",
        "import pandas as pd\n",
        "import numpy as np\n",
        "from torch import nn\n",
        "from torch import optim\n",
        "from progressbar import ProgressBar\n",
        "from matplotlib import pyplot as plt\n",
        "from torch.utils.data import Dataset, TensorDataset, DataLoader\n",
        "from sklearn.model_selection import train_test_split\n",
        "import sklearn.preprocessing \n",
        "\n",
        "matplotlib.style.use('ggplot')"
      ],
      "execution_count": null,
      "outputs": []
    },
    {
      "cell_type": "code",
      "metadata": {
        "colab": {
          "base_uri": "https://localhost:8080/",
          "height": 292
        },
        "id": "UHkr41kEzj4c",
        "outputId": "866175dc-caff-440a-9671-9a19e43fad2d"
      },
      "source": [
        "url = 'https://raw.githubusercontent.com/HendrixOB/ProyectoII/main/ConjuntoDeDatos/default_of_credit_card_clients.csv'\n",
        "data = pd.read_csv(url)\n",
        "data.head()"
      ],
      "execution_count": null,
      "outputs": [
        {
          "output_type": "execute_result",
          "data": {
            "text/html": [
              "<div>\n",
              "<style scoped>\n",
              "    .dataframe tbody tr th:only-of-type {\n",
              "        vertical-align: middle;\n",
              "    }\n",
              "\n",
              "    .dataframe tbody tr th {\n",
              "        vertical-align: top;\n",
              "    }\n",
              "\n",
              "    .dataframe thead th {\n",
              "        text-align: right;\n",
              "    }\n",
              "</style>\n",
              "<table border=\"1\" class=\"dataframe\">\n",
              "  <thead>\n",
              "    <tr style=\"text-align: right;\">\n",
              "      <th></th>\n",
              "      <th>Unnamed: 0</th>\n",
              "      <th>X1</th>\n",
              "      <th>X2</th>\n",
              "      <th>X3</th>\n",
              "      <th>X4</th>\n",
              "      <th>X5</th>\n",
              "      <th>X6</th>\n",
              "      <th>X7</th>\n",
              "      <th>X8</th>\n",
              "      <th>X9</th>\n",
              "      <th>X10</th>\n",
              "      <th>X11</th>\n",
              "      <th>X12</th>\n",
              "      <th>X13</th>\n",
              "      <th>X14</th>\n",
              "      <th>X15</th>\n",
              "      <th>X16</th>\n",
              "      <th>X17</th>\n",
              "      <th>X18</th>\n",
              "      <th>X19</th>\n",
              "      <th>X20</th>\n",
              "      <th>X21</th>\n",
              "      <th>X22</th>\n",
              "      <th>X23</th>\n",
              "      <th>Y</th>\n",
              "    </tr>\n",
              "  </thead>\n",
              "  <tbody>\n",
              "    <tr>\n",
              "      <th>0</th>\n",
              "      <td>ID</td>\n",
              "      <td>LIMIT_BAL</td>\n",
              "      <td>SEX</td>\n",
              "      <td>EDUCATION</td>\n",
              "      <td>MARRIAGE</td>\n",
              "      <td>AGE</td>\n",
              "      <td>PAY_0</td>\n",
              "      <td>PAY_2</td>\n",
              "      <td>PAY_3</td>\n",
              "      <td>PAY_4</td>\n",
              "      <td>PAY_5</td>\n",
              "      <td>PAY_6</td>\n",
              "      <td>BILL_AMT1</td>\n",
              "      <td>BILL_AMT2</td>\n",
              "      <td>BILL_AMT3</td>\n",
              "      <td>BILL_AMT4</td>\n",
              "      <td>BILL_AMT5</td>\n",
              "      <td>BILL_AMT6</td>\n",
              "      <td>PAY_AMT1</td>\n",
              "      <td>PAY_AMT2</td>\n",
              "      <td>PAY_AMT3</td>\n",
              "      <td>PAY_AMT4</td>\n",
              "      <td>PAY_AMT5</td>\n",
              "      <td>PAY_AMT6</td>\n",
              "      <td>default payment next month</td>\n",
              "    </tr>\n",
              "    <tr>\n",
              "      <th>1</th>\n",
              "      <td>1</td>\n",
              "      <td>20000</td>\n",
              "      <td>2</td>\n",
              "      <td>2</td>\n",
              "      <td>1</td>\n",
              "      <td>24</td>\n",
              "      <td>2</td>\n",
              "      <td>2</td>\n",
              "      <td>-1</td>\n",
              "      <td>-1</td>\n",
              "      <td>-2</td>\n",
              "      <td>-2</td>\n",
              "      <td>3913</td>\n",
              "      <td>3102</td>\n",
              "      <td>689</td>\n",
              "      <td>0</td>\n",
              "      <td>0</td>\n",
              "      <td>0</td>\n",
              "      <td>0</td>\n",
              "      <td>689</td>\n",
              "      <td>0</td>\n",
              "      <td>0</td>\n",
              "      <td>0</td>\n",
              "      <td>0</td>\n",
              "      <td>1</td>\n",
              "    </tr>\n",
              "    <tr>\n",
              "      <th>2</th>\n",
              "      <td>2</td>\n",
              "      <td>120000</td>\n",
              "      <td>2</td>\n",
              "      <td>2</td>\n",
              "      <td>2</td>\n",
              "      <td>26</td>\n",
              "      <td>-1</td>\n",
              "      <td>2</td>\n",
              "      <td>0</td>\n",
              "      <td>0</td>\n",
              "      <td>0</td>\n",
              "      <td>2</td>\n",
              "      <td>2682</td>\n",
              "      <td>1725</td>\n",
              "      <td>2682</td>\n",
              "      <td>3272</td>\n",
              "      <td>3455</td>\n",
              "      <td>3261</td>\n",
              "      <td>0</td>\n",
              "      <td>1000</td>\n",
              "      <td>1000</td>\n",
              "      <td>1000</td>\n",
              "      <td>0</td>\n",
              "      <td>2000</td>\n",
              "      <td>1</td>\n",
              "    </tr>\n",
              "    <tr>\n",
              "      <th>3</th>\n",
              "      <td>3</td>\n",
              "      <td>90000</td>\n",
              "      <td>2</td>\n",
              "      <td>2</td>\n",
              "      <td>2</td>\n",
              "      <td>34</td>\n",
              "      <td>0</td>\n",
              "      <td>0</td>\n",
              "      <td>0</td>\n",
              "      <td>0</td>\n",
              "      <td>0</td>\n",
              "      <td>0</td>\n",
              "      <td>29239</td>\n",
              "      <td>14027</td>\n",
              "      <td>13559</td>\n",
              "      <td>14331</td>\n",
              "      <td>14948</td>\n",
              "      <td>15549</td>\n",
              "      <td>1518</td>\n",
              "      <td>1500</td>\n",
              "      <td>1000</td>\n",
              "      <td>1000</td>\n",
              "      <td>1000</td>\n",
              "      <td>5000</td>\n",
              "      <td>0</td>\n",
              "    </tr>\n",
              "    <tr>\n",
              "      <th>4</th>\n",
              "      <td>4</td>\n",
              "      <td>50000</td>\n",
              "      <td>2</td>\n",
              "      <td>2</td>\n",
              "      <td>1</td>\n",
              "      <td>37</td>\n",
              "      <td>0</td>\n",
              "      <td>0</td>\n",
              "      <td>0</td>\n",
              "      <td>0</td>\n",
              "      <td>0</td>\n",
              "      <td>0</td>\n",
              "      <td>46990</td>\n",
              "      <td>48233</td>\n",
              "      <td>49291</td>\n",
              "      <td>28314</td>\n",
              "      <td>28959</td>\n",
              "      <td>29547</td>\n",
              "      <td>2000</td>\n",
              "      <td>2019</td>\n",
              "      <td>1200</td>\n",
              "      <td>1100</td>\n",
              "      <td>1069</td>\n",
              "      <td>1000</td>\n",
              "      <td>0</td>\n",
              "    </tr>\n",
              "  </tbody>\n",
              "</table>\n",
              "</div>"
            ],
            "text/plain": [
              "  Unnamed: 0         X1   X2  ...       X22       X23                           Y\n",
              "0         ID  LIMIT_BAL  SEX  ...  PAY_AMT5  PAY_AMT6  default payment next month\n",
              "1          1      20000    2  ...         0         0                           1\n",
              "2          2     120000    2  ...         0      2000                           1\n",
              "3          3      90000    2  ...      1000      5000                           0\n",
              "4          4      50000    2  ...      1069      1000                           0\n",
              "\n",
              "[5 rows x 25 columns]"
            ]
          },
          "metadata": {},
          "execution_count": 2
        }
      ]
    },
    {
      "cell_type": "markdown",
      "metadata": {
        "id": "2ehZxltzNwTJ"
      },
      "source": [
        "# **Analisis del conjuto**"
      ]
    },
    {
      "cell_type": "markdown",
      "metadata": {
        "id": "jZAnbRtQN0Ki"
      },
      "source": [
        "Tenemos 25 varibles en el conjunto, las cuales son:\n",
        "* X0: Id del cliente\n",
        "* X1: Monto del crédito otorgado en dólar\n",
        "* X2: El género\n",
        "  * Masculino = 1\n",
        "  * Femenino = 2\n",
        "* X3: Nivel de educación.\n",
        "  * Posgrado = 1\n",
        "  * Universidad = 2\n",
        "  * Bachillerato = 3\n",
        "  * Otro = 4\n",
        "* X4 :  Estado civil\n",
        "  * Casado = 1\n",
        "  * Soltero = 2\n",
        "  * Otro = 3\n",
        "* X5: Edad\n",
        "* X6: El estado de pago en septiembre de 2005\t\n",
        "* X7: El estado de pago en agosto de 2005\t\n",
        "* X8: El estado de pago en julio de 2005\n",
        "* X9:\tEl estado de pago en junio de 2005\n",
        "* X10: El estado de pago en mayo de 2005\n",
        "* X11: El estado de pago en abril de 2005\n",
        "  * De X6 -X11: \n",
        "    * Pago debidamente= -1 R\n",
        "    * Retraso en el pago durante un mes = 1\n",
        "    * Retraso en el pago durante dos meses = 2\n",
        "    * … \n",
        "    * Retraso en el pago durante ocho meses = 8\n",
        "    * Retraso en el pago durante nueve meses o más = 9\n",
        "* X12: Monto del estado de cuenta en septiembre de 2005\n",
        "* X13: Monto del estado de cuenta en agosto de 2005\n",
        "* X14: Monto del estado de cuenta en julio de 2005\n",
        "* X15: Monto del estado de cuenta en junio de 2005\n",
        "* X16: Monto del estado de cuenta en mayo de 2005\n",
        "* X17: Monto del estado de cuenta en abril de 2005\n",
        "* X18: Monto pagado en septiembre de 2005\n",
        "* X19: Monto pagado en agosto de 2005\n",
        "* X20: Monto pagado en julio de 2005\n",
        "* X21: Monto pagado en junio de 2005\n",
        "* X22: Monto pagado en mayo de 2005\n",
        "* X23: Monto pagado en abril de 2005\n",
        "* Y: pago predeterminado (1 = sí, 0 = no)\n",
        "\n"
      ]
    },
    {
      "cell_type": "markdown",
      "metadata": {
        "id": "NSVDBOaBKCwb"
      },
      "source": [
        "**Descrripción de la base:** Esta investigación tuvo como objetivo el caso de los pagos predeterminados de los clientes en Taiwán y compara la precisión predictiva de la probabilidad de incumplimiento entre seis métodos de extracción de datos."
      ]
    },
    {
      "cell_type": "code",
      "metadata": {
        "colab": {
          "base_uri": "https://localhost:8080/",
          "height": 824
        },
        "id": "Yfu6kwkK3LPl",
        "outputId": "76b55a45-0511-4e43-f3ba-e834afbf7b32"
      },
      "source": [
        "#Vemos si hay contenido nulo\n",
        "pd.DataFrame(data.isnull().sum(), columns=[\"Contenido nulo\"])"
      ],
      "execution_count": null,
      "outputs": [
        {
          "output_type": "execute_result",
          "data": {
            "text/html": [
              "<div>\n",
              "<style scoped>\n",
              "    .dataframe tbody tr th:only-of-type {\n",
              "        vertical-align: middle;\n",
              "    }\n",
              "\n",
              "    .dataframe tbody tr th {\n",
              "        vertical-align: top;\n",
              "    }\n",
              "\n",
              "    .dataframe thead th {\n",
              "        text-align: right;\n",
              "    }\n",
              "</style>\n",
              "<table border=\"1\" class=\"dataframe\">\n",
              "  <thead>\n",
              "    <tr style=\"text-align: right;\">\n",
              "      <th></th>\n",
              "      <th>Contenido nulo</th>\n",
              "    </tr>\n",
              "  </thead>\n",
              "  <tbody>\n",
              "    <tr>\n",
              "      <th>Unnamed: 0</th>\n",
              "      <td>0</td>\n",
              "    </tr>\n",
              "    <tr>\n",
              "      <th>X1</th>\n",
              "      <td>0</td>\n",
              "    </tr>\n",
              "    <tr>\n",
              "      <th>X2</th>\n",
              "      <td>0</td>\n",
              "    </tr>\n",
              "    <tr>\n",
              "      <th>X3</th>\n",
              "      <td>0</td>\n",
              "    </tr>\n",
              "    <tr>\n",
              "      <th>X4</th>\n",
              "      <td>0</td>\n",
              "    </tr>\n",
              "    <tr>\n",
              "      <th>X5</th>\n",
              "      <td>0</td>\n",
              "    </tr>\n",
              "    <tr>\n",
              "      <th>X6</th>\n",
              "      <td>0</td>\n",
              "    </tr>\n",
              "    <tr>\n",
              "      <th>X7</th>\n",
              "      <td>0</td>\n",
              "    </tr>\n",
              "    <tr>\n",
              "      <th>X8</th>\n",
              "      <td>0</td>\n",
              "    </tr>\n",
              "    <tr>\n",
              "      <th>X9</th>\n",
              "      <td>0</td>\n",
              "    </tr>\n",
              "    <tr>\n",
              "      <th>X10</th>\n",
              "      <td>0</td>\n",
              "    </tr>\n",
              "    <tr>\n",
              "      <th>X11</th>\n",
              "      <td>0</td>\n",
              "    </tr>\n",
              "    <tr>\n",
              "      <th>X12</th>\n",
              "      <td>0</td>\n",
              "    </tr>\n",
              "    <tr>\n",
              "      <th>X13</th>\n",
              "      <td>0</td>\n",
              "    </tr>\n",
              "    <tr>\n",
              "      <th>X14</th>\n",
              "      <td>0</td>\n",
              "    </tr>\n",
              "    <tr>\n",
              "      <th>X15</th>\n",
              "      <td>0</td>\n",
              "    </tr>\n",
              "    <tr>\n",
              "      <th>X16</th>\n",
              "      <td>0</td>\n",
              "    </tr>\n",
              "    <tr>\n",
              "      <th>X17</th>\n",
              "      <td>0</td>\n",
              "    </tr>\n",
              "    <tr>\n",
              "      <th>X18</th>\n",
              "      <td>0</td>\n",
              "    </tr>\n",
              "    <tr>\n",
              "      <th>X19</th>\n",
              "      <td>0</td>\n",
              "    </tr>\n",
              "    <tr>\n",
              "      <th>X20</th>\n",
              "      <td>0</td>\n",
              "    </tr>\n",
              "    <tr>\n",
              "      <th>X21</th>\n",
              "      <td>0</td>\n",
              "    </tr>\n",
              "    <tr>\n",
              "      <th>X22</th>\n",
              "      <td>0</td>\n",
              "    </tr>\n",
              "    <tr>\n",
              "      <th>X23</th>\n",
              "      <td>0</td>\n",
              "    </tr>\n",
              "    <tr>\n",
              "      <th>Y</th>\n",
              "      <td>0</td>\n",
              "    </tr>\n",
              "  </tbody>\n",
              "</table>\n",
              "</div>"
            ],
            "text/plain": [
              "            Contenido nulo\n",
              "Unnamed: 0               0\n",
              "X1                       0\n",
              "X2                       0\n",
              "X3                       0\n",
              "X4                       0\n",
              "X5                       0\n",
              "X6                       0\n",
              "X7                       0\n",
              "X8                       0\n",
              "X9                       0\n",
              "X10                      0\n",
              "X11                      0\n",
              "X12                      0\n",
              "X13                      0\n",
              "X14                      0\n",
              "X15                      0\n",
              "X16                      0\n",
              "X17                      0\n",
              "X18                      0\n",
              "X19                      0\n",
              "X20                      0\n",
              "X21                      0\n",
              "X22                      0\n",
              "X23                      0\n",
              "Y                        0"
            ]
          },
          "metadata": {},
          "execution_count": 3
        }
      ]
    },
    {
      "cell_type": "code",
      "metadata": {
        "id": "RwQ-JNIn3RUc",
        "colab": {
          "base_uri": "https://localhost:8080/"
        },
        "outputId": "deb5908f-3a4b-4564-abfb-5bf63f5f88b7"
      },
      "source": [
        "#Comprobamos el tipo de nuestros datos\n",
        "data.info()"
      ],
      "execution_count": null,
      "outputs": [
        {
          "output_type": "stream",
          "name": "stdout",
          "text": [
            "<class 'pandas.core.frame.DataFrame'>\n",
            "RangeIndex: 30001 entries, 0 to 30000\n",
            "Data columns (total 25 columns):\n",
            " #   Column      Non-Null Count  Dtype \n",
            "---  ------      --------------  ----- \n",
            " 0   Unnamed: 0  30001 non-null  object\n",
            " 1   X1          30001 non-null  object\n",
            " 2   X2          30001 non-null  object\n",
            " 3   X3          30001 non-null  object\n",
            " 4   X4          30001 non-null  object\n",
            " 5   X5          30001 non-null  object\n",
            " 6   X6          30001 non-null  object\n",
            " 7   X7          30001 non-null  object\n",
            " 8   X8          30001 non-null  object\n",
            " 9   X9          30001 non-null  object\n",
            " 10  X10         30001 non-null  object\n",
            " 11  X11         30001 non-null  object\n",
            " 12  X12         30001 non-null  object\n",
            " 13  X13         30001 non-null  object\n",
            " 14  X14         30001 non-null  object\n",
            " 15  X15         30001 non-null  object\n",
            " 16  X16         30001 non-null  object\n",
            " 17  X17         30001 non-null  object\n",
            " 18  X18         30001 non-null  object\n",
            " 19  X19         30001 non-null  object\n",
            " 20  X20         30001 non-null  object\n",
            " 21  X21         30001 non-null  object\n",
            " 22  X22         30001 non-null  object\n",
            " 23  X23         30001 non-null  object\n",
            " 24  Y           30001 non-null  object\n",
            "dtypes: object(25)\n",
            "memory usage: 5.7+ MB\n"
          ]
        }
      ]
    },
    {
      "cell_type": "code",
      "metadata": {
        "id": "9EPeyCGLTb9b"
      },
      "source": [
        "#Eliminamos la primera fila\n",
        "data = data.iloc[1:,:]"
      ],
      "execution_count": null,
      "outputs": []
    },
    {
      "cell_type": "markdown",
      "metadata": {
        "id": "JrF9amSMYBSF"
      },
      "source": [
        "# **Ajustes del conjunto de datos**"
      ]
    },
    {
      "cell_type": "markdown",
      "metadata": {
        "id": "OpwqD--4YF1g"
      },
      "source": [
        "En este caso nosotros modificaremos algunas cosas parar tener un mejor entendimiento de nuestro trabajo, primero renombraremos una columna, para así reconocerla.\n",
        "\n",
        "Después cambiamos los tipos de nuestras variables segun lo que describimos"
      ]
    },
    {
      "cell_type": "code",
      "metadata": {
        "id": "SGMyJv_SUbht"
      },
      "source": [
        "data = data.rename(columns={'Unnamed: 0': 'ID'})"
      ],
      "execution_count": null,
      "outputs": []
    },
    {
      "cell_type": "code",
      "metadata": {
        "id": "KPBP50SoT2xu"
      },
      "source": [
        "data['ID'] = data['ID'].astype(str).astype(int)\n",
        "data['X1'] = data['X1'].astype(str).astype(float)\n",
        "for value in data.columns[2:12]:\n",
        "  data[value] = data[value].astype(str).astype(int)\n",
        "for value in data.columns[12:23]:\n",
        "  data[value] = data[value].astype(str).astype(float)\n",
        "data['Y'] = data['Y'].astype(str).astype(int)"
      ],
      "execution_count": null,
      "outputs": []
    },
    {
      "cell_type": "code",
      "metadata": {
        "colab": {
          "base_uri": "https://localhost:8080/"
        },
        "id": "2JNvb9dZT2j9",
        "outputId": "fbb6b812-7378-42f7-cca8-280b2157e614"
      },
      "source": [
        "#Comprobamos el tipo de nuestros datos\n",
        "data.info()"
      ],
      "execution_count": null,
      "outputs": [
        {
          "output_type": "stream",
          "name": "stdout",
          "text": [
            "<class 'pandas.core.frame.DataFrame'>\n",
            "RangeIndex: 30000 entries, 1 to 30000\n",
            "Data columns (total 25 columns):\n",
            " #   Column  Non-Null Count  Dtype  \n",
            "---  ------  --------------  -----  \n",
            " 0   ID      30000 non-null  int64  \n",
            " 1   X1      30000 non-null  float64\n",
            " 2   X2      30000 non-null  int64  \n",
            " 3   X3      30000 non-null  int64  \n",
            " 4   X4      30000 non-null  int64  \n",
            " 5   X5      30000 non-null  int64  \n",
            " 6   X6      30000 non-null  int64  \n",
            " 7   X7      30000 non-null  int64  \n",
            " 8   X8      30000 non-null  int64  \n",
            " 9   X9      30000 non-null  int64  \n",
            " 10  X10     30000 non-null  int64  \n",
            " 11  X11     30000 non-null  int64  \n",
            " 12  X12     30000 non-null  float64\n",
            " 13  X13     30000 non-null  float64\n",
            " 14  X14     30000 non-null  float64\n",
            " 15  X15     30000 non-null  float64\n",
            " 16  X16     30000 non-null  float64\n",
            " 17  X17     30000 non-null  float64\n",
            " 18  X18     30000 non-null  float64\n",
            " 19  X19     30000 non-null  float64\n",
            " 20  X20     30000 non-null  float64\n",
            " 21  X21     30000 non-null  float64\n",
            " 22  X22     30000 non-null  float64\n",
            " 23  X23     30000 non-null  object \n",
            " 24  Y       30000 non-null  int64  \n",
            "dtypes: float64(12), int64(12), object(1)\n",
            "memory usage: 5.7+ MB\n"
          ]
        }
      ]
    },
    {
      "cell_type": "markdown",
      "metadata": {
        "id": "-8O5jB_WYfse"
      },
      "source": [
        "# **Visualización**"
      ]
    },
    {
      "cell_type": "code",
      "metadata": {
        "colab": {
          "base_uri": "https://localhost:8080/",
          "height": 741
        },
        "id": "qVjas9lM89XZ",
        "outputId": "34c76e7c-1bb9-4c40-9903-edab1a40e5b6"
      },
      "source": [
        "%matplotlib inline\n",
        "data.hist(figsize=[34,20], bins=10, density = True)\n",
        "plt.show()"
      ],
      "execution_count": null,
      "outputs": [
        {
          "output_type": "display_data",
          "data": {
            "image/png": "[encoded data removed]",
            "text/plain": [
              "<Figure size 2448x1440 with 25 Axes>"
            ]
          },
          "metadata": {
            "needs_background": "light"
          }
        }
      ]
    },
    {
      "cell_type": "markdown",
      "metadata": {
        "id": "J19Lp_e3YlDs"
      },
      "source": [
        "Hacemos que nuestro datos de entrenamiento sean del 40%"
      ]
    },
    {
      "cell_type": "code",
      "metadata": {
        "id": "k57GAZHeAzjR"
      },
      "source": [
        "X = data.drop('Y', axis=1).values\n",
        "y = data['Y'].values\n",
        "X_train, X_test, y_train, y_test = train_test_split(X, y, test_size=0.4, random_state=42)\n",
        "scaler=sklearn.preprocessing.StandardScaler()\n",
        "X_train=scaler.fit_transform(X_train)\n",
        "X_test=scaler.fit_transform(X_test)"
      ],
      "execution_count": null,
      "outputs": []
    },
    {
      "cell_type": "code",
      "metadata": {
        "id": "UeX5GieqQ5gE"
      },
      "source": [
        "X_train=torch.from_numpy(X_train.astype(np.float32))\n",
        "X_test=torch.from_numpy(X_test.astype(np.float32))\n",
        "y_train=torch.from_numpy(y_train.astype(np.float32))\n",
        "y_test=torch.from_numpy(y_test.astype(np.float32))"
      ],
      "execution_count": null,
      "outputs": []
    },
    {
      "cell_type": "markdown",
      "metadata": {
        "id": "i62zK8QMaOdT"
      },
      "source": [
        "Necesitamos a $y$ como un tensor de columna, por lo que usamos view"
      ]
    },
    {
      "cell_type": "code",
      "metadata": {
        "id": "mpMridhzRFd1"
      },
      "source": [
        "y_train=y_train.view(y_train.shape[0],1)\n",
        "y_test=y_test.view(y_test.shape[0],1)"
      ],
      "execution_count": null,
      "outputs": []
    },
    {
      "cell_type": "code",
      "metadata": {
        "id": "JAi2q8mWZ8Vq"
      },
      "source": [
        "train_set = TensorDataset(X_train, y_train)\n",
        "test_dataset = TensorDataset(X_test, y_test)"
      ],
      "execution_count": null,
      "outputs": []
    },
    {
      "cell_type": "markdown",
      "metadata": {
        "id": "xUomXc_ya2wW"
      },
      "source": [
        "Dividimos nuestro *test_data* en dos para tener datos de validación"
      ]
    },
    {
      "cell_type": "code",
      "metadata": {
        "id": "h6BIPxooaOnz"
      },
      "source": [
        "msk = np.random.rand(len(test_dataset)) < 0.6\n",
        "val_set = torch.utils.data.Subset(test_dataset, np.where(msk)[0])\n",
        "test_set = torch.utils.data.Subset(test_dataset, np.where(~msk)[0])"
      ],
      "execution_count": null,
      "outputs": []
    },
    {
      "cell_type": "markdown",
      "metadata": {
        "id": "355d5B4KbSJn"
      },
      "source": [
        "# **DataLoader**\n",
        "\n",
        "Marcamos nuestros batches"
      ]
    },
    {
      "cell_type": "code",
      "metadata": {
        "id": "vAlUv5pwaRWO"
      },
      "source": [
        "n_train = len(train_set)\n",
        "n_val = len(val_set)\n",
        "n_test = len(test_set)\n",
        "batch_size = 1\n",
        "train_dataloader = DataLoader(train_set, batch_size=batch_size, shuffle=True)\n",
        "val_dataloader = DataLoader(val_set, batch_size=batch_size, shuffle=True)\n",
        "test_dataloader = DataLoader(test_set, batch_size=n_test)"
      ],
      "execution_count": null,
      "outputs": []
    },
    {
      "cell_type": "markdown",
      "metadata": {
        "id": "1xuLc8zobgYw"
      },
      "source": [
        "# **Regresión Logistica**"
      ]
    },
    {
      "cell_type": "markdown",
      "metadata": {
        "id": "Iz4XnNjUbnU_"
      },
      "source": [
        "Nuestra variable respuesta es de forma categórica, por lo que haremos una regresión logistica"
      ]
    },
    {
      "cell_type": "code",
      "metadata": {
        "id": "fgTMyfRZRGm1"
      },
      "source": [
        "class Logistic_Reg_model(torch.nn.Module):\n",
        " def __init__(self,no_input_features):\n",
        "   super(Logistic_Reg_model,self).__init__()\n",
        "   self.layer1=torch.nn.Linear(no_input_features,20)\n",
        "   self.layer2=torch.nn.Linear(20,1)\n",
        " def forward(self,x):\n",
        "   y_predicted=self.layer1(x)\n",
        "   y_predicted=torch.sigmoid(self.layer2(y_predicted))\n",
        "   return y_predicted"
      ],
      "execution_count": null,
      "outputs": []
    },
    {
      "cell_type": "code",
      "metadata": {
        "id": "xLjA8bp4RNN6"
      },
      "source": [
        "n_samples, n_features = X.shape\n",
        "model=Logistic_Reg_model(n_features)"
      ],
      "execution_count": null,
      "outputs": []
    },
    {
      "cell_type": "markdown",
      "metadata": {
        "id": "OhL0IuoEcKK1"
      },
      "source": [
        "# **Función objetivo y optimizador.**"
      ]
    },
    {
      "cell_type": "markdown",
      "metadata": {
        "id": "uEQ0FoVUcNyw"
      },
      "source": [
        "En este caso usaremos una función de perdida Binary Cross-Entropy (BCE)\n",
        "$$H_{p}(q) = - \\frac{1}{N} \\sum_{i=1}^{N} y_{i} \\cdot log(p(y_{i}))+(1-y_{i}) \\cdot log(1-p(y_{i}))$$\n",
        "\n",
        "donde $y$ es la variable respuesta (para 1 y 0 ) y $p(y)$ es la probabilidad predicha de que $y=1$ para los $N$ datos.\n",
        "Al leer esta fórmula para  $y = 1$, agrega $log (p (y))$ a la pérdida, es decir, la probabilidad logarítmica de que sea la etiqueta de 1 . Por el contrario, agrega $log (1-p (y))$ , es decir, la probabilidad logarítmica de que sea la etiqueta de 0 $( y = 0 )$."
      ]
    },
    {
      "cell_type": "code",
      "metadata": {
        "id": "m4FVpU5bSRVE"
      },
      "source": [
        "cost=torch.nn.BCELoss()\n",
        "optimizer = optim.SGD(model.parameters(), lr=0.01, momentum=0.0, nesterov=False)"
      ],
      "execution_count": null,
      "outputs": []
    },
    {
      "cell_type": "markdown",
      "metadata": {
        "id": "9P7oPGe3e093"
      },
      "source": [
        "# **Entrenamiento**"
      ]
    },
    {
      "cell_type": "code",
      "metadata": {
        "colab": {
          "base_uri": "https://localhost:8080/"
        },
        "id": "zYYxfTTzSSqQ",
        "outputId": "1aa652ba-16f5-4b40-eeb2-a94db261ba0c"
      },
      "source": [
        "number_of_epochs=100\n",
        "for epoch in range(number_of_epochs):\n",
        " y_prediction=model(X_train)\n",
        " loss=cost(y_prediction,y_train)\n",
        " loss.backward()\n",
        " optimizer.step()\n",
        " optimizer.zero_grad()\n",
        " if (epoch+1)%10 == 0:\n",
        "   print('epoch:', epoch+1,',loss=',loss.item())\n"
      ],
      "execution_count": null,
      "outputs": [
        {
          "output_type": "stream",
          "name": "stdout",
          "text": [
            "epoch: 10 ,loss= 0.7652053236961365\n",
            "epoch: 20 ,loss= 0.7427070140838623\n",
            "epoch: 30 ,loss= 0.7228108644485474\n",
            "epoch: 40 ,loss= 0.7050705552101135\n",
            "epoch: 50 ,loss= 0.6891393065452576\n",
            "epoch: 60 ,loss= 0.6747441291809082\n",
            "epoch: 70 ,loss= 0.6616668701171875\n",
            "epoch: 80 ,loss= 0.6497311592102051\n",
            "epoch: 90 ,loss= 0.6387930512428284\n",
            "epoch: 100 ,loss= 0.6287332773208618\n"
          ]
        }
      ]
    },
    {
      "cell_type": "code",
      "metadata": {
        "colab": {
          "base_uri": "https://localhost:8080/",
          "height": 329
        },
        "id": "puUlOGIWcL54",
        "outputId": "5275824c-98e6-4eac-9dff-40a5f682a623"
      },
      "source": [
        "def update_parameters(model, dataloader, optimizer, criterion, train=True):\n",
        "  running_loss = 0.0\n",
        "  for i, data in enumerate(dataloader, 0):\n",
        "    X, Y = data\n",
        "    n = len(X)\n",
        "    #X = X.reshape((n, model.in_features)) # -> Corrección de tamaño, sólo es necesario en dim=1\n",
        "    m = len(Y)\n",
        "    Y = Y.reshape((m, 1)) # -> Corrección de tamaño\n",
        "    if train:\n",
        "      optimizer.zero_grad() # reinicia el gradiente\n",
        "    pred = model(X) # forward pass \n",
        "    loss = cost(pred, Y) # evaluación de predicción\n",
        "    if train:\n",
        "      loss.backward() # cálcula las derivadas \n",
        "      optimizer.step() # paso de optimización \n",
        "\n",
        "    running_loss += loss.item()\n",
        "    avg_loss = running_loss/(i + 1)\n",
        "  return avg_loss\n",
        "train_losses = list(); val_losses = list()\n",
        "val = True\n",
        "for epoch in range(number_of_epochs):\n",
        "    train_loss = update_parameters(model, train_dataloader, optimizer, cost)\n",
        "    train_losses.append(train_loss)\n",
        "    if val:\n",
        "      val_loss = update_parameters(model, val_dataloader, None, cost, train=False)\n",
        "      val_losses.append(val_loss)\n",
        "\n",
        "plt.plot(train_losses)\n",
        "if val:\n",
        "    plt.plot(val_losses)\n",
        "    plt.legend(['train', 'val'], loc='upper right')\n",
        "plt.title('Cost vs epoch', size=24)\n",
        "plt.xlabel('epoch', size=18)\n",
        "plt.ylabel('cost', size=18)"
      ],
      "execution_count": null,
      "outputs": [
        {
          "output_type": "execute_result",
          "data": {
            "text/plain": [
              "Text(0, 0.5, 'cost')"
            ]
          },
          "metadata": {},
          "execution_count": 20
        },
        {
          "output_type": "display_data",
          "data": {
            "image/png": "[encoded data removed]",
            "text/plain": [
              "<Figure size 432x288 with 1 Axes>"
            ]
          },
          "metadata": {
            "needs_background": "light"
          }
        }
      ]
    },
    {
      "cell_type": "code",
      "metadata": {
        "colab": {
          "base_uri": "https://localhost:8080/"
        },
        "id": "yFJ95EODTeyq",
        "outputId": "d182c425-6867-4d12-90f3-7438266ed904"
      },
      "source": [
        "with torch.no_grad():\n",
        " y_pred=model(X_test)\n",
        " y_pred_class=y_pred.round()\n",
        " accuracy=(y_pred_class.eq(y_test).sum())/float(y_test.shape[0])\n",
        " print(accuracy.item())"
      ],
      "execution_count": null,
      "outputs": [
        {
          "output_type": "stream",
          "name": "stdout",
          "text": [
            "0.8090000152587891\n"
          ]
        }
      ]
    }
  ]
}